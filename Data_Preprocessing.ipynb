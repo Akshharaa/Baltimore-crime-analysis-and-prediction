{
 "cells": [
  {
   "cell_type": "code",
   "execution_count": 4,
   "id": "ff27f6e9",
   "metadata": {},
   "outputs": [],
   "source": [
    "import pandas as pd\n",
    "import numpy as np\n",
    "import seaborn as sns\n",
    "import matplotlib.pyplot as plt\n",
    "import warnings\n",
    "warnings.filterwarnings(\"ignore\")"
   ]
  },
  {
   "cell_type": "code",
   "execution_count": 5,
   "id": "3ac76b99",
   "metadata": {},
   "outputs": [
    {
     "data": {
      "text/html": [
       "<div>\n",
       "<style scoped>\n",
       "    .dataframe tbody tr th:only-of-type {\n",
       "        vertical-align: middle;\n",
       "    }\n",
       "\n",
       "    .dataframe tbody tr th {\n",
       "        vertical-align: top;\n",
       "    }\n",
       "\n",
       "    .dataframe thead th {\n",
       "        text-align: right;\n",
       "    }\n",
       "</style>\n",
       "<table border=\"1\" class=\"dataframe\">\n",
       "  <thead>\n",
       "    <tr style=\"text-align: right;\">\n",
       "      <th></th>\n",
       "      <th>X</th>\n",
       "      <th>Y</th>\n",
       "      <th>RowID</th>\n",
       "      <th>CCNumber</th>\n",
       "      <th>CrimeDateTime</th>\n",
       "      <th>CrimeCode</th>\n",
       "      <th>Description</th>\n",
       "      <th>Inside_Outside</th>\n",
       "      <th>Weapon</th>\n",
       "      <th>Post</th>\n",
       "      <th>...</th>\n",
       "      <th>Ethnicity</th>\n",
       "      <th>Location</th>\n",
       "      <th>Old_District</th>\n",
       "      <th>New_District</th>\n",
       "      <th>Neighborhood</th>\n",
       "      <th>Latitude</th>\n",
       "      <th>Longitude</th>\n",
       "      <th>GeoLocation</th>\n",
       "      <th>PremiseType</th>\n",
       "      <th>Total_Incidents</th>\n",
       "    </tr>\n",
       "  </thead>\n",
       "  <tbody>\n",
       "    <tr>\n",
       "      <th>0</th>\n",
       "      <td>-76.609534</td>\n",
       "      <td>39.318181</td>\n",
       "      <td>1</td>\n",
       "      <td>23D05796</td>\n",
       "      <td>2023/04/15 11:30:00+00</td>\n",
       "      <td>6F</td>\n",
       "      <td>LARCENY</td>\n",
       "      <td>Inside</td>\n",
       "      <td>NaN</td>\n",
       "      <td>513.0</td>\n",
       "      <td>...</td>\n",
       "      <td>NOT_HISPANIC_OR_LATINO</td>\n",
       "      <td>2500 GREENMOUNT AVE</td>\n",
       "      <td>NORTHERN</td>\n",
       "      <td>NaN</td>\n",
       "      <td>HARWOOD</td>\n",
       "      <td>39.318181</td>\n",
       "      <td>-76.609534</td>\n",
       "      <td>(39.318181000000003,-76.609533999999996)</td>\n",
       "      <td>STREET</td>\n",
       "      <td>1</td>\n",
       "    </tr>\n",
       "    <tr>\n",
       "      <th>1</th>\n",
       "      <td>-76.530961</td>\n",
       "      <td>39.310944</td>\n",
       "      <td>2</td>\n",
       "      <td>23D04902</td>\n",
       "      <td>2023/04/15 21:50:00+00</td>\n",
       "      <td>6C</td>\n",
       "      <td>LARCENY</td>\n",
       "      <td>Inside</td>\n",
       "      <td>NaN</td>\n",
       "      <td>441.0</td>\n",
       "      <td>...</td>\n",
       "      <td>NaN</td>\n",
       "      <td>1500 62ND ST</td>\n",
       "      <td>NORTHEAST</td>\n",
       "      <td>NaN</td>\n",
       "      <td>PULASKI INDUSTRIAL AREA</td>\n",
       "      <td>39.310944</td>\n",
       "      <td>-76.530961</td>\n",
       "      <td>(39.310943999999999,-76.530961000000005)</td>\n",
       "      <td>GAS STATION</td>\n",
       "      <td>1</td>\n",
       "    </tr>\n",
       "    <tr>\n",
       "      <th>2</th>\n",
       "      <td>-76.674519</td>\n",
       "      <td>39.313038</td>\n",
       "      <td>3</td>\n",
       "      <td>23D04906</td>\n",
       "      <td>2023/04/15 17:00:00+00</td>\n",
       "      <td>6D</td>\n",
       "      <td>LARCENY FROM AUTO</td>\n",
       "      <td>Inside</td>\n",
       "      <td>NaN</td>\n",
       "      <td>812.0</td>\n",
       "      <td>...</td>\n",
       "      <td>NOT_HISPANIC_OR_LATINO</td>\n",
       "      <td>3400 ELGIN AVE</td>\n",
       "      <td>SOUTHWEST</td>\n",
       "      <td>NaN</td>\n",
       "      <td>MOUNT HOLLY</td>\n",
       "      <td>39.313038</td>\n",
       "      <td>-76.674519</td>\n",
       "      <td>(39.313037999999999,-76.674519000000004)</td>\n",
       "      <td>STREET</td>\n",
       "      <td>1</td>\n",
       "    </tr>\n",
       "    <tr>\n",
       "      <th>3</th>\n",
       "      <td>-76.664090</td>\n",
       "      <td>39.337523</td>\n",
       "      <td>4</td>\n",
       "      <td>23D04912</td>\n",
       "      <td>2023/04/15 21:15:00+00</td>\n",
       "      <td>3AF</td>\n",
       "      <td>ROBBERY</td>\n",
       "      <td>Inside</td>\n",
       "      <td>HANDGUN</td>\n",
       "      <td>614.0</td>\n",
       "      <td>...</td>\n",
       "      <td>NOT_HISPANIC_OR_LATINO</td>\n",
       "      <td>2600 PARK HEIGHTS TER</td>\n",
       "      <td>NORTHWEST</td>\n",
       "      <td>NaN</td>\n",
       "      <td>CENTRAL PARK HEIGHTS</td>\n",
       "      <td>39.337523</td>\n",
       "      <td>-76.664090</td>\n",
       "      <td>(39.337522999999997,-76.664090000000002)</td>\n",
       "      <td>STREET</td>\n",
       "      <td>1</td>\n",
       "    </tr>\n",
       "    <tr>\n",
       "      <th>4</th>\n",
       "      <td>-76.661570</td>\n",
       "      <td>39.296418</td>\n",
       "      <td>5</td>\n",
       "      <td>23D03209</td>\n",
       "      <td>2023/04/11 09:25:00+00</td>\n",
       "      <td>4E</td>\n",
       "      <td>COMMON ASSAULT</td>\n",
       "      <td>Outside</td>\n",
       "      <td>PERSONAL_WEAPONS</td>\n",
       "      <td>721.0</td>\n",
       "      <td>...</td>\n",
       "      <td>NOT_HISPANIC_OR_LATINO</td>\n",
       "      <td>700 ASHBURTON ST</td>\n",
       "      <td>WESTERN</td>\n",
       "      <td>NaN</td>\n",
       "      <td>MOSHER</td>\n",
       "      <td>39.296418</td>\n",
       "      <td>-76.661570</td>\n",
       "      <td>(39.296418000000003,-76.661569999999998)</td>\n",
       "      <td>DRUG STORE / MED  BL</td>\n",
       "      <td>1</td>\n",
       "    </tr>\n",
       "  </tbody>\n",
       "</table>\n",
       "<p>5 rows × 23 columns</p>\n",
       "</div>"
      ],
      "text/plain": [
       "           X          Y  RowID  CCNumber           CrimeDateTime CrimeCode  \\\n",
       "0 -76.609534  39.318181      1  23D05796  2023/04/15 11:30:00+00        6F   \n",
       "1 -76.530961  39.310944      2  23D04902  2023/04/15 21:50:00+00        6C   \n",
       "2 -76.674519  39.313038      3  23D04906  2023/04/15 17:00:00+00        6D   \n",
       "3 -76.664090  39.337523      4  23D04912  2023/04/15 21:15:00+00       3AF   \n",
       "4 -76.661570  39.296418      5  23D03209  2023/04/11 09:25:00+00        4E   \n",
       "\n",
       "         Description Inside_Outside            Weapon   Post  ...  \\\n",
       "0            LARCENY         Inside               NaN  513.0  ...   \n",
       "1            LARCENY         Inside               NaN  441.0  ...   \n",
       "2  LARCENY FROM AUTO         Inside               NaN  812.0  ...   \n",
       "3            ROBBERY         Inside           HANDGUN  614.0  ...   \n",
       "4     COMMON ASSAULT        Outside  PERSONAL_WEAPONS  721.0  ...   \n",
       "\n",
       "                Ethnicity               Location Old_District New_District  \\\n",
       "0  NOT_HISPANIC_OR_LATINO    2500 GREENMOUNT AVE     NORTHERN          NaN   \n",
       "1                     NaN           1500 62ND ST    NORTHEAST          NaN   \n",
       "2  NOT_HISPANIC_OR_LATINO         3400 ELGIN AVE    SOUTHWEST          NaN   \n",
       "3  NOT_HISPANIC_OR_LATINO  2600 PARK HEIGHTS TER    NORTHWEST          NaN   \n",
       "4  NOT_HISPANIC_OR_LATINO       700 ASHBURTON ST      WESTERN          NaN   \n",
       "\n",
       "              Neighborhood   Latitude  Longitude  \\\n",
       "0                  HARWOOD  39.318181 -76.609534   \n",
       "1  PULASKI INDUSTRIAL AREA  39.310944 -76.530961   \n",
       "2              MOUNT HOLLY  39.313038 -76.674519   \n",
       "3     CENTRAL PARK HEIGHTS  39.337523 -76.664090   \n",
       "4                   MOSHER  39.296418 -76.661570   \n",
       "\n",
       "                                GeoLocation           PremiseType  \\\n",
       "0  (39.318181000000003,-76.609533999999996)                STREET   \n",
       "1  (39.310943999999999,-76.530961000000005)           GAS STATION   \n",
       "2  (39.313037999999999,-76.674519000000004)                STREET   \n",
       "3  (39.337522999999997,-76.664090000000002)                STREET   \n",
       "4  (39.296418000000003,-76.661569999999998)  DRUG STORE / MED  BL   \n",
       "\n",
       "   Total_Incidents  \n",
       "0                1  \n",
       "1                1  \n",
       "2                1  \n",
       "3                1  \n",
       "4                1  \n",
       "\n",
       "[5 rows x 23 columns]"
      ]
     },
     "execution_count": 5,
     "metadata": {},
     "output_type": "execute_result"
    }
   ],
   "source": [
    "crime_df=pd.read_csv(r'Part_1_Crime_Data.csv', low_memory=False)\n",
    "crime_df.head()"
   ]
  },
  {
   "cell_type": "code",
   "execution_count": 6,
   "id": "9ace5d19",
   "metadata": {},
   "outputs": [
    {
     "data": {
      "text/plain": [
       "(603894, 23)"
      ]
     },
     "execution_count": 6,
     "metadata": {},
     "output_type": "execute_result"
    }
   ],
   "source": [
    "crime_df.shape"
   ]
  },
  {
   "cell_type": "code",
   "execution_count": 7,
   "id": "a1c4595b",
   "metadata": {},
   "outputs": [
    {
     "name": "stdout",
     "output_type": "stream",
     "text": [
      "<class 'pandas.core.frame.DataFrame'>\n",
      "RangeIndex: 603894 entries, 0 to 603893\n",
      "Data columns (total 23 columns):\n",
      " #   Column           Non-Null Count   Dtype  \n",
      "---  ------           --------------   -----  \n",
      " 0   X                602888 non-null  float64\n",
      " 1   Y                602888 non-null  float64\n",
      " 2   RowID            603894 non-null  int64  \n",
      " 3   CCNumber         603894 non-null  object \n",
      " 4   CrimeDateTime    603894 non-null  object \n",
      " 5   CrimeCode        603894 non-null  object \n",
      " 6   Description      603894 non-null  object \n",
      " 7   Inside_Outside   550890 non-null  object \n",
      " 8   Weapon           146702 non-null  object \n",
      " 9   Post             595977 non-null  float64\n",
      " 10  Gender           507584 non-null  object \n",
      " 11  Age              486543 non-null  float64\n",
      " 12  Race             578124 non-null  object \n",
      " 13  Ethnicity        76269 non-null   object \n",
      " 14  Location         600484 non-null  object \n",
      " 15  Old_District     567502 non-null  object \n",
      " 16  New_District     28478 non-null   object \n",
      " 17  Neighborhood     595331 non-null  object \n",
      " 18  Latitude         602888 non-null  float64\n",
      " 19  Longitude        602888 non-null  float64\n",
      " 20  GeoLocation      603894 non-null  object \n",
      " 21  PremiseType      550554 non-null  object \n",
      " 22  Total_Incidents  603894 non-null  int64  \n",
      "dtypes: float64(6), int64(2), object(15)\n",
      "memory usage: 106.0+ MB\n"
     ]
    }
   ],
   "source": [
    "crime_df.info()"
   ]
  },
  {
   "cell_type": "code",
   "execution_count": 8,
   "id": "185fa953",
   "metadata": {},
   "outputs": [
    {
     "data": {
      "text/plain": [
       "0"
      ]
     },
     "execution_count": 8,
     "metadata": {},
     "output_type": "execute_result"
    }
   ],
   "source": [
    "crime_df.duplicated().sum()"
   ]
  },
  {
   "cell_type": "code",
   "execution_count": 9,
   "id": "142eb11c",
   "metadata": {},
   "outputs": [
    {
     "data": {
      "text/plain": [
       "X                    1006\n",
       "Y                    1006\n",
       "RowID                   0\n",
       "CCNumber                0\n",
       "CrimeDateTime           0\n",
       "CrimeCode               0\n",
       "Description             0\n",
       "Inside_Outside      53004\n",
       "Weapon             457192\n",
       "Post                 7917\n",
       "Gender              96310\n",
       "Age                117351\n",
       "Race                25770\n",
       "Ethnicity          527625\n",
       "Location             3410\n",
       "Old_District        36392\n",
       "New_District       575416\n",
       "Neighborhood         8563\n",
       "Latitude             1006\n",
       "Longitude            1006\n",
       "GeoLocation             0\n",
       "PremiseType         53340\n",
       "Total_Incidents         0\n",
       "dtype: int64"
      ]
     },
     "execution_count": 9,
     "metadata": {},
     "output_type": "execute_result"
    }
   ],
   "source": [
    "crime_df.isnull().sum()"
   ]
  },
  {
   "cell_type": "code",
   "execution_count": 10,
   "id": "c61dd208",
   "metadata": {},
   "outputs": [],
   "source": [
    "df=crime_df[['CrimeDateTime', 'Description', 'Inside_Outside', 'Weapon','Gender','Age','Race', 'Old_District', 'Neighborhood','Latitude','Longitude','PremiseType','Total_Incidents']]"
   ]
  },
  {
   "cell_type": "code",
   "execution_count": 11,
   "id": "773e3c97",
   "metadata": {},
   "outputs": [
    {
     "data": {
      "text/plain": [
       "(603894, 13)"
      ]
     },
     "execution_count": 11,
     "metadata": {},
     "output_type": "execute_result"
    }
   ],
   "source": [
    "df.shape"
   ]
  },
  {
   "cell_type": "code",
   "execution_count": 12,
   "id": "ce70ccb6",
   "metadata": {},
   "outputs": [
    {
     "data": {
      "text/plain": [
       "CrimeDateTime           0\n",
       "Description             0\n",
       "Inside_Outside      53004\n",
       "Weapon             457192\n",
       "Gender              96310\n",
       "Age                117351\n",
       "Race                25770\n",
       "Old_District        36392\n",
       "Neighborhood         8563\n",
       "Latitude             1006\n",
       "Longitude            1006\n",
       "PremiseType         53340\n",
       "Total_Incidents         0\n",
       "dtype: int64"
      ]
     },
     "execution_count": 12,
     "metadata": {},
     "output_type": "execute_result"
    }
   ],
   "source": [
    "df.isnull().sum()"
   ]
  },
  {
   "cell_type": "markdown",
   "id": "562cd939",
   "metadata": {},
   "source": [
    "#### Inside_Outside"
   ]
  },
  {
   "cell_type": "code",
   "execution_count": 13,
   "id": "152a96b3",
   "metadata": {},
   "outputs": [
    {
     "data": {
      "text/plain": [
       "array(['Inside', 'Outside', nan, 'O', 'I'], dtype=object)"
      ]
     },
     "execution_count": 13,
     "metadata": {},
     "output_type": "execute_result"
    }
   ],
   "source": [
    "df.Inside_Outside.unique()"
   ]
  },
  {
   "cell_type": "code",
   "execution_count": 14,
   "id": "f3aa3344",
   "metadata": {},
   "outputs": [],
   "source": [
    "df['Inside_Outside']=df['Inside_Outside'].replace({'O': 'Outside','I': 'Inside'})"
   ]
  },
  {
   "cell_type": "code",
   "execution_count": 15,
   "id": "29ce64de",
   "metadata": {},
   "outputs": [
    {
     "data": {
      "text/plain": [
       "Inside_Outside\n",
       "Outside    284058\n",
       "Inside     266832\n",
       "Name: count, dtype: int64"
      ]
     },
     "execution_count": 15,
     "metadata": {},
     "output_type": "execute_result"
    }
   ],
   "source": [
    "df.Inside_Outside.value_counts()"
   ]
  },
  {
   "cell_type": "code",
   "execution_count": 16,
   "id": "e1c41c58",
   "metadata": {},
   "outputs": [],
   "source": [
    "df = df.dropna(subset=['Inside_Outside'])"
   ]
  },
  {
   "cell_type": "markdown",
   "id": "1b6455f3",
   "metadata": {},
   "source": [
    "#### Weapon"
   ]
  },
  {
   "cell_type": "code",
   "execution_count": 17,
   "id": "d4a4c9c9",
   "metadata": {},
   "outputs": [
    {
     "data": {
      "text/plain": [
       "array([nan, 'HANDGUN', 'PERSONAL_WEAPONS', 'AUTOMATIC_HANDGUN',\n",
       "       'BLUNT_OBJECT', 'FIREARM', 'KNIFE_CUTTING_INSTRUMENT',\n",
       "       'MOTOR_VEHICLE_VESSEL', 'KNIFE', 'OTHER', 'HANDS', 'RIFLE', 'FIRE',\n",
       "       'UNKNOWN', 'ASPHYXIATION', 'AUTOMATIC_FIREARM', 'OTHER_FIREARM',\n",
       "       'POISON', 'SHOTGUN', 'AUTOMATIC_RIFLE', 'FIRE_INCENDIARY_DEVICE',\n",
       "       'EXPLOSIVES', 'AUTOMATIC_SHOTGUN',\n",
       "       'DRUGS_NARCOTICS_SLEEPING_PILLS'], dtype=object)"
      ]
     },
     "execution_count": 17,
     "metadata": {},
     "output_type": "execute_result"
    }
   ],
   "source": [
    "df.Weapon.unique()"
   ]
  },
  {
   "cell_type": "code",
   "execution_count": 18,
   "id": "af55e53f",
   "metadata": {},
   "outputs": [
    {
     "data": {
      "text/plain": [
       "414288"
      ]
     },
     "execution_count": 18,
     "metadata": {},
     "output_type": "execute_result"
    }
   ],
   "source": [
    "df.Weapon.isnull().sum()"
   ]
  },
  {
   "cell_type": "code",
   "execution_count": 19,
   "id": "e13a9972",
   "metadata": {},
   "outputs": [],
   "source": [
    "df['Weapon'].fillna('UNKNOWN', inplace=True)"
   ]
  },
  {
   "cell_type": "code",
   "execution_count": 20,
   "id": "2a4c9259",
   "metadata": {},
   "outputs": [
    {
     "data": {
      "text/plain": [
       "0"
      ]
     },
     "execution_count": 20,
     "metadata": {},
     "output_type": "execute_result"
    }
   ],
   "source": [
    "df.Weapon.isnull().sum()"
   ]
  },
  {
   "cell_type": "code",
   "execution_count": 21,
   "id": "c9b95254",
   "metadata": {},
   "outputs": [
    {
     "data": {
      "text/plain": [
       "Weapon\n",
       "UNKNOWN                           415327\n",
       "FIREARM                            42639\n",
       "PERSONAL_WEAPONS                   29542\n",
       "OTHER                              26995\n",
       "KNIFE                              15156\n",
       "HANDGUN                             6355\n",
       "HANDS                               6201\n",
       "KNIFE_CUTTING_INSTRUMENT            3246\n",
       "BLUNT_OBJECT                        2177\n",
       "FIRE                                2040\n",
       "MOTOR_VEHICLE_VESSEL                 458\n",
       "AUTOMATIC_HANDGUN                    128\n",
       "ASPHYXIATION                         126\n",
       "OTHER_FIREARM                        115\n",
       "RIFLE                                112\n",
       "SHOTGUN                               80\n",
       "FIRE_INCENDIARY_DEVICE                74\n",
       "AUTOMATIC_FIREARM                     61\n",
       "POISON                                29\n",
       "AUTOMATIC_RIFLE                       17\n",
       "DRUGS_NARCOTICS_SLEEPING_PILLS         5\n",
       "EXPLOSIVES                             4\n",
       "AUTOMATIC_SHOTGUN                      3\n",
       "Name: count, dtype: int64"
      ]
     },
     "execution_count": 21,
     "metadata": {},
     "output_type": "execute_result"
    }
   ],
   "source": [
    "df.Weapon.value_counts()"
   ]
  },
  {
   "cell_type": "markdown",
   "id": "53f67fe5",
   "metadata": {},
   "source": [
    "#### Gender"
   ]
  },
  {
   "cell_type": "code",
   "execution_count": 22,
   "id": "855c7815",
   "metadata": {},
   "outputs": [
    {
     "data": {
      "text/plain": [
       "array(['F', nan, 'M', 'Male', 'Female', 'U', 'FB', 'Transgende', 'B', ',',\n",
       "       'N', 'D', 'FW', 'FU', 'W', 'FF', 'T', 'M\\\\', '160', '042819', 'FM',\n",
       "       'A', '165', '17', '77', 'MB', '8', '120'], dtype=object)"
      ]
     },
     "execution_count": 22,
     "metadata": {},
     "output_type": "execute_result"
    }
   ],
   "source": [
    "df.Gender.unique()"
   ]
  },
  {
   "cell_type": "code",
   "execution_count": 23,
   "id": "d173befd",
   "metadata": {},
   "outputs": [],
   "source": [
    "df['Gender']=df['Gender'].replace({'F': 'Female', 'M':'Male','U':'Other', \n",
    "                                                    'FB':'Other', 'Transgende':'Other', 'B':'Other', ',':'Other',\n",
    "                                                    'N':'Other', 'D':'Other', 'FW':'Other', 'FU':'Other', 'W':'Other', \n",
    "                                                    'FF':'Other', 'T':'Other', 'M\\\\':'Other', '160':'Other', '042819':'Other', \n",
    "                                                    'FM':'Other','A':'Other', '165':'Other', '17':'Other', '77':'Other', \n",
    "                                                     'MB':'Other', '8':'Other', '120':'Other'})"
   ]
  },
  {
   "cell_type": "code",
   "execution_count": 24,
   "id": "b3c8059c",
   "metadata": {},
   "outputs": [
    {
     "data": {
      "text/plain": [
       "array(['Female', nan, 'Male', 'Other'], dtype=object)"
      ]
     },
     "execution_count": 24,
     "metadata": {},
     "output_type": "execute_result"
    }
   ],
   "source": [
    "df.Gender.unique()"
   ]
  },
  {
   "cell_type": "code",
   "execution_count": 25,
   "id": "6a0caa1d",
   "metadata": {},
   "outputs": [
    {
     "data": {
      "text/plain": [
       "83612"
      ]
     },
     "execution_count": 25,
     "metadata": {},
     "output_type": "execute_result"
    }
   ],
   "source": [
    "df.Gender.isnull().sum()"
   ]
  },
  {
   "cell_type": "code",
   "execution_count": 26,
   "id": "bd0148d0",
   "metadata": {},
   "outputs": [
    {
     "data": {
      "text/plain": [
       "Gender\n",
       "Female    234181\n",
       "Male      221806\n",
       "Other      11291\n",
       "Name: count, dtype: int64"
      ]
     },
     "execution_count": 26,
     "metadata": {},
     "output_type": "execute_result"
    }
   ],
   "source": [
    "df.Gender.value_counts()"
   ]
  },
  {
   "cell_type": "code",
   "execution_count": 27,
   "id": "a00faaa0",
   "metadata": {},
   "outputs": [],
   "source": [
    "df['Gender'].fillna('UNKNOWN', inplace=True)"
   ]
  },
  {
   "cell_type": "code",
   "execution_count": 28,
   "id": "69508303",
   "metadata": {},
   "outputs": [
    {
     "data": {
      "text/plain": [
       "Gender\n",
       "Female     234181\n",
       "Male       221806\n",
       "UNKNOWN     83612\n",
       "Other       11291\n",
       "Name: count, dtype: int64"
      ]
     },
     "execution_count": 28,
     "metadata": {},
     "output_type": "execute_result"
    }
   ],
   "source": [
    "df.Gender.value_counts()"
   ]
  },
  {
   "cell_type": "code",
   "execution_count": 29,
   "id": "62570db1",
   "metadata": {},
   "outputs": [
    {
     "data": {
      "text/plain": [
       "(550890, 13)"
      ]
     },
     "execution_count": 29,
     "metadata": {},
     "output_type": "execute_result"
    }
   ],
   "source": [
    "df.shape"
   ]
  },
  {
   "cell_type": "markdown",
   "id": "a1d79f56",
   "metadata": {},
   "source": [
    "#### Age"
   ]
  },
  {
   "cell_type": "code",
   "execution_count": 30,
   "id": "040869b4",
   "metadata": {},
   "outputs": [
    {
     "data": {
      "text/plain": [
       "True"
      ]
     },
     "execution_count": 30,
     "metadata": {},
     "output_type": "execute_result"
    }
   ],
   "source": [
    "(df.Age<0).any()"
   ]
  },
  {
   "cell_type": "code",
   "execution_count": 31,
   "id": "a6198d00",
   "metadata": {},
   "outputs": [
    {
     "data": {
      "text/plain": [
       "101900"
      ]
     },
     "execution_count": 31,
     "metadata": {},
     "output_type": "execute_result"
    }
   ],
   "source": [
    "df.Age.isnull().sum()"
   ]
  },
  {
   "cell_type": "code",
   "execution_count": 32,
   "id": "ee91e1ea",
   "metadata": {},
   "outputs": [
    {
     "data": {
      "text/plain": [
       "156"
      ]
     },
     "execution_count": 32,
     "metadata": {},
     "output_type": "execute_result"
    }
   ],
   "source": [
    "non_valid_age = (df['Age'] < 0) | (df['Age'] > 120)\n",
    "non_valid_age.sum()"
   ]
  },
  {
   "cell_type": "markdown",
   "id": "e665abd1",
   "metadata": {},
   "source": [
    "There are 101900 null values and also 156 invalid values for the Age column in the dataset. So, let us replace these values with mean Age."
   ]
  },
  {
   "cell_type": "code",
   "execution_count": 33,
   "id": "9a1b6dc3",
   "metadata": {},
   "outputs": [],
   "source": [
    "#Repalce null values with the mean age\n",
    "df['Age'].fillna(df[df['Age'] >= 1]['Age'].mean(), inplace=True)"
   ]
  },
  {
   "cell_type": "code",
   "execution_count": 34,
   "id": "8e9181dc",
   "metadata": {},
   "outputs": [
    {
     "data": {
      "text/plain": [
       "0"
      ]
     },
     "execution_count": 34,
     "metadata": {},
     "output_type": "execute_result"
    }
   ],
   "source": [
    "df.Age.isnull().sum()"
   ]
  },
  {
   "cell_type": "code",
   "execution_count": 35,
   "id": "a933a43a",
   "metadata": {},
   "outputs": [
    {
     "data": {
      "text/plain": [
       "38.153726268572534"
      ]
     },
     "execution_count": 35,
     "metadata": {},
     "output_type": "execute_result"
    }
   ],
   "source": [
    "mean_age = df[df['Age'] > 1]['Age'].mean()\n",
    "mean_age"
   ]
  },
  {
   "cell_type": "code",
   "execution_count": 36,
   "id": "1191d059",
   "metadata": {},
   "outputs": [
    {
     "name": "stdout",
     "output_type": "stream",
     "text": [
      "<class 'pandas.core.frame.DataFrame'>\n",
      "Index: 550890 entries, 0 to 603893\n",
      "Data columns (total 13 columns):\n",
      " #   Column           Non-Null Count   Dtype  \n",
      "---  ------           --------------   -----  \n",
      " 0   CrimeDateTime    550890 non-null  object \n",
      " 1   Description      550890 non-null  object \n",
      " 2   Inside_Outside   550890 non-null  object \n",
      " 3   Weapon           550890 non-null  object \n",
      " 4   Gender           550890 non-null  object \n",
      " 5   Age              550890 non-null  float64\n",
      " 6   Race             527227 non-null  object \n",
      " 7   Old_District     518562 non-null  object \n",
      " 8   Neighborhood     543220 non-null  object \n",
      " 9   Latitude         549953 non-null  float64\n",
      " 10  Longitude        549953 non-null  float64\n",
      " 11  PremiseType      550554 non-null  object \n",
      " 12  Total_Incidents  550890 non-null  int64  \n",
      "dtypes: float64(3), int64(1), object(9)\n",
      "memory usage: 58.8+ MB\n"
     ]
    }
   ],
   "source": [
    "df.info()"
   ]
  },
  {
   "cell_type": "code",
   "execution_count": 37,
   "id": "e608bedb",
   "metadata": {},
   "outputs": [
    {
     "name": "stdout",
     "output_type": "stream",
     "text": [
      "<class 'pandas.core.frame.DataFrame'>\n",
      "Index: 550734 entries, 0 to 603893\n",
      "Data columns (total 13 columns):\n",
      " #   Column           Non-Null Count   Dtype  \n",
      "---  ------           --------------   -----  \n",
      " 0   CrimeDateTime    550734 non-null  object \n",
      " 1   Description      550734 non-null  object \n",
      " 2   Inside_Outside   550734 non-null  object \n",
      " 3   Weapon           550734 non-null  object \n",
      " 4   Gender           550734 non-null  object \n",
      " 5   Age              550734 non-null  float64\n",
      " 6   Race             527076 non-null  object \n",
      " 7   Old_District     518408 non-null  object \n",
      " 8   Neighborhood     543066 non-null  object \n",
      " 9   Latitude         549797 non-null  float64\n",
      " 10  Longitude        549797 non-null  float64\n",
      " 11  PremiseType      550403 non-null  object \n",
      " 12  Total_Incidents  550734 non-null  int64  \n",
      "dtypes: float64(3), int64(1), object(9)\n",
      "memory usage: 58.8+ MB\n"
     ]
    }
   ],
   "source": [
    "df[~non_valid_age].info()"
   ]
  },
  {
   "cell_type": "code",
   "execution_count": 38,
   "id": "abda2bc6",
   "metadata": {},
   "outputs": [
    {
     "name": "stdout",
     "output_type": "stream",
     "text": [
      "<class 'pandas.core.frame.DataFrame'>\n",
      "Index: 550734 entries, 0 to 603893\n",
      "Data columns (total 13 columns):\n",
      " #   Column           Non-Null Count   Dtype  \n",
      "---  ------           --------------   -----  \n",
      " 0   CrimeDateTime    550734 non-null  object \n",
      " 1   Description      550734 non-null  object \n",
      " 2   Inside_Outside   550734 non-null  object \n",
      " 3   Weapon           550734 non-null  object \n",
      " 4   Gender           550734 non-null  object \n",
      " 5   Age              550734 non-null  float64\n",
      " 6   Race             527076 non-null  object \n",
      " 7   Old_District     518408 non-null  object \n",
      " 8   Neighborhood     543066 non-null  object \n",
      " 9   Latitude         549797 non-null  float64\n",
      " 10  Longitude        549797 non-null  float64\n",
      " 11  PremiseType      550403 non-null  object \n",
      " 12  Total_Incidents  550734 non-null  int64  \n",
      "dtypes: float64(3), int64(1), object(9)\n",
      "memory usage: 58.8+ MB\n"
     ]
    }
   ],
   "source": [
    "df=df[~non_valid_age]\n",
    "df.info()"
   ]
  },
  {
   "cell_type": "code",
   "execution_count": 39,
   "id": "86ac8646",
   "metadata": {},
   "outputs": [
    {
     "data": {
      "text/plain": [
       "CrimeDateTime          0\n",
       "Description            0\n",
       "Inside_Outside         0\n",
       "Weapon                 0\n",
       "Gender                 0\n",
       "Age                    0\n",
       "Race               23658\n",
       "Old_District       32326\n",
       "Neighborhood        7668\n",
       "Latitude             937\n",
       "Longitude            937\n",
       "PremiseType          331\n",
       "Total_Incidents        0\n",
       "dtype: int64"
      ]
     },
     "execution_count": 39,
     "metadata": {},
     "output_type": "execute_result"
    }
   ],
   "source": [
    "df.isnull().sum()"
   ]
  },
  {
   "cell_type": "code",
   "execution_count": 40,
   "id": "26a54a1c",
   "metadata": {},
   "outputs": [
    {
     "data": {
      "text/plain": [
       "CrimeDateTime       object\n",
       "Description         object\n",
       "Inside_Outside      object\n",
       "Weapon              object\n",
       "Gender              object\n",
       "Age                float64\n",
       "Race                object\n",
       "Old_District        object\n",
       "Neighborhood        object\n",
       "Latitude           float64\n",
       "Longitude          float64\n",
       "PremiseType         object\n",
       "Total_Incidents      int64\n",
       "dtype: object"
      ]
     },
     "execution_count": 40,
     "metadata": {},
     "output_type": "execute_result"
    }
   ],
   "source": [
    "df.dtypes"
   ]
  },
  {
   "cell_type": "code",
   "execution_count": 41,
   "id": "046ffa30",
   "metadata": {},
   "outputs": [],
   "source": [
    "df['Age']=df['Age'].astype(int)"
   ]
  },
  {
   "cell_type": "code",
   "execution_count": 42,
   "id": "2aad850b",
   "metadata": {},
   "outputs": [
    {
     "data": {
      "text/plain": [
       "CrimeDateTime       object\n",
       "Description         object\n",
       "Inside_Outside      object\n",
       "Weapon              object\n",
       "Gender              object\n",
       "Age                  int32\n",
       "Race                object\n",
       "Old_District        object\n",
       "Neighborhood        object\n",
       "Latitude           float64\n",
       "Longitude          float64\n",
       "PremiseType         object\n",
       "Total_Incidents      int64\n",
       "dtype: object"
      ]
     },
     "execution_count": 42,
     "metadata": {},
     "output_type": "execute_result"
    }
   ],
   "source": [
    "df.dtypes"
   ]
  },
  {
   "cell_type": "code",
   "execution_count": 43,
   "id": "2c112438",
   "metadata": {},
   "outputs": [
    {
     "data": {
      "text/plain": [
       "(550734, 13)"
      ]
     },
     "execution_count": 43,
     "metadata": {},
     "output_type": "execute_result"
    }
   ],
   "source": [
    "df.shape"
   ]
  },
  {
   "cell_type": "markdown",
   "id": "8544dc85",
   "metadata": {},
   "source": [
    "#### Race"
   ]
  },
  {
   "cell_type": "code",
   "execution_count": 44,
   "id": "a7c6667a",
   "metadata": {},
   "outputs": [
    {
     "data": {
      "text/plain": [
       "array(['WHITE', nan, 'BLACK_OR_AFRICAN_AMERICAN', 'UNKNOWN',\n",
       "       'AMERICAN_INDIAN_OR_ALASKA_NATIVE', 'ASIAN',\n",
       "       'NATIVE_HAWAIIAN_OR_OTHER_PACIFIC_ISLANDER'], dtype=object)"
      ]
     },
     "execution_count": 44,
     "metadata": {},
     "output_type": "execute_result"
    }
   ],
   "source": [
    "df.Race.unique()"
   ]
  },
  {
   "cell_type": "code",
   "execution_count": 45,
   "id": "314e6b2c",
   "metadata": {},
   "outputs": [
    {
     "data": {
      "text/plain": [
       "Race\n",
       "BLACK_OR_AFRICAN_AMERICAN                    295387\n",
       "WHITE                                        115488\n",
       "UNKNOWN                                      113184\n",
       "ASIAN                                          1793\n",
       "AMERICAN_INDIAN_OR_ALASKA_NATIVE                804\n",
       "NATIVE_HAWAIIAN_OR_OTHER_PACIFIC_ISLANDER       420\n",
       "Name: count, dtype: int64"
      ]
     },
     "execution_count": 45,
     "metadata": {},
     "output_type": "execute_result"
    }
   ],
   "source": [
    "df.Race.value_counts()"
   ]
  },
  {
   "cell_type": "code",
   "execution_count": 46,
   "id": "e9f2a811",
   "metadata": {},
   "outputs": [],
   "source": [
    "df['Race'].fillna('UNKNOWN', inplace=True)"
   ]
  },
  {
   "cell_type": "code",
   "execution_count": 47,
   "id": "0ee31021",
   "metadata": {},
   "outputs": [
    {
     "data": {
      "text/plain": [
       "Race\n",
       "BLACK_OR_AFRICAN_AMERICAN                    295387\n",
       "UNKNOWN                                      136842\n",
       "WHITE                                        115488\n",
       "ASIAN                                          1793\n",
       "AMERICAN_INDIAN_OR_ALASKA_NATIVE                804\n",
       "NATIVE_HAWAIIAN_OR_OTHER_PACIFIC_ISLANDER       420\n",
       "Name: count, dtype: int64"
      ]
     },
     "execution_count": 47,
     "metadata": {},
     "output_type": "execute_result"
    }
   ],
   "source": [
    "df.Race.value_counts()"
   ]
  },
  {
   "cell_type": "markdown",
   "id": "49f8a263",
   "metadata": {},
   "source": [
    "#### Old_District"
   ]
  },
  {
   "cell_type": "code",
   "execution_count": 48,
   "id": "898a6300",
   "metadata": {},
   "outputs": [
    {
     "data": {
      "text/plain": [
       "array(['NORTHERN', 'NORTHEAST', 'SOUTHWEST', 'NORTHWEST', 'WESTERN',\n",
       "       'CENTRAL', 'SOUTHEAST', 'EASTERN', 'SOUTHERN', nan], dtype=object)"
      ]
     },
     "execution_count": 48,
     "metadata": {},
     "output_type": "execute_result"
    }
   ],
   "source": [
    "df.Old_District.unique()"
   ]
  },
  {
   "cell_type": "code",
   "execution_count": 49,
   "id": "1bdfee2a",
   "metadata": {},
   "outputs": [
    {
     "data": {
      "text/plain": [
       "Old_District\n",
       "NORTHEAST    79362\n",
       "SOUTHEAST    71196\n",
       "CENTRAL      60535\n",
       "SOUTHERN     59559\n",
       "NORTHERN     55843\n",
       "NORTHWEST    52787\n",
       "SOUTHWEST    52045\n",
       "EASTERN      45362\n",
       "WESTERN      41719\n",
       "Name: count, dtype: int64"
      ]
     },
     "execution_count": 49,
     "metadata": {},
     "output_type": "execute_result"
    }
   ],
   "source": [
    "df.Old_District.value_counts()"
   ]
  },
  {
   "cell_type": "code",
   "execution_count": 50,
   "id": "8faf4979",
   "metadata": {},
   "outputs": [
    {
     "data": {
      "text/plain": [
       "32326"
      ]
     },
     "execution_count": 50,
     "metadata": {},
     "output_type": "execute_result"
    }
   ],
   "source": [
    "df.Old_District.isnull().sum()"
   ]
  },
  {
   "cell_type": "code",
   "execution_count": 51,
   "id": "cd8c97cf",
   "metadata": {},
   "outputs": [],
   "source": [
    "#df = df.dropna(subset=['Old_District'])\n",
    "df['Old_District'].fillna('UNKNOWN', inplace=True)"
   ]
  },
  {
   "cell_type": "code",
   "execution_count": 52,
   "id": "58eea76a",
   "metadata": {},
   "outputs": [
    {
     "data": {
      "text/plain": [
       "(550734, 13)"
      ]
     },
     "execution_count": 52,
     "metadata": {},
     "output_type": "execute_result"
    }
   ],
   "source": [
    "df.shape"
   ]
  },
  {
   "cell_type": "markdown",
   "id": "ae453359",
   "metadata": {},
   "source": [
    "#### Neighborhood"
   ]
  },
  {
   "cell_type": "code",
   "execution_count": 53,
   "id": "d9431da7",
   "metadata": {},
   "outputs": [
    {
     "data": {
      "text/plain": [
       "array(['HARWOOD', 'PULASKI INDUSTRIAL AREA', 'MOUNT HOLLY',\n",
       "       'CENTRAL PARK HEIGHTS', 'MOSHER', 'MID-TOWN BELVEDERE',\n",
       "       'BALTIMORE HIGHLANDS', 'DOWNTOWN', 'OLDTOWN', 'CHERRY HILL',\n",
       "       'YALE HEIGHTS', 'CEDMONT', 'LAKELAND', 'FRANKFORD', 'FELLS POINT',\n",
       "       'ROSEMONT HOMEOWNERS/TENANTS', 'BOLTON HILL', 'WAVERLY',\n",
       "       'IRVINGTON', 'CANTON', 'PATTERSON PLACE', 'MORRELL PARK',\n",
       "       'MORAVIA-WALTHER', 'SANDTOWN-WINCHESTER', 'CANTON INDUSTRIAL AREA',\n",
       "       'MADISON-EASTEND', 'PENROSE/FAYETTE STREET OUTREACH',\n",
       "       'FRANKLIN SQUARE', 'WOODMERE', 'GWYNNS FALLS', 'WINSTON-GOVANS',\n",
       "       'ORANGEVILLE INDUSTRIAL AREA', 'BURLEITH-LEIGHTON',\n",
       "       'HAMILTON HILLS', 'EAST BALTIMORE MIDWAY', 'HANLON-LONGWOOD',\n",
       "       'HUNTING RIDGE', 'GARWYN OAKS', 'VIOLETVILLE', \"BUTCHER'S HILL\",\n",
       "       'PORT COVINGTON', 'CURTIS BAY', 'OLD GOUCHER', 'WINCHESTER',\n",
       "       'MILLHILL', 'SETON HILL', 'LOCH RAVEN', 'WALTHERSON',\n",
       "       'CARROLL - CAMDEN INDUSTRIAL AREA', 'NORTH HARFORD ROAD',\n",
       "       'LUCILLE PARK', 'NEW NORTHWOOD', 'CARE', 'GLEN', 'GLEN OAKS',\n",
       "       'NORTHWEST COMMUNITY ACTION', 'MIDDLE EAST', 'BROOKLYN',\n",
       "       'COLDSTREAM HOMESTEAD MONTEBELLO', 'DRUID HEIGHTS', 'IDLEWOOD',\n",
       "       'DUNBAR-BROADWAY', 'HAMPDEN', 'OAKLEE', 'PARK CIRCLE', 'RIVERSIDE',\n",
       "       'UPPER FELLS POINT', 'PATTERSON PARK NEIGHBORHOOD', 'HARLEM PARK',\n",
       "       'EDNOR GARDENS-LAKESIDE', 'SAINT JOSEPHS', 'PARKSIDE',\n",
       "       'LOWER EDMONDSON VILLAGE', 'BELAIR-EDISON', 'DICKEYVILLE', 'UPTON',\n",
       "       'WASHINGTON VILLAGE/PIGTOWN', 'GREENMOUNT WEST', 'FEDERAL HILL',\n",
       "       'HILLEN', 'PEN LUCY', 'PARKLANE', 'HIGHLANDTOWN', 'BETTER WAVERLY',\n",
       "       'WOODBOURNE HEIGHTS', 'HOWARD PARK', 'PLEASANT VIEW GARDENS',\n",
       "       'ABELL', 'JOHNSTON SQUARE', 'ARLINGTON', nan, 'CALLAWAY-GARRISON',\n",
       "       'POPPLETON', 'FRANKLINTOWN ROAD', 'REMINGTON',\n",
       "       'CONCERNED CITIZENS OF FOREST PARK', 'CEDONIA', 'LOCUST POINT',\n",
       "       'WESTGATE', 'MOUNT VERNON', 'ALLENDALE', 'ELLWOOD PARK/MONUMENT',\n",
       "       'MONTEBELLO', 'SOUTH BALTIMORE', 'HOMELAND', 'CYLBURN',\n",
       "       'CHARLES NORTH', 'ASHBURTON', 'DARLEY PARK', 'MONDAWMIN',\n",
       "       'CHARLES VILLAGE', 'ORCHARD RIDGE', 'GREEKTOWN', 'ROLAND PARK',\n",
       "       'INNER HARBOR', 'MADISON PARK', 'KRESSON', 'HOLLINS MARKET',\n",
       "       'ROGNEL HEIGHTS', \"RIDGELY'S DELIGHT\", 'WILSON PARK',\n",
       "       'MIDDLE BRANCH/REEDBIRD PARKS', 'WOODBERRY', 'OTTERBEIN',\n",
       "       'GREENSPRING', 'PARKVIEW/WOODBROOK', 'CARROLL-SOUTH HILTON',\n",
       "       'MCELDERRY PARK', 'BROADWAY EAST', 'FALLSTAFF',\n",
       "       'FOREST PARK GOLF COURSE', 'NEW SOUTHWEST/MOUNT CLARE',\n",
       "       'MID-GOVANS', 'ROSEMONT', 'GLENHAM-BELHAR', 'EDGEWOOD',\n",
       "       'LIBERTY SQUARE', 'COLDSPRING', 'OLIVER', 'SHARP-LEADENHALL',\n",
       "       'WRENLANE', 'SHIPLEY HILL', 'CARROLLTON RIDGE', 'SAINT AGNES',\n",
       "       'SETON BUSINESS PARK', 'BRIDGEVIEW/GREENLAWN', 'PERRING LOCH',\n",
       "       'SOUTH CLIFTON PARK', 'UNIVERSITY OF MARYLAND', 'WEST HILLS',\n",
       "       'EASTERWOOD', 'CAMERON VILLAGE', 'WASHINGTON HILL',\n",
       "       'RESERVOIR HILL', 'HOPKINS BAYVIEW', 'WEST FOREST PARK',\n",
       "       'MOUNT WASHINGTON', 'COPPIN HEIGHTS/ASH-CO-EAST', 'BOYD-BOOTH',\n",
       "       'PENN NORTH', 'MILTON-MONTFORD', 'WOODBOURNE-MCCABE', 'WALBROOK',\n",
       "       'UNION SQUARE', 'DORCHESTER', 'CHESWOLDE', 'EVERGREEN LAWN',\n",
       "       'FOREST PARK', 'RADNOR-WINSTON', 'LOCUST POINT INDUSTRIAL AREA',\n",
       "       'BEVERLY HILLS', 'WYMAN PARK', 'STADIUM AREA', 'BEREA',\n",
       "       'DOWNTOWN WEST', 'GAY STREET', 'BEECHFIELD', 'MIDTOWN-EDMONDSON',\n",
       "       'CROSS COUNTRY', 'LAKE WALKER', 'FRANKLINTOWN',\n",
       "       'PIMLICO GOOD NEIGHBORS', 'BIDDLE STREET', 'WESTFIELD',\n",
       "       'EDMONDSON VILLAGE', 'CLIFTON PARK', 'BREWERS HILL',\n",
       "       'FAIRFIELD AREA', 'FAIRMONT', 'ORANGEVILLE', 'BROENING MANOR',\n",
       "       'GUILFORD', 'RAMBLEWOOD', 'GROVE PARK', 'TOWANDA-GRANTLEY',\n",
       "       'BARRE CIRCLE', 'DOLFIELD', 'ARCADIA', 'BAYVIEW', 'WEST ARLINGTON',\n",
       "       'BARCLAY', 'WYNDHURST', 'WESTPORT', 'GRACELAND PARK',\n",
       "       'PERKINS HOMES', 'JONESTOWN', 'PENN-FALLSWAY', 'EAST ARLINGTON',\n",
       "       'WAKEFIELD', 'FOUR BY FOUR', 'BELVEDERE', 'LAURAVILLE',\n",
       "       'ORIGINAL NORTHWOOD', 'NORTH ROLAND PARK/POPLAR HILL',\n",
       "       'JONES FALLS AREA', 'LANGSTON HUGHES', 'SAINT PAUL', 'LEVINDALE',\n",
       "       'TUSCANY-CANTERBURY', 'KENILWORTH PARK', 'CHINQUAPIN PARK',\n",
       "       'LITTLE ITALY', 'GWYNNS FALLS/LEAKIN PARK', 'ARMISTEAD GARDENS',\n",
       "       'RICHNOR SPRINGS', 'PANWAY/BRADDISH AVENUE', 'MEDFORD',\n",
       "       'REISTERSTOWN STATION', 'TEN HILLS', 'HERITAGE CROSSING',\n",
       "       'MEDFIELD', 'MORGAN STATE UNIVERSITY', 'JOHNS HOPKINS HOMEWOOD',\n",
       "       'YORK-HOMELAND', 'HOLABIRD INDUSTRIAL PARK',\n",
       "       'STONEWOOD-PENTWOOD-WINSTON', 'HOES HEIGHTS', 'ROSEMONT EAST',\n",
       "       'TREMONT', 'OVERLEA', 'ROSEBANK', 'PATTERSON PARK',\n",
       "       \"O'DONNELL HEIGHTS\", 'MOUNT WINANS', 'CENTRAL FOREST PARK',\n",
       "       'MAYFIELD', 'WINDSOR HILLS', 'HAWKINS POINT', 'BELAIR-PARKSIDE',\n",
       "       'EVESHAM PARK', 'CEDARCROFT', 'SAINT HELENA',\n",
       "       'LOWER HERRING RUN PARK', 'MORGAN PARK', 'CARROLL PARK',\n",
       "       'KERNEWOOD', 'GREENMOUNT CEMETERY', 'DRUID HILL PARK',\n",
       "       'OAKENSHAWE', 'PURNELL', 'THE ORCHARDS', 'LOYOLA/NOTRE DAME',\n",
       "       'EASTWOOD', 'EVERGREEN', 'LAKE EVESHAM', 'TAYLOR HEIGHTS',\n",
       "       'WILHELM PARK', 'KESWICK', 'CURTIS BAY INDUSTRIAL AREA', 'UPLANDS',\n",
       "       'BELLONA-GITTINGS', 'CROSS KEYS', 'SABINA-MATTFELDT',\n",
       "       'SPRING GARDEN INDUSTRIAL AREA', 'VILLAGES OF HOMELAND',\n",
       "       'HERRING RUN PARK', 'DUNDALK MARINE TERMINAL', 'Idlewood',\n",
       "       'Howard Park', 'Gay Street', 'Uplands',\n",
       "       'Penrose/Fayette Street Outreach', \"Butcher's Hill\", 'Westgate',\n",
       "       'Edmondson Village', 'Barre Circle', 'Walbrook', 'Perring Loch',\n",
       "       'Upton', 'Cameron Village', 'Gwynns Falls', 'Upper Fells Point',\n",
       "       'Canton', 'Hollins Market', 'Ellwood Park/Monument', 'Beechfield',\n",
       "       'Lauraville', 'Barclay', 'Central Park Heights', 'Arlington',\n",
       "       'Cedonia', 'Milton-Montford', 'Pulaski Industrial Area',\n",
       "       'New Northwood', 'Shipley Hill', 'Parkside', 'Frankford',\n",
       "       'Loch Raven', 'Glen Oaks', 'Greektown', 'Mount Washington',\n",
       "       'Windsor Hills', 'Glenham-Belhar', 'Madison Park', 'Waltherson',\n",
       "       'Sandtown-Winchester', 'Winchester', 'Belair-Edison', 'Cedmont',\n",
       "       'MT PLEASANT PARK', 'BLYTHEWOOD', 'Garwyn Oaks',\n",
       "       'Mid-Town Belvedere', 'Saint Josephs', 'Hawkins Point',\n",
       "       'Middle Branch/Reedbird Parks', 'Union Square', 'Woodmere',\n",
       "       'Rognel Heights', 'Middle East', 'Hopkins Bayview',\n",
       "       'Penn-Fallsway', 'Franklintown', 'New Southwest/Mount Clare',\n",
       "       'Downtown'], dtype=object)"
      ]
     },
     "execution_count": 53,
     "metadata": {},
     "output_type": "execute_result"
    }
   ],
   "source": [
    "df.Neighborhood.unique()"
   ]
  },
  {
   "cell_type": "code",
   "execution_count": 54,
   "id": "ba47b375",
   "metadata": {},
   "outputs": [
    {
     "data": {
      "text/plain": [
       "7668"
      ]
     },
     "execution_count": 54,
     "metadata": {},
     "output_type": "execute_result"
    }
   ],
   "source": [
    "df.Neighborhood.isnull().sum()"
   ]
  },
  {
   "cell_type": "code",
   "execution_count": 55,
   "id": "22203331",
   "metadata": {},
   "outputs": [],
   "source": [
    "#df = df.dropna(subset=['Neighborhood'])\n",
    "df['Neighborhood'].fillna('UNKNOWN', inplace=True)"
   ]
  },
  {
   "cell_type": "code",
   "execution_count": 56,
   "id": "0286ce0b",
   "metadata": {},
   "outputs": [
    {
     "data": {
      "text/plain": [
       "(550734, 13)"
      ]
     },
     "execution_count": 56,
     "metadata": {},
     "output_type": "execute_result"
    }
   ],
   "source": [
    "df.shape"
   ]
  },
  {
   "cell_type": "code",
   "execution_count": 57,
   "id": "4d407851",
   "metadata": {},
   "outputs": [
    {
     "data": {
      "text/plain": [
       "CrimeDateTime        0\n",
       "Description          0\n",
       "Inside_Outside       0\n",
       "Weapon               0\n",
       "Gender               0\n",
       "Age                  0\n",
       "Race                 0\n",
       "Old_District         0\n",
       "Neighborhood         0\n",
       "Latitude           937\n",
       "Longitude          937\n",
       "PremiseType        331\n",
       "Total_Incidents      0\n",
       "dtype: int64"
      ]
     },
     "execution_count": 57,
     "metadata": {},
     "output_type": "execute_result"
    }
   ],
   "source": [
    "df.isnull().sum()"
   ]
  },
  {
   "cell_type": "markdown",
   "id": "7765a8df",
   "metadata": {},
   "source": [
    "#### PremiseType"
   ]
  },
  {
   "cell_type": "code",
   "execution_count": 58,
   "id": "3416af61",
   "metadata": {},
   "outputs": [
    {
     "data": {
      "text/plain": [
       "array(['STREET', 'GAS STATION', 'DRUG STORE / MED  BL', 'HOTEL/MOTEL',\n",
       "       'OTHER/RESIDENTIAL', 'SCHOOL', 'CONVENIENCE STORE',\n",
       "       'OFFICE BUILDING', 'SPECIALTY STORE', 'PUBLIC AREA', 'SHED/GARAGE',\n",
       "       'RESTAURANT', 'TAVERN/NIGHT CLUB', 'OTHER - OUTSIDE     ',\n",
       "       'STREET              ', 'APT/CONDO - OCCUPIED',\n",
       "       'GAS STATION         ', 'ROW/TOWNHOUSE-OCC',\n",
       "       'BUS/RAILROAD STATION', 'YARD', 'HOSP/NURS. HOME',\n",
       "       'GARAGE ON PRIV. PROP', 'MARKET STALLS       ', 'ALLEY',\n",
       "       'ROW/TOWNHOUSE-VAC', 'HOSPITAL', 'SCHOOL              ',\n",
       "       'INNER HARBOR-S-KEY  ', 'CLOTHING/SHOE STORE ',\n",
       "       'ATM MACHINES        ', 'RETAIL/SMALL BUSINES', 'PUBLIC BUILDING',\n",
       "       'RELIGIOUS  INSTITUTI', 'LIQUOR STORE', 'OTHER - INSIDE      ',\n",
       "       'PARKING LOT-OUTSIDE ', 'GROCERY/CONFECTION', 'DWELLING',\n",
       "       'SHOPPING MALLS/CNTR ', 'PARK', 'VACANT BUILDING',\n",
       "       'GROCERY/CONFECTION ', 'CARRY OUT', 'UNKNOWN', 'CONSTRUCTION SITE',\n",
       "       'PORCH/DECK          ', 'TAVERN/NIGHT CLUB   ', 'STADIUM',\n",
       "       'SHOPPING MALLS/CNTR', 'SPECIALTY STORE     ', 'DEPARTMENT STORE',\n",
       "       'YARD/BUSINESS', 'BUS/AUTO            ', 'OTHER - OUTSIDE',\n",
       "       'TRACTOR TRAILER     ', 'LAUNDRY/CLEANRS/SHOE',\n",
       "       'LIQUOR STORE        ', 'VACANT LOT/WOODS', 'PARKING LOT',\n",
       "       'BARBER/BEAUTY SHOP  ', 'PUBLIC HOUSING', 'BANK/FINANCIAL INST',\n",
       "       'OTHER - INSIDE', 'FAST FOOD', 'DRIVEWAY', 'HOTEL/MOTEL         ',\n",
       "       'APARTMENT HALLWAY   ', 'VEHICLE', 'WAREHOUSE           ',\n",
       "       'AUTO PARTS STORE    ', 'PARKING LOT-OUTSIDE', 'SUBWAY',\n",
       "       'MINI STORAGE LOCKERS', 'CLUB HOUSE/FRATERNIT', 'CAR LOT-NEW/USED',\n",
       "       'SINGLE HOUSE', 'BUS. PARK LOT-OUTSID', 'APT. LOCKER/LAUNDRY',\n",
       "       'DOCTORS OFFICE      ', 'CAR  REPAIR SHOP    ', 'RACE TRACK',\n",
       "       'CHAIN FOOD STORE    ', 'THEATRE             ', 'BAR',\n",
       "       'LIGHT RAIL          ', 'COURT HOUSE         ',\n",
       "       'PARKING LOT-INSIDE  ', 'VACANT LOT/WOODS    ', 'COMMON BUSINESS',\n",
       "       'FIRE DEPARTMENT     ', 'INNER HARBOR-N-PRATT',\n",
       "       'JEWELRY STORE       ', 'SUBWAY              ',\n",
       "       'RECREATION FACILITY', 'RAILROAD CAR/YARD   ',\n",
       "       'WHOLESALE/DISC. STOR', 'STADIUM             ',\n",
       "       'HOUSE UNDER CONSTRUC', 'SCHOOL PLAYGROUND   ', 'MTA LOT',\n",
       "       'CONVENTION CENTER', 'BOAT YARD', 'SKYWALK             ',\n",
       "       'CEMETERY            ', 'HARDWARE/BLDG. SUP. ',\n",
       "       'RENTAL/VIDEO STORE  ', 'PAWN SHOP           ',\n",
       "       'PIZZA/OTHER DELIVERY', 'RACE TRACK          ', 'CHURCH',\n",
       "       'APT/CONDO - VACANT', 'POOL/BOWLING/AMUSE. ',\n",
       "       'LIBRARY             ', 'PORCH/DECK', 'WAREHOUSE',\n",
       "       'POOL/BOWLING/AMUSE.', 'ATM MACHINES', 'PENITENTIARY/JAIL',\n",
       "       'NIGHT DEPOSIT', 'POLICE DEPARTMENT   ', 'SALESMAN/COLLECTORS ',\n",
       "       'CAB', 'BAKERY              ', 'VACANT DWELLING', 'PUBLIC SCHOOL',\n",
       "       'SHED', 'GARAGE', 'COURT HOUSE', 'PRIVATE SCHOOL',\n",
       "       'DAY CARE FACILITY', 'SCHOOL PLAYGROUND', 'BUS/AUTO',\n",
       "       'PARKING LOT-INSIDE', 'AUTO PARTS STORE', 'CLOTHING/SHOE STORE',\n",
       "       'CHAIN FOOD STORE', 'BARBER/BEAUTY SHOP', 'POLICE DEPARTMENT',\n",
       "       'CAR  REPAIR SHOP', 'PLAYGROUND/ATHLETIC ', 'APARTMENT HALLWAY',\n",
       "       'INNER HARBOR-S-KEY', 'MARKET STALLS', 'BAKERY', 'DOCTORS OFFICE',\n",
       "       'HARDWARE/BLDG. SUP.', 'FIRE DEPARTMENT', 'RENTAL/VIDEO STORE',\n",
       "       'TRUCK DRIVERS-OIL-  ', 'BUS. PARK LOT-INSIDE',\n",
       "       'STRUCTURE-OCCUPIED  ', 'BOAT/SHIP           ',\n",
       "       'MAILBOX-STREET/RES. ', 'INNER HARBOR-W-LIGHT',\n",
       "       'BLDG UNDER CONST.', 'MOBILE HOME', 'BUS.  STORAGE SHED',\n",
       "       'PENITENTIARY/JAIL   ', 'BRIDGE-PIERS-DOCKS  ',\n",
       "       'FINANCE/LOAN COMPANY', 'UTILITIES-BG&E-C&P  ',\n",
       "       'MANUFACTURING PLANT ', 'PHOTO STUDIO/CAMERA ', nan,\n",
       "       'TRUCKING & TRANSFER ', \"BOX CARS/COMM'L TRLR\", 'ARENA'],\n",
       "      dtype=object)"
      ]
     },
     "execution_count": 58,
     "metadata": {},
     "output_type": "execute_result"
    }
   ],
   "source": [
    "df.PremiseType.unique()"
   ]
  },
  {
   "cell_type": "code",
   "execution_count": 59,
   "id": "f47d7d77",
   "metadata": {},
   "outputs": [],
   "source": [
    "df['PremiseType'] = df['PremiseType'].str.strip()"
   ]
  },
  {
   "cell_type": "code",
   "execution_count": 60,
   "id": "86614ed0",
   "metadata": {},
   "outputs": [
    {
     "data": {
      "text/plain": [
       "array(['STREET', 'GAS STATION', 'DRUG STORE / MED  BL', 'HOTEL/MOTEL',\n",
       "       'OTHER/RESIDENTIAL', 'SCHOOL', 'CONVENIENCE STORE',\n",
       "       'OFFICE BUILDING', 'SPECIALTY STORE', 'PUBLIC AREA', 'SHED/GARAGE',\n",
       "       'RESTAURANT', 'TAVERN/NIGHT CLUB', 'OTHER - OUTSIDE',\n",
       "       'APT/CONDO - OCCUPIED', 'ROW/TOWNHOUSE-OCC',\n",
       "       'BUS/RAILROAD STATION', 'YARD', 'HOSP/NURS. HOME',\n",
       "       'GARAGE ON PRIV. PROP', 'MARKET STALLS', 'ALLEY',\n",
       "       'ROW/TOWNHOUSE-VAC', 'HOSPITAL', 'INNER HARBOR-S-KEY',\n",
       "       'CLOTHING/SHOE STORE', 'ATM MACHINES', 'RETAIL/SMALL BUSINES',\n",
       "       'PUBLIC BUILDING', 'RELIGIOUS  INSTITUTI', 'LIQUOR STORE',\n",
       "       'OTHER - INSIDE', 'PARKING LOT-OUTSIDE', 'GROCERY/CONFECTION',\n",
       "       'DWELLING', 'SHOPPING MALLS/CNTR', 'PARK', 'VACANT BUILDING',\n",
       "       'CARRY OUT', 'UNKNOWN', 'CONSTRUCTION SITE', 'PORCH/DECK',\n",
       "       'STADIUM', 'DEPARTMENT STORE', 'YARD/BUSINESS', 'BUS/AUTO',\n",
       "       'TRACTOR TRAILER', 'LAUNDRY/CLEANRS/SHOE', 'VACANT LOT/WOODS',\n",
       "       'PARKING LOT', 'BARBER/BEAUTY SHOP', 'PUBLIC HOUSING',\n",
       "       'BANK/FINANCIAL INST', 'FAST FOOD', 'DRIVEWAY',\n",
       "       'APARTMENT HALLWAY', 'VEHICLE', 'WAREHOUSE', 'AUTO PARTS STORE',\n",
       "       'SUBWAY', 'MINI STORAGE LOCKERS', 'CLUB HOUSE/FRATERNIT',\n",
       "       'CAR LOT-NEW/USED', 'SINGLE HOUSE', 'BUS. PARK LOT-OUTSID',\n",
       "       'APT. LOCKER/LAUNDRY', 'DOCTORS OFFICE', 'CAR  REPAIR SHOP',\n",
       "       'RACE TRACK', 'CHAIN FOOD STORE', 'THEATRE', 'BAR', 'LIGHT RAIL',\n",
       "       'COURT HOUSE', 'PARKING LOT-INSIDE', 'COMMON BUSINESS',\n",
       "       'FIRE DEPARTMENT', 'INNER HARBOR-N-PRATT', 'JEWELRY STORE',\n",
       "       'RECREATION FACILITY', 'RAILROAD CAR/YARD', 'WHOLESALE/DISC. STOR',\n",
       "       'HOUSE UNDER CONSTRUC', 'SCHOOL PLAYGROUND', 'MTA LOT',\n",
       "       'CONVENTION CENTER', 'BOAT YARD', 'SKYWALK', 'CEMETERY',\n",
       "       'HARDWARE/BLDG. SUP.', 'RENTAL/VIDEO STORE', 'PAWN SHOP',\n",
       "       'PIZZA/OTHER DELIVERY', 'CHURCH', 'APT/CONDO - VACANT',\n",
       "       'POOL/BOWLING/AMUSE.', 'LIBRARY', 'PENITENTIARY/JAIL',\n",
       "       'NIGHT DEPOSIT', 'POLICE DEPARTMENT', 'SALESMAN/COLLECTORS', 'CAB',\n",
       "       'BAKERY', 'VACANT DWELLING', 'PUBLIC SCHOOL', 'SHED', 'GARAGE',\n",
       "       'PRIVATE SCHOOL', 'DAY CARE FACILITY', 'PLAYGROUND/ATHLETIC',\n",
       "       'TRUCK DRIVERS-OIL-', 'BUS. PARK LOT-INSIDE', 'STRUCTURE-OCCUPIED',\n",
       "       'BOAT/SHIP', 'MAILBOX-STREET/RES.', 'INNER HARBOR-W-LIGHT',\n",
       "       'BLDG UNDER CONST.', 'MOBILE HOME', 'BUS.  STORAGE SHED',\n",
       "       'BRIDGE-PIERS-DOCKS', 'FINANCE/LOAN COMPANY', 'UTILITIES-BG&E-C&P',\n",
       "       'MANUFACTURING PLANT', 'PHOTO STUDIO/CAMERA', nan,\n",
       "       'TRUCKING & TRANSFER', \"BOX CARS/COMM'L TRLR\", 'ARENA'],\n",
       "      dtype=object)"
      ]
     },
     "execution_count": 60,
     "metadata": {},
     "output_type": "execute_result"
    }
   ],
   "source": [
    "df.PremiseType.unique()"
   ]
  },
  {
   "cell_type": "code",
   "execution_count": 61,
   "id": "bb677d92",
   "metadata": {},
   "outputs": [
    {
     "data": {
      "text/plain": [
       "PremiseType\n",
       "STREET                  211341\n",
       "ROW/TOWNHOUSE-OCC        95929\n",
       "OTHER/RESIDENTIAL        42945\n",
       "APT/CONDO - OCCUPIED     20734\n",
       "PARKING LOT-OUTSIDE      17794\n",
       "                         ...  \n",
       "DAY CARE FACILITY            5\n",
       "TRUCKING & TRANSFER          5\n",
       "MANUFACTURING PLANT          4\n",
       "BOX CARS/COMM'L TRLR         3\n",
       "TRUCK DRIVERS-OIL-           2\n",
       "Name: count, Length: 127, dtype: int64"
      ]
     },
     "execution_count": 61,
     "metadata": {},
     "output_type": "execute_result"
    }
   ],
   "source": [
    "df.PremiseType.value_counts()"
   ]
  },
  {
   "cell_type": "code",
   "execution_count": 62,
   "id": "17e7bfd6",
   "metadata": {},
   "outputs": [
    {
     "data": {
      "text/plain": [
       "PremiseType\n",
       "False    545467\n",
       "True       5267\n",
       "Name: count, dtype: int64"
      ]
     },
     "execution_count": 62,
     "metadata": {},
     "output_type": "execute_result"
    }
   ],
   "source": [
    "(df['PremiseType']=='UNKNOWN').value_counts()"
   ]
  },
  {
   "cell_type": "code",
   "execution_count": 63,
   "id": "53518f52",
   "metadata": {},
   "outputs": [
    {
     "data": {
      "text/plain": [
       "331"
      ]
     },
     "execution_count": 63,
     "metadata": {},
     "output_type": "execute_result"
    }
   ],
   "source": [
    "df.PremiseType.isnull().sum()"
   ]
  },
  {
   "cell_type": "code",
   "execution_count": 64,
   "id": "0307bdfd",
   "metadata": {},
   "outputs": [],
   "source": [
    "#df = df.dropna(subset=['PremiseType'])\n",
    "df['PremiseType'].fillna('UNKNOWN', inplace=True)"
   ]
  },
  {
   "cell_type": "code",
   "execution_count": 65,
   "id": "e3d393e6",
   "metadata": {},
   "outputs": [
    {
     "data": {
      "text/plain": [
       "0"
      ]
     },
     "execution_count": 65,
     "metadata": {},
     "output_type": "execute_result"
    }
   ],
   "source": [
    "df.PremiseType.isnull().sum()"
   ]
  },
  {
   "cell_type": "markdown",
   "id": "fed14c0d",
   "metadata": {},
   "source": [
    "#### Latitude and Longitude"
   ]
  },
  {
   "cell_type": "code",
   "execution_count": 66,
   "id": "204df2f9",
   "metadata": {},
   "outputs": [
    {
     "data": {
      "text/plain": [
       "937"
      ]
     },
     "execution_count": 66,
     "metadata": {},
     "output_type": "execute_result"
    }
   ],
   "source": [
    "df.Latitude.isnull().sum()"
   ]
  },
  {
   "cell_type": "code",
   "execution_count": 67,
   "id": "419f0f9e",
   "metadata": {},
   "outputs": [],
   "source": [
    "df = df.dropna(subset=['Latitude'])"
   ]
  },
  {
   "cell_type": "code",
   "execution_count": 68,
   "id": "57a37f3d",
   "metadata": {},
   "outputs": [],
   "source": [
    "#df.Longitude.isnull().sum()"
   ]
  },
  {
   "cell_type": "code",
   "execution_count": 69,
   "id": "07b7cabd",
   "metadata": {},
   "outputs": [
    {
     "data": {
      "text/plain": [
       "CrimeDateTime      0\n",
       "Description        0\n",
       "Inside_Outside     0\n",
       "Weapon             0\n",
       "Gender             0\n",
       "Age                0\n",
       "Race               0\n",
       "Old_District       0\n",
       "Neighborhood       0\n",
       "Latitude           0\n",
       "Longitude          0\n",
       "PremiseType        0\n",
       "Total_Incidents    0\n",
       "dtype: int64"
      ]
     },
     "execution_count": 69,
     "metadata": {},
     "output_type": "execute_result"
    }
   ],
   "source": [
    "df.isnull().sum()"
   ]
  },
  {
   "cell_type": "markdown",
   "id": "7ef27397",
   "metadata": {},
   "source": [
    "#### CrimeDateTime"
   ]
  },
  {
   "cell_type": "code",
   "execution_count": 70,
   "id": "467e4672",
   "metadata": {},
   "outputs": [
    {
     "data": {
      "text/plain": [
       "dtype('O')"
      ]
     },
     "execution_count": 70,
     "metadata": {},
     "output_type": "execute_result"
    }
   ],
   "source": [
    "df.CrimeDateTime.dtype"
   ]
  },
  {
   "cell_type": "code",
   "execution_count": 71,
   "id": "985fe665",
   "metadata": {},
   "outputs": [],
   "source": [
    "df['CrimeDateTime']=pd.to_datetime(df['CrimeDateTime'], infer_datetime_format=True, errors='coerce')"
   ]
  },
  {
   "cell_type": "code",
   "execution_count": 72,
   "id": "93c07f06",
   "metadata": {},
   "outputs": [
    {
     "data": {
      "text/plain": [
       "datetime64[ns, UTC]"
      ]
     },
     "execution_count": 72,
     "metadata": {},
     "output_type": "execute_result"
    }
   ],
   "source": [
    "df['CrimeDateTime'].dtype"
   ]
  },
  {
   "cell_type": "code",
   "execution_count": 73,
   "id": "5d7eff0d",
   "metadata": {},
   "outputs": [
    {
     "data": {
      "text/plain": [
       "CrimeDateTime      4\n",
       "Description        0\n",
       "Inside_Outside     0\n",
       "Weapon             0\n",
       "Gender             0\n",
       "Age                0\n",
       "Race               0\n",
       "Old_District       0\n",
       "Neighborhood       0\n",
       "Latitude           0\n",
       "Longitude          0\n",
       "PremiseType        0\n",
       "Total_Incidents    0\n",
       "dtype: int64"
      ]
     },
     "execution_count": 73,
     "metadata": {},
     "output_type": "execute_result"
    }
   ],
   "source": [
    "df.isnull().sum()"
   ]
  },
  {
   "cell_type": "code",
   "execution_count": 74,
   "id": "e3b099a8",
   "metadata": {},
   "outputs": [],
   "source": [
    "df = df.dropna(subset=['CrimeDateTime'])"
   ]
  },
  {
   "cell_type": "code",
   "execution_count": 75,
   "id": "313a7d23",
   "metadata": {},
   "outputs": [
    {
     "data": {
      "text/plain": [
       "0"
      ]
     },
     "execution_count": 75,
     "metadata": {},
     "output_type": "execute_result"
    }
   ],
   "source": [
    "df.Age.isnull().sum()"
   ]
  },
  {
   "cell_type": "code",
   "execution_count": 76,
   "id": "ea30ff18",
   "metadata": {},
   "outputs": [
    {
     "data": {
      "text/plain": [
       "CrimeDateTime      0\n",
       "Description        0\n",
       "Inside_Outside     0\n",
       "Weapon             0\n",
       "Gender             0\n",
       "Age                0\n",
       "Race               0\n",
       "Old_District       0\n",
       "Neighborhood       0\n",
       "Latitude           0\n",
       "Longitude          0\n",
       "PremiseType        0\n",
       "Total_Incidents    0\n",
       "dtype: int64"
      ]
     },
     "execution_count": 76,
     "metadata": {},
     "output_type": "execute_result"
    }
   ],
   "source": [
    "df.isnull().sum()"
   ]
  },
  {
   "cell_type": "markdown",
   "id": "7b0d8a1a",
   "metadata": {},
   "source": [
    "#### Year"
   ]
  },
  {
   "cell_type": "code",
   "execution_count": 77,
   "id": "158fbd8e",
   "metadata": {},
   "outputs": [
    {
     "data": {
      "text/plain": [
       "dtype('int32')"
      ]
     },
     "execution_count": 77,
     "metadata": {},
     "output_type": "execute_result"
    }
   ],
   "source": [
    "df['Year']=df['CrimeDateTime'].dt.year\n",
    "df.Year.dtype"
   ]
  },
  {
   "cell_type": "code",
   "execution_count": 78,
   "id": "0a30ce39",
   "metadata": {},
   "outputs": [
    {
     "data": {
      "text/html": [
       "<div>\n",
       "<style scoped>\n",
       "    .dataframe tbody tr th:only-of-type {\n",
       "        vertical-align: middle;\n",
       "    }\n",
       "\n",
       "    .dataframe tbody tr th {\n",
       "        vertical-align: top;\n",
       "    }\n",
       "\n",
       "    .dataframe thead th {\n",
       "        text-align: right;\n",
       "    }\n",
       "</style>\n",
       "<table border=\"1\" class=\"dataframe\">\n",
       "  <thead>\n",
       "    <tr style=\"text-align: right;\">\n",
       "      <th></th>\n",
       "      <th>CrimeDateTime</th>\n",
       "      <th>Description</th>\n",
       "      <th>Inside_Outside</th>\n",
       "      <th>Weapon</th>\n",
       "      <th>Gender</th>\n",
       "      <th>Age</th>\n",
       "      <th>Race</th>\n",
       "      <th>Old_District</th>\n",
       "      <th>Neighborhood</th>\n",
       "      <th>Latitude</th>\n",
       "      <th>Longitude</th>\n",
       "      <th>PremiseType</th>\n",
       "      <th>Total_Incidents</th>\n",
       "      <th>Year</th>\n",
       "    </tr>\n",
       "  </thead>\n",
       "  <tbody>\n",
       "    <tr>\n",
       "      <th>0</th>\n",
       "      <td>2023-04-15 11:30:00+00:00</td>\n",
       "      <td>LARCENY</td>\n",
       "      <td>Inside</td>\n",
       "      <td>UNKNOWN</td>\n",
       "      <td>Female</td>\n",
       "      <td>56</td>\n",
       "      <td>WHITE</td>\n",
       "      <td>NORTHERN</td>\n",
       "      <td>HARWOOD</td>\n",
       "      <td>39.318181</td>\n",
       "      <td>-76.609534</td>\n",
       "      <td>STREET</td>\n",
       "      <td>1</td>\n",
       "      <td>2023</td>\n",
       "    </tr>\n",
       "    <tr>\n",
       "      <th>1</th>\n",
       "      <td>2023-04-15 21:50:00+00:00</td>\n",
       "      <td>LARCENY</td>\n",
       "      <td>Inside</td>\n",
       "      <td>UNKNOWN</td>\n",
       "      <td>UNKNOWN</td>\n",
       "      <td>38</td>\n",
       "      <td>UNKNOWN</td>\n",
       "      <td>NORTHEAST</td>\n",
       "      <td>PULASKI INDUSTRIAL AREA</td>\n",
       "      <td>39.310944</td>\n",
       "      <td>-76.530961</td>\n",
       "      <td>GAS STATION</td>\n",
       "      <td>1</td>\n",
       "      <td>2023</td>\n",
       "    </tr>\n",
       "    <tr>\n",
       "      <th>2</th>\n",
       "      <td>2023-04-15 17:00:00+00:00</td>\n",
       "      <td>LARCENY FROM AUTO</td>\n",
       "      <td>Inside</td>\n",
       "      <td>UNKNOWN</td>\n",
       "      <td>Male</td>\n",
       "      <td>56</td>\n",
       "      <td>BLACK_OR_AFRICAN_AMERICAN</td>\n",
       "      <td>SOUTHWEST</td>\n",
       "      <td>MOUNT HOLLY</td>\n",
       "      <td>39.313038</td>\n",
       "      <td>-76.674519</td>\n",
       "      <td>STREET</td>\n",
       "      <td>1</td>\n",
       "      <td>2023</td>\n",
       "    </tr>\n",
       "    <tr>\n",
       "      <th>3</th>\n",
       "      <td>2023-04-15 21:15:00+00:00</td>\n",
       "      <td>ROBBERY</td>\n",
       "      <td>Inside</td>\n",
       "      <td>HANDGUN</td>\n",
       "      <td>Male</td>\n",
       "      <td>54</td>\n",
       "      <td>WHITE</td>\n",
       "      <td>NORTHWEST</td>\n",
       "      <td>CENTRAL PARK HEIGHTS</td>\n",
       "      <td>39.337523</td>\n",
       "      <td>-76.664090</td>\n",
       "      <td>STREET</td>\n",
       "      <td>1</td>\n",
       "      <td>2023</td>\n",
       "    </tr>\n",
       "    <tr>\n",
       "      <th>4</th>\n",
       "      <td>2023-04-11 09:25:00+00:00</td>\n",
       "      <td>COMMON ASSAULT</td>\n",
       "      <td>Outside</td>\n",
       "      <td>PERSONAL_WEAPONS</td>\n",
       "      <td>Male</td>\n",
       "      <td>58</td>\n",
       "      <td>WHITE</td>\n",
       "      <td>WESTERN</td>\n",
       "      <td>MOSHER</td>\n",
       "      <td>39.296418</td>\n",
       "      <td>-76.661570</td>\n",
       "      <td>DRUG STORE / MED  BL</td>\n",
       "      <td>1</td>\n",
       "      <td>2023</td>\n",
       "    </tr>\n",
       "  </tbody>\n",
       "</table>\n",
       "</div>"
      ],
      "text/plain": [
       "              CrimeDateTime        Description Inside_Outside  \\\n",
       "0 2023-04-15 11:30:00+00:00            LARCENY         Inside   \n",
       "1 2023-04-15 21:50:00+00:00            LARCENY         Inside   \n",
       "2 2023-04-15 17:00:00+00:00  LARCENY FROM AUTO         Inside   \n",
       "3 2023-04-15 21:15:00+00:00            ROBBERY         Inside   \n",
       "4 2023-04-11 09:25:00+00:00     COMMON ASSAULT        Outside   \n",
       "\n",
       "             Weapon   Gender  Age                       Race Old_District  \\\n",
       "0           UNKNOWN   Female   56                      WHITE     NORTHERN   \n",
       "1           UNKNOWN  UNKNOWN   38                    UNKNOWN    NORTHEAST   \n",
       "2           UNKNOWN     Male   56  BLACK_OR_AFRICAN_AMERICAN    SOUTHWEST   \n",
       "3           HANDGUN     Male   54                      WHITE    NORTHWEST   \n",
       "4  PERSONAL_WEAPONS     Male   58                      WHITE      WESTERN   \n",
       "\n",
       "              Neighborhood   Latitude  Longitude           PremiseType  \\\n",
       "0                  HARWOOD  39.318181 -76.609534                STREET   \n",
       "1  PULASKI INDUSTRIAL AREA  39.310944 -76.530961           GAS STATION   \n",
       "2              MOUNT HOLLY  39.313038 -76.674519                STREET   \n",
       "3     CENTRAL PARK HEIGHTS  39.337523 -76.664090                STREET   \n",
       "4                   MOSHER  39.296418 -76.661570  DRUG STORE / MED  BL   \n",
       "\n",
       "   Total_Incidents  Year  \n",
       "0                1  2023  \n",
       "1                1  2023  \n",
       "2                1  2023  \n",
       "3                1  2023  \n",
       "4                1  2023  "
      ]
     },
     "execution_count": 78,
     "metadata": {},
     "output_type": "execute_result"
    }
   ],
   "source": [
    "df.head()"
   ]
  },
  {
   "cell_type": "markdown",
   "id": "2606fef5",
   "metadata": {},
   "source": [
    "#### Month"
   ]
  },
  {
   "cell_type": "code",
   "execution_count": 79,
   "id": "8144dd1f",
   "metadata": {},
   "outputs": [
    {
     "data": {
      "text/html": [
       "<div>\n",
       "<style scoped>\n",
       "    .dataframe tbody tr th:only-of-type {\n",
       "        vertical-align: middle;\n",
       "    }\n",
       "\n",
       "    .dataframe tbody tr th {\n",
       "        vertical-align: top;\n",
       "    }\n",
       "\n",
       "    .dataframe thead th {\n",
       "        text-align: right;\n",
       "    }\n",
       "</style>\n",
       "<table border=\"1\" class=\"dataframe\">\n",
       "  <thead>\n",
       "    <tr style=\"text-align: right;\">\n",
       "      <th></th>\n",
       "      <th>CrimeDateTime</th>\n",
       "      <th>Description</th>\n",
       "      <th>Inside_Outside</th>\n",
       "      <th>Weapon</th>\n",
       "      <th>Gender</th>\n",
       "      <th>Age</th>\n",
       "      <th>Race</th>\n",
       "      <th>Old_District</th>\n",
       "      <th>Neighborhood</th>\n",
       "      <th>Latitude</th>\n",
       "      <th>Longitude</th>\n",
       "      <th>PremiseType</th>\n",
       "      <th>Total_Incidents</th>\n",
       "      <th>Year</th>\n",
       "      <th>Month</th>\n",
       "    </tr>\n",
       "  </thead>\n",
       "  <tbody>\n",
       "    <tr>\n",
       "      <th>0</th>\n",
       "      <td>2023-04-15 11:30:00+00:00</td>\n",
       "      <td>LARCENY</td>\n",
       "      <td>Inside</td>\n",
       "      <td>UNKNOWN</td>\n",
       "      <td>Female</td>\n",
       "      <td>56</td>\n",
       "      <td>WHITE</td>\n",
       "      <td>NORTHERN</td>\n",
       "      <td>HARWOOD</td>\n",
       "      <td>39.318181</td>\n",
       "      <td>-76.609534</td>\n",
       "      <td>STREET</td>\n",
       "      <td>1</td>\n",
       "      <td>2023</td>\n",
       "      <td>4</td>\n",
       "    </tr>\n",
       "    <tr>\n",
       "      <th>1</th>\n",
       "      <td>2023-04-15 21:50:00+00:00</td>\n",
       "      <td>LARCENY</td>\n",
       "      <td>Inside</td>\n",
       "      <td>UNKNOWN</td>\n",
       "      <td>UNKNOWN</td>\n",
       "      <td>38</td>\n",
       "      <td>UNKNOWN</td>\n",
       "      <td>NORTHEAST</td>\n",
       "      <td>PULASKI INDUSTRIAL AREA</td>\n",
       "      <td>39.310944</td>\n",
       "      <td>-76.530961</td>\n",
       "      <td>GAS STATION</td>\n",
       "      <td>1</td>\n",
       "      <td>2023</td>\n",
       "      <td>4</td>\n",
       "    </tr>\n",
       "    <tr>\n",
       "      <th>2</th>\n",
       "      <td>2023-04-15 17:00:00+00:00</td>\n",
       "      <td>LARCENY FROM AUTO</td>\n",
       "      <td>Inside</td>\n",
       "      <td>UNKNOWN</td>\n",
       "      <td>Male</td>\n",
       "      <td>56</td>\n",
       "      <td>BLACK_OR_AFRICAN_AMERICAN</td>\n",
       "      <td>SOUTHWEST</td>\n",
       "      <td>MOUNT HOLLY</td>\n",
       "      <td>39.313038</td>\n",
       "      <td>-76.674519</td>\n",
       "      <td>STREET</td>\n",
       "      <td>1</td>\n",
       "      <td>2023</td>\n",
       "      <td>4</td>\n",
       "    </tr>\n",
       "    <tr>\n",
       "      <th>3</th>\n",
       "      <td>2023-04-15 21:15:00+00:00</td>\n",
       "      <td>ROBBERY</td>\n",
       "      <td>Inside</td>\n",
       "      <td>HANDGUN</td>\n",
       "      <td>Male</td>\n",
       "      <td>54</td>\n",
       "      <td>WHITE</td>\n",
       "      <td>NORTHWEST</td>\n",
       "      <td>CENTRAL PARK HEIGHTS</td>\n",
       "      <td>39.337523</td>\n",
       "      <td>-76.664090</td>\n",
       "      <td>STREET</td>\n",
       "      <td>1</td>\n",
       "      <td>2023</td>\n",
       "      <td>4</td>\n",
       "    </tr>\n",
       "    <tr>\n",
       "      <th>4</th>\n",
       "      <td>2023-04-11 09:25:00+00:00</td>\n",
       "      <td>COMMON ASSAULT</td>\n",
       "      <td>Outside</td>\n",
       "      <td>PERSONAL_WEAPONS</td>\n",
       "      <td>Male</td>\n",
       "      <td>58</td>\n",
       "      <td>WHITE</td>\n",
       "      <td>WESTERN</td>\n",
       "      <td>MOSHER</td>\n",
       "      <td>39.296418</td>\n",
       "      <td>-76.661570</td>\n",
       "      <td>DRUG STORE / MED  BL</td>\n",
       "      <td>1</td>\n",
       "      <td>2023</td>\n",
       "      <td>4</td>\n",
       "    </tr>\n",
       "  </tbody>\n",
       "</table>\n",
       "</div>"
      ],
      "text/plain": [
       "              CrimeDateTime        Description Inside_Outside  \\\n",
       "0 2023-04-15 11:30:00+00:00            LARCENY         Inside   \n",
       "1 2023-04-15 21:50:00+00:00            LARCENY         Inside   \n",
       "2 2023-04-15 17:00:00+00:00  LARCENY FROM AUTO         Inside   \n",
       "3 2023-04-15 21:15:00+00:00            ROBBERY         Inside   \n",
       "4 2023-04-11 09:25:00+00:00     COMMON ASSAULT        Outside   \n",
       "\n",
       "             Weapon   Gender  Age                       Race Old_District  \\\n",
       "0           UNKNOWN   Female   56                      WHITE     NORTHERN   \n",
       "1           UNKNOWN  UNKNOWN   38                    UNKNOWN    NORTHEAST   \n",
       "2           UNKNOWN     Male   56  BLACK_OR_AFRICAN_AMERICAN    SOUTHWEST   \n",
       "3           HANDGUN     Male   54                      WHITE    NORTHWEST   \n",
       "4  PERSONAL_WEAPONS     Male   58                      WHITE      WESTERN   \n",
       "\n",
       "              Neighborhood   Latitude  Longitude           PremiseType  \\\n",
       "0                  HARWOOD  39.318181 -76.609534                STREET   \n",
       "1  PULASKI INDUSTRIAL AREA  39.310944 -76.530961           GAS STATION   \n",
       "2              MOUNT HOLLY  39.313038 -76.674519                STREET   \n",
       "3     CENTRAL PARK HEIGHTS  39.337523 -76.664090                STREET   \n",
       "4                   MOSHER  39.296418 -76.661570  DRUG STORE / MED  BL   \n",
       "\n",
       "   Total_Incidents  Year  Month  \n",
       "0                1  2023      4  \n",
       "1                1  2023      4  \n",
       "2                1  2023      4  \n",
       "3                1  2023      4  \n",
       "4                1  2023      4  "
      ]
     },
     "execution_count": 79,
     "metadata": {},
     "output_type": "execute_result"
    }
   ],
   "source": [
    "df['Month']=df['CrimeDateTime'].dt.month\n",
    "df.head()"
   ]
  },
  {
   "cell_type": "code",
   "execution_count": 80,
   "id": "198bc545",
   "metadata": {},
   "outputs": [
    {
     "data": {
      "text/html": [
       "<div>\n",
       "<style scoped>\n",
       "    .dataframe tbody tr th:only-of-type {\n",
       "        vertical-align: middle;\n",
       "    }\n",
       "\n",
       "    .dataframe tbody tr th {\n",
       "        vertical-align: top;\n",
       "    }\n",
       "\n",
       "    .dataframe thead th {\n",
       "        text-align: right;\n",
       "    }\n",
       "</style>\n",
       "<table border=\"1\" class=\"dataframe\">\n",
       "  <thead>\n",
       "    <tr style=\"text-align: right;\">\n",
       "      <th></th>\n",
       "      <th>CrimeDateTime</th>\n",
       "      <th>Description</th>\n",
       "      <th>Inside_Outside</th>\n",
       "      <th>Weapon</th>\n",
       "      <th>Gender</th>\n",
       "      <th>Age</th>\n",
       "      <th>Race</th>\n",
       "      <th>Old_District</th>\n",
       "      <th>Neighborhood</th>\n",
       "      <th>Latitude</th>\n",
       "      <th>Longitude</th>\n",
       "      <th>PremiseType</th>\n",
       "      <th>Total_Incidents</th>\n",
       "      <th>Year</th>\n",
       "      <th>Month</th>\n",
       "    </tr>\n",
       "  </thead>\n",
       "  <tbody>\n",
       "    <tr>\n",
       "      <th>0</th>\n",
       "      <td>2023-04-15 11:30:00+00:00</td>\n",
       "      <td>LARCENY</td>\n",
       "      <td>Inside</td>\n",
       "      <td>UNKNOWN</td>\n",
       "      <td>Female</td>\n",
       "      <td>56</td>\n",
       "      <td>WHITE</td>\n",
       "      <td>NORTHERN</td>\n",
       "      <td>HARWOOD</td>\n",
       "      <td>39.318181</td>\n",
       "      <td>-76.609534</td>\n",
       "      <td>STREET</td>\n",
       "      <td>1</td>\n",
       "      <td>2023</td>\n",
       "      <td>4</td>\n",
       "    </tr>\n",
       "    <tr>\n",
       "      <th>1</th>\n",
       "      <td>2023-04-15 21:50:00+00:00</td>\n",
       "      <td>LARCENY</td>\n",
       "      <td>Inside</td>\n",
       "      <td>UNKNOWN</td>\n",
       "      <td>UNKNOWN</td>\n",
       "      <td>38</td>\n",
       "      <td>UNKNOWN</td>\n",
       "      <td>NORTHEAST</td>\n",
       "      <td>PULASKI INDUSTRIAL AREA</td>\n",
       "      <td>39.310944</td>\n",
       "      <td>-76.530961</td>\n",
       "      <td>GAS STATION</td>\n",
       "      <td>1</td>\n",
       "      <td>2023</td>\n",
       "      <td>4</td>\n",
       "    </tr>\n",
       "    <tr>\n",
       "      <th>2</th>\n",
       "      <td>2023-04-15 17:00:00+00:00</td>\n",
       "      <td>LARCENY FROM AUTO</td>\n",
       "      <td>Inside</td>\n",
       "      <td>UNKNOWN</td>\n",
       "      <td>Male</td>\n",
       "      <td>56</td>\n",
       "      <td>BLACK_OR_AFRICAN_AMERICAN</td>\n",
       "      <td>SOUTHWEST</td>\n",
       "      <td>MOUNT HOLLY</td>\n",
       "      <td>39.313038</td>\n",
       "      <td>-76.674519</td>\n",
       "      <td>STREET</td>\n",
       "      <td>1</td>\n",
       "      <td>2023</td>\n",
       "      <td>4</td>\n",
       "    </tr>\n",
       "    <tr>\n",
       "      <th>3</th>\n",
       "      <td>2023-04-15 21:15:00+00:00</td>\n",
       "      <td>ROBBERY</td>\n",
       "      <td>Inside</td>\n",
       "      <td>HANDGUN</td>\n",
       "      <td>Male</td>\n",
       "      <td>54</td>\n",
       "      <td>WHITE</td>\n",
       "      <td>NORTHWEST</td>\n",
       "      <td>CENTRAL PARK HEIGHTS</td>\n",
       "      <td>39.337523</td>\n",
       "      <td>-76.664090</td>\n",
       "      <td>STREET</td>\n",
       "      <td>1</td>\n",
       "      <td>2023</td>\n",
       "      <td>4</td>\n",
       "    </tr>\n",
       "    <tr>\n",
       "      <th>4</th>\n",
       "      <td>2023-04-11 09:25:00+00:00</td>\n",
       "      <td>COMMON ASSAULT</td>\n",
       "      <td>Outside</td>\n",
       "      <td>PERSONAL_WEAPONS</td>\n",
       "      <td>Male</td>\n",
       "      <td>58</td>\n",
       "      <td>WHITE</td>\n",
       "      <td>WESTERN</td>\n",
       "      <td>MOSHER</td>\n",
       "      <td>39.296418</td>\n",
       "      <td>-76.661570</td>\n",
       "      <td>DRUG STORE / MED  BL</td>\n",
       "      <td>1</td>\n",
       "      <td>2023</td>\n",
       "      <td>4</td>\n",
       "    </tr>\n",
       "  </tbody>\n",
       "</table>\n",
       "</div>"
      ],
      "text/plain": [
       "              CrimeDateTime        Description Inside_Outside  \\\n",
       "0 2023-04-15 11:30:00+00:00            LARCENY         Inside   \n",
       "1 2023-04-15 21:50:00+00:00            LARCENY         Inside   \n",
       "2 2023-04-15 17:00:00+00:00  LARCENY FROM AUTO         Inside   \n",
       "3 2023-04-15 21:15:00+00:00            ROBBERY         Inside   \n",
       "4 2023-04-11 09:25:00+00:00     COMMON ASSAULT        Outside   \n",
       "\n",
       "             Weapon   Gender  Age                       Race Old_District  \\\n",
       "0           UNKNOWN   Female   56                      WHITE     NORTHERN   \n",
       "1           UNKNOWN  UNKNOWN   38                    UNKNOWN    NORTHEAST   \n",
       "2           UNKNOWN     Male   56  BLACK_OR_AFRICAN_AMERICAN    SOUTHWEST   \n",
       "3           HANDGUN     Male   54                      WHITE    NORTHWEST   \n",
       "4  PERSONAL_WEAPONS     Male   58                      WHITE      WESTERN   \n",
       "\n",
       "              Neighborhood   Latitude  Longitude           PremiseType  \\\n",
       "0                  HARWOOD  39.318181 -76.609534                STREET   \n",
       "1  PULASKI INDUSTRIAL AREA  39.310944 -76.530961           GAS STATION   \n",
       "2              MOUNT HOLLY  39.313038 -76.674519                STREET   \n",
       "3     CENTRAL PARK HEIGHTS  39.337523 -76.664090                STREET   \n",
       "4                   MOSHER  39.296418 -76.661570  DRUG STORE / MED  BL   \n",
       "\n",
       "   Total_Incidents  Year  Month  \n",
       "0                1  2023      4  \n",
       "1                1  2023      4  \n",
       "2                1  2023      4  \n",
       "3                1  2023      4  \n",
       "4                1  2023      4  "
      ]
     },
     "execution_count": 80,
     "metadata": {},
     "output_type": "execute_result"
    }
   ],
   "source": [
    "df['Month']=df['CrimeDateTime'].dt.month\n",
    "df.head()"
   ]
  },
  {
   "cell_type": "markdown",
   "id": "10a02a05",
   "metadata": {},
   "source": [
    "#### Day_of_Month"
   ]
  },
  {
   "cell_type": "code",
   "execution_count": 81,
   "id": "f7be98b8",
   "metadata": {},
   "outputs": [
    {
     "data": {
      "text/html": [
       "<div>\n",
       "<style scoped>\n",
       "    .dataframe tbody tr th:only-of-type {\n",
       "        vertical-align: middle;\n",
       "    }\n",
       "\n",
       "    .dataframe tbody tr th {\n",
       "        vertical-align: top;\n",
       "    }\n",
       "\n",
       "    .dataframe thead th {\n",
       "        text-align: right;\n",
       "    }\n",
       "</style>\n",
       "<table border=\"1\" class=\"dataframe\">\n",
       "  <thead>\n",
       "    <tr style=\"text-align: right;\">\n",
       "      <th></th>\n",
       "      <th>CrimeDateTime</th>\n",
       "      <th>Description</th>\n",
       "      <th>Inside_Outside</th>\n",
       "      <th>Weapon</th>\n",
       "      <th>Gender</th>\n",
       "      <th>Age</th>\n",
       "      <th>Race</th>\n",
       "      <th>Old_District</th>\n",
       "      <th>Neighborhood</th>\n",
       "      <th>Latitude</th>\n",
       "      <th>Longitude</th>\n",
       "      <th>PremiseType</th>\n",
       "      <th>Total_Incidents</th>\n",
       "      <th>Year</th>\n",
       "      <th>Month</th>\n",
       "      <th>day_of_month</th>\n",
       "    </tr>\n",
       "  </thead>\n",
       "  <tbody>\n",
       "    <tr>\n",
       "      <th>0</th>\n",
       "      <td>2023-04-15 11:30:00+00:00</td>\n",
       "      <td>LARCENY</td>\n",
       "      <td>Inside</td>\n",
       "      <td>UNKNOWN</td>\n",
       "      <td>Female</td>\n",
       "      <td>56</td>\n",
       "      <td>WHITE</td>\n",
       "      <td>NORTHERN</td>\n",
       "      <td>HARWOOD</td>\n",
       "      <td>39.318181</td>\n",
       "      <td>-76.609534</td>\n",
       "      <td>STREET</td>\n",
       "      <td>1</td>\n",
       "      <td>2023</td>\n",
       "      <td>4</td>\n",
       "      <td>15</td>\n",
       "    </tr>\n",
       "    <tr>\n",
       "      <th>1</th>\n",
       "      <td>2023-04-15 21:50:00+00:00</td>\n",
       "      <td>LARCENY</td>\n",
       "      <td>Inside</td>\n",
       "      <td>UNKNOWN</td>\n",
       "      <td>UNKNOWN</td>\n",
       "      <td>38</td>\n",
       "      <td>UNKNOWN</td>\n",
       "      <td>NORTHEAST</td>\n",
       "      <td>PULASKI INDUSTRIAL AREA</td>\n",
       "      <td>39.310944</td>\n",
       "      <td>-76.530961</td>\n",
       "      <td>GAS STATION</td>\n",
       "      <td>1</td>\n",
       "      <td>2023</td>\n",
       "      <td>4</td>\n",
       "      <td>15</td>\n",
       "    </tr>\n",
       "    <tr>\n",
       "      <th>2</th>\n",
       "      <td>2023-04-15 17:00:00+00:00</td>\n",
       "      <td>LARCENY FROM AUTO</td>\n",
       "      <td>Inside</td>\n",
       "      <td>UNKNOWN</td>\n",
       "      <td>Male</td>\n",
       "      <td>56</td>\n",
       "      <td>BLACK_OR_AFRICAN_AMERICAN</td>\n",
       "      <td>SOUTHWEST</td>\n",
       "      <td>MOUNT HOLLY</td>\n",
       "      <td>39.313038</td>\n",
       "      <td>-76.674519</td>\n",
       "      <td>STREET</td>\n",
       "      <td>1</td>\n",
       "      <td>2023</td>\n",
       "      <td>4</td>\n",
       "      <td>15</td>\n",
       "    </tr>\n",
       "    <tr>\n",
       "      <th>3</th>\n",
       "      <td>2023-04-15 21:15:00+00:00</td>\n",
       "      <td>ROBBERY</td>\n",
       "      <td>Inside</td>\n",
       "      <td>HANDGUN</td>\n",
       "      <td>Male</td>\n",
       "      <td>54</td>\n",
       "      <td>WHITE</td>\n",
       "      <td>NORTHWEST</td>\n",
       "      <td>CENTRAL PARK HEIGHTS</td>\n",
       "      <td>39.337523</td>\n",
       "      <td>-76.664090</td>\n",
       "      <td>STREET</td>\n",
       "      <td>1</td>\n",
       "      <td>2023</td>\n",
       "      <td>4</td>\n",
       "      <td>15</td>\n",
       "    </tr>\n",
       "    <tr>\n",
       "      <th>4</th>\n",
       "      <td>2023-04-11 09:25:00+00:00</td>\n",
       "      <td>COMMON ASSAULT</td>\n",
       "      <td>Outside</td>\n",
       "      <td>PERSONAL_WEAPONS</td>\n",
       "      <td>Male</td>\n",
       "      <td>58</td>\n",
       "      <td>WHITE</td>\n",
       "      <td>WESTERN</td>\n",
       "      <td>MOSHER</td>\n",
       "      <td>39.296418</td>\n",
       "      <td>-76.661570</td>\n",
       "      <td>DRUG STORE / MED  BL</td>\n",
       "      <td>1</td>\n",
       "      <td>2023</td>\n",
       "      <td>4</td>\n",
       "      <td>11</td>\n",
       "    </tr>\n",
       "  </tbody>\n",
       "</table>\n",
       "</div>"
      ],
      "text/plain": [
       "              CrimeDateTime        Description Inside_Outside  \\\n",
       "0 2023-04-15 11:30:00+00:00            LARCENY         Inside   \n",
       "1 2023-04-15 21:50:00+00:00            LARCENY         Inside   \n",
       "2 2023-04-15 17:00:00+00:00  LARCENY FROM AUTO         Inside   \n",
       "3 2023-04-15 21:15:00+00:00            ROBBERY         Inside   \n",
       "4 2023-04-11 09:25:00+00:00     COMMON ASSAULT        Outside   \n",
       "\n",
       "             Weapon   Gender  Age                       Race Old_District  \\\n",
       "0           UNKNOWN   Female   56                      WHITE     NORTHERN   \n",
       "1           UNKNOWN  UNKNOWN   38                    UNKNOWN    NORTHEAST   \n",
       "2           UNKNOWN     Male   56  BLACK_OR_AFRICAN_AMERICAN    SOUTHWEST   \n",
       "3           HANDGUN     Male   54                      WHITE    NORTHWEST   \n",
       "4  PERSONAL_WEAPONS     Male   58                      WHITE      WESTERN   \n",
       "\n",
       "              Neighborhood   Latitude  Longitude           PremiseType  \\\n",
       "0                  HARWOOD  39.318181 -76.609534                STREET   \n",
       "1  PULASKI INDUSTRIAL AREA  39.310944 -76.530961           GAS STATION   \n",
       "2              MOUNT HOLLY  39.313038 -76.674519                STREET   \n",
       "3     CENTRAL PARK HEIGHTS  39.337523 -76.664090                STREET   \n",
       "4                   MOSHER  39.296418 -76.661570  DRUG STORE / MED  BL   \n",
       "\n",
       "   Total_Incidents  Year  Month  day_of_month  \n",
       "0                1  2023      4            15  \n",
       "1                1  2023      4            15  \n",
       "2                1  2023      4            15  \n",
       "3                1  2023      4            15  \n",
       "4                1  2023      4            11  "
      ]
     },
     "execution_count": 81,
     "metadata": {},
     "output_type": "execute_result"
    }
   ],
   "source": [
    "df['day_of_month']=df['CrimeDateTime'].dt.day\n",
    "df.head()"
   ]
  },
  {
   "cell_type": "markdown",
   "id": "9b9fa8d4",
   "metadata": {},
   "source": [
    "#### Day_of_Year"
   ]
  },
  {
   "cell_type": "code",
   "execution_count": 82,
   "id": "51b27826",
   "metadata": {},
   "outputs": [
    {
     "data": {
      "text/html": [
       "<div>\n",
       "<style scoped>\n",
       "    .dataframe tbody tr th:only-of-type {\n",
       "        vertical-align: middle;\n",
       "    }\n",
       "\n",
       "    .dataframe tbody tr th {\n",
       "        vertical-align: top;\n",
       "    }\n",
       "\n",
       "    .dataframe thead th {\n",
       "        text-align: right;\n",
       "    }\n",
       "</style>\n",
       "<table border=\"1\" class=\"dataframe\">\n",
       "  <thead>\n",
       "    <tr style=\"text-align: right;\">\n",
       "      <th></th>\n",
       "      <th>CrimeDateTime</th>\n",
       "      <th>Description</th>\n",
       "      <th>Inside_Outside</th>\n",
       "      <th>Weapon</th>\n",
       "      <th>Gender</th>\n",
       "      <th>Age</th>\n",
       "      <th>Race</th>\n",
       "      <th>Old_District</th>\n",
       "      <th>Neighborhood</th>\n",
       "      <th>Latitude</th>\n",
       "      <th>Longitude</th>\n",
       "      <th>PremiseType</th>\n",
       "      <th>Total_Incidents</th>\n",
       "      <th>Year</th>\n",
       "      <th>Month</th>\n",
       "      <th>day_of_month</th>\n",
       "      <th>day_of_year</th>\n",
       "    </tr>\n",
       "  </thead>\n",
       "  <tbody>\n",
       "    <tr>\n",
       "      <th>0</th>\n",
       "      <td>2023-04-15 11:30:00+00:00</td>\n",
       "      <td>LARCENY</td>\n",
       "      <td>Inside</td>\n",
       "      <td>UNKNOWN</td>\n",
       "      <td>Female</td>\n",
       "      <td>56</td>\n",
       "      <td>WHITE</td>\n",
       "      <td>NORTHERN</td>\n",
       "      <td>HARWOOD</td>\n",
       "      <td>39.318181</td>\n",
       "      <td>-76.609534</td>\n",
       "      <td>STREET</td>\n",
       "      <td>1</td>\n",
       "      <td>2023</td>\n",
       "      <td>4</td>\n",
       "      <td>15</td>\n",
       "      <td>105</td>\n",
       "    </tr>\n",
       "    <tr>\n",
       "      <th>1</th>\n",
       "      <td>2023-04-15 21:50:00+00:00</td>\n",
       "      <td>LARCENY</td>\n",
       "      <td>Inside</td>\n",
       "      <td>UNKNOWN</td>\n",
       "      <td>UNKNOWN</td>\n",
       "      <td>38</td>\n",
       "      <td>UNKNOWN</td>\n",
       "      <td>NORTHEAST</td>\n",
       "      <td>PULASKI INDUSTRIAL AREA</td>\n",
       "      <td>39.310944</td>\n",
       "      <td>-76.530961</td>\n",
       "      <td>GAS STATION</td>\n",
       "      <td>1</td>\n",
       "      <td>2023</td>\n",
       "      <td>4</td>\n",
       "      <td>15</td>\n",
       "      <td>105</td>\n",
       "    </tr>\n",
       "    <tr>\n",
       "      <th>2</th>\n",
       "      <td>2023-04-15 17:00:00+00:00</td>\n",
       "      <td>LARCENY FROM AUTO</td>\n",
       "      <td>Inside</td>\n",
       "      <td>UNKNOWN</td>\n",
       "      <td>Male</td>\n",
       "      <td>56</td>\n",
       "      <td>BLACK_OR_AFRICAN_AMERICAN</td>\n",
       "      <td>SOUTHWEST</td>\n",
       "      <td>MOUNT HOLLY</td>\n",
       "      <td>39.313038</td>\n",
       "      <td>-76.674519</td>\n",
       "      <td>STREET</td>\n",
       "      <td>1</td>\n",
       "      <td>2023</td>\n",
       "      <td>4</td>\n",
       "      <td>15</td>\n",
       "      <td>105</td>\n",
       "    </tr>\n",
       "    <tr>\n",
       "      <th>3</th>\n",
       "      <td>2023-04-15 21:15:00+00:00</td>\n",
       "      <td>ROBBERY</td>\n",
       "      <td>Inside</td>\n",
       "      <td>HANDGUN</td>\n",
       "      <td>Male</td>\n",
       "      <td>54</td>\n",
       "      <td>WHITE</td>\n",
       "      <td>NORTHWEST</td>\n",
       "      <td>CENTRAL PARK HEIGHTS</td>\n",
       "      <td>39.337523</td>\n",
       "      <td>-76.664090</td>\n",
       "      <td>STREET</td>\n",
       "      <td>1</td>\n",
       "      <td>2023</td>\n",
       "      <td>4</td>\n",
       "      <td>15</td>\n",
       "      <td>105</td>\n",
       "    </tr>\n",
       "    <tr>\n",
       "      <th>4</th>\n",
       "      <td>2023-04-11 09:25:00+00:00</td>\n",
       "      <td>COMMON ASSAULT</td>\n",
       "      <td>Outside</td>\n",
       "      <td>PERSONAL_WEAPONS</td>\n",
       "      <td>Male</td>\n",
       "      <td>58</td>\n",
       "      <td>WHITE</td>\n",
       "      <td>WESTERN</td>\n",
       "      <td>MOSHER</td>\n",
       "      <td>39.296418</td>\n",
       "      <td>-76.661570</td>\n",
       "      <td>DRUG STORE / MED  BL</td>\n",
       "      <td>1</td>\n",
       "      <td>2023</td>\n",
       "      <td>4</td>\n",
       "      <td>11</td>\n",
       "      <td>101</td>\n",
       "    </tr>\n",
       "  </tbody>\n",
       "</table>\n",
       "</div>"
      ],
      "text/plain": [
       "              CrimeDateTime        Description Inside_Outside  \\\n",
       "0 2023-04-15 11:30:00+00:00            LARCENY         Inside   \n",
       "1 2023-04-15 21:50:00+00:00            LARCENY         Inside   \n",
       "2 2023-04-15 17:00:00+00:00  LARCENY FROM AUTO         Inside   \n",
       "3 2023-04-15 21:15:00+00:00            ROBBERY         Inside   \n",
       "4 2023-04-11 09:25:00+00:00     COMMON ASSAULT        Outside   \n",
       "\n",
       "             Weapon   Gender  Age                       Race Old_District  \\\n",
       "0           UNKNOWN   Female   56                      WHITE     NORTHERN   \n",
       "1           UNKNOWN  UNKNOWN   38                    UNKNOWN    NORTHEAST   \n",
       "2           UNKNOWN     Male   56  BLACK_OR_AFRICAN_AMERICAN    SOUTHWEST   \n",
       "3           HANDGUN     Male   54                      WHITE    NORTHWEST   \n",
       "4  PERSONAL_WEAPONS     Male   58                      WHITE      WESTERN   \n",
       "\n",
       "              Neighborhood   Latitude  Longitude           PremiseType  \\\n",
       "0                  HARWOOD  39.318181 -76.609534                STREET   \n",
       "1  PULASKI INDUSTRIAL AREA  39.310944 -76.530961           GAS STATION   \n",
       "2              MOUNT HOLLY  39.313038 -76.674519                STREET   \n",
       "3     CENTRAL PARK HEIGHTS  39.337523 -76.664090                STREET   \n",
       "4                   MOSHER  39.296418 -76.661570  DRUG STORE / MED  BL   \n",
       "\n",
       "   Total_Incidents  Year  Month  day_of_month  day_of_year  \n",
       "0                1  2023      4            15          105  \n",
       "1                1  2023      4            15          105  \n",
       "2                1  2023      4            15          105  \n",
       "3                1  2023      4            15          105  \n",
       "4                1  2023      4            11          101  "
      ]
     },
     "execution_count": 82,
     "metadata": {},
     "output_type": "execute_result"
    }
   ],
   "source": [
    "df['day_of_year'] = df['CrimeDateTime'].dt.dayofyear\n",
    "df.head()"
   ]
  },
  {
   "cell_type": "markdown",
   "id": "08f93f64",
   "metadata": {},
   "source": [
    "#### Week_of_Year"
   ]
  },
  {
   "cell_type": "code",
   "execution_count": 83,
   "id": "7cb64fcb",
   "metadata": {},
   "outputs": [
    {
     "data": {
      "text/html": [
       "<div>\n",
       "<style scoped>\n",
       "    .dataframe tbody tr th:only-of-type {\n",
       "        vertical-align: middle;\n",
       "    }\n",
       "\n",
       "    .dataframe tbody tr th {\n",
       "        vertical-align: top;\n",
       "    }\n",
       "\n",
       "    .dataframe thead th {\n",
       "        text-align: right;\n",
       "    }\n",
       "</style>\n",
       "<table border=\"1\" class=\"dataframe\">\n",
       "  <thead>\n",
       "    <tr style=\"text-align: right;\">\n",
       "      <th></th>\n",
       "      <th>CrimeDateTime</th>\n",
       "      <th>Description</th>\n",
       "      <th>Inside_Outside</th>\n",
       "      <th>Weapon</th>\n",
       "      <th>Gender</th>\n",
       "      <th>Age</th>\n",
       "      <th>Race</th>\n",
       "      <th>Old_District</th>\n",
       "      <th>Neighborhood</th>\n",
       "      <th>Latitude</th>\n",
       "      <th>Longitude</th>\n",
       "      <th>PremiseType</th>\n",
       "      <th>Total_Incidents</th>\n",
       "      <th>Year</th>\n",
       "      <th>Month</th>\n",
       "      <th>day_of_month</th>\n",
       "      <th>day_of_year</th>\n",
       "      <th>week_of_year</th>\n",
       "    </tr>\n",
       "  </thead>\n",
       "  <tbody>\n",
       "    <tr>\n",
       "      <th>0</th>\n",
       "      <td>2023-04-15 11:30:00+00:00</td>\n",
       "      <td>LARCENY</td>\n",
       "      <td>Inside</td>\n",
       "      <td>UNKNOWN</td>\n",
       "      <td>Female</td>\n",
       "      <td>56</td>\n",
       "      <td>WHITE</td>\n",
       "      <td>NORTHERN</td>\n",
       "      <td>HARWOOD</td>\n",
       "      <td>39.318181</td>\n",
       "      <td>-76.609534</td>\n",
       "      <td>STREET</td>\n",
       "      <td>1</td>\n",
       "      <td>2023</td>\n",
       "      <td>4</td>\n",
       "      <td>15</td>\n",
       "      <td>105</td>\n",
       "      <td>15</td>\n",
       "    </tr>\n",
       "    <tr>\n",
       "      <th>1</th>\n",
       "      <td>2023-04-15 21:50:00+00:00</td>\n",
       "      <td>LARCENY</td>\n",
       "      <td>Inside</td>\n",
       "      <td>UNKNOWN</td>\n",
       "      <td>UNKNOWN</td>\n",
       "      <td>38</td>\n",
       "      <td>UNKNOWN</td>\n",
       "      <td>NORTHEAST</td>\n",
       "      <td>PULASKI INDUSTRIAL AREA</td>\n",
       "      <td>39.310944</td>\n",
       "      <td>-76.530961</td>\n",
       "      <td>GAS STATION</td>\n",
       "      <td>1</td>\n",
       "      <td>2023</td>\n",
       "      <td>4</td>\n",
       "      <td>15</td>\n",
       "      <td>105</td>\n",
       "      <td>15</td>\n",
       "    </tr>\n",
       "    <tr>\n",
       "      <th>2</th>\n",
       "      <td>2023-04-15 17:00:00+00:00</td>\n",
       "      <td>LARCENY FROM AUTO</td>\n",
       "      <td>Inside</td>\n",
       "      <td>UNKNOWN</td>\n",
       "      <td>Male</td>\n",
       "      <td>56</td>\n",
       "      <td>BLACK_OR_AFRICAN_AMERICAN</td>\n",
       "      <td>SOUTHWEST</td>\n",
       "      <td>MOUNT HOLLY</td>\n",
       "      <td>39.313038</td>\n",
       "      <td>-76.674519</td>\n",
       "      <td>STREET</td>\n",
       "      <td>1</td>\n",
       "      <td>2023</td>\n",
       "      <td>4</td>\n",
       "      <td>15</td>\n",
       "      <td>105</td>\n",
       "      <td>15</td>\n",
       "    </tr>\n",
       "    <tr>\n",
       "      <th>3</th>\n",
       "      <td>2023-04-15 21:15:00+00:00</td>\n",
       "      <td>ROBBERY</td>\n",
       "      <td>Inside</td>\n",
       "      <td>HANDGUN</td>\n",
       "      <td>Male</td>\n",
       "      <td>54</td>\n",
       "      <td>WHITE</td>\n",
       "      <td>NORTHWEST</td>\n",
       "      <td>CENTRAL PARK HEIGHTS</td>\n",
       "      <td>39.337523</td>\n",
       "      <td>-76.664090</td>\n",
       "      <td>STREET</td>\n",
       "      <td>1</td>\n",
       "      <td>2023</td>\n",
       "      <td>4</td>\n",
       "      <td>15</td>\n",
       "      <td>105</td>\n",
       "      <td>15</td>\n",
       "    </tr>\n",
       "    <tr>\n",
       "      <th>4</th>\n",
       "      <td>2023-04-11 09:25:00+00:00</td>\n",
       "      <td>COMMON ASSAULT</td>\n",
       "      <td>Outside</td>\n",
       "      <td>PERSONAL_WEAPONS</td>\n",
       "      <td>Male</td>\n",
       "      <td>58</td>\n",
       "      <td>WHITE</td>\n",
       "      <td>WESTERN</td>\n",
       "      <td>MOSHER</td>\n",
       "      <td>39.296418</td>\n",
       "      <td>-76.661570</td>\n",
       "      <td>DRUG STORE / MED  BL</td>\n",
       "      <td>1</td>\n",
       "      <td>2023</td>\n",
       "      <td>4</td>\n",
       "      <td>11</td>\n",
       "      <td>101</td>\n",
       "      <td>15</td>\n",
       "    </tr>\n",
       "  </tbody>\n",
       "</table>\n",
       "</div>"
      ],
      "text/plain": [
       "              CrimeDateTime        Description Inside_Outside  \\\n",
       "0 2023-04-15 11:30:00+00:00            LARCENY         Inside   \n",
       "1 2023-04-15 21:50:00+00:00            LARCENY         Inside   \n",
       "2 2023-04-15 17:00:00+00:00  LARCENY FROM AUTO         Inside   \n",
       "3 2023-04-15 21:15:00+00:00            ROBBERY         Inside   \n",
       "4 2023-04-11 09:25:00+00:00     COMMON ASSAULT        Outside   \n",
       "\n",
       "             Weapon   Gender  Age                       Race Old_District  \\\n",
       "0           UNKNOWN   Female   56                      WHITE     NORTHERN   \n",
       "1           UNKNOWN  UNKNOWN   38                    UNKNOWN    NORTHEAST   \n",
       "2           UNKNOWN     Male   56  BLACK_OR_AFRICAN_AMERICAN    SOUTHWEST   \n",
       "3           HANDGUN     Male   54                      WHITE    NORTHWEST   \n",
       "4  PERSONAL_WEAPONS     Male   58                      WHITE      WESTERN   \n",
       "\n",
       "              Neighborhood   Latitude  Longitude           PremiseType  \\\n",
       "0                  HARWOOD  39.318181 -76.609534                STREET   \n",
       "1  PULASKI INDUSTRIAL AREA  39.310944 -76.530961           GAS STATION   \n",
       "2              MOUNT HOLLY  39.313038 -76.674519                STREET   \n",
       "3     CENTRAL PARK HEIGHTS  39.337523 -76.664090                STREET   \n",
       "4                   MOSHER  39.296418 -76.661570  DRUG STORE / MED  BL   \n",
       "\n",
       "   Total_Incidents  Year  Month  day_of_month  day_of_year  week_of_year  \n",
       "0                1  2023      4            15          105            15  \n",
       "1                1  2023      4            15          105            15  \n",
       "2                1  2023      4            15          105            15  \n",
       "3                1  2023      4            15          105            15  \n",
       "4                1  2023      4            11          101            15  "
      ]
     },
     "execution_count": 83,
     "metadata": {},
     "output_type": "execute_result"
    }
   ],
   "source": [
    "df['week_of_year']=df['CrimeDateTime'].dt.isocalendar().week\n",
    "df.head()"
   ]
  },
  {
   "cell_type": "markdown",
   "id": "91b90e22",
   "metadata": {},
   "source": [
    "#### Dayname_of_week"
   ]
  },
  {
   "cell_type": "code",
   "execution_count": 84,
   "id": "c7bf0067",
   "metadata": {},
   "outputs": [
    {
     "data": {
      "text/html": [
       "<div>\n",
       "<style scoped>\n",
       "    .dataframe tbody tr th:only-of-type {\n",
       "        vertical-align: middle;\n",
       "    }\n",
       "\n",
       "    .dataframe tbody tr th {\n",
       "        vertical-align: top;\n",
       "    }\n",
       "\n",
       "    .dataframe thead th {\n",
       "        text-align: right;\n",
       "    }\n",
       "</style>\n",
       "<table border=\"1\" class=\"dataframe\">\n",
       "  <thead>\n",
       "    <tr style=\"text-align: right;\">\n",
       "      <th></th>\n",
       "      <th>CrimeDateTime</th>\n",
       "      <th>Description</th>\n",
       "      <th>Inside_Outside</th>\n",
       "      <th>Weapon</th>\n",
       "      <th>Gender</th>\n",
       "      <th>Age</th>\n",
       "      <th>Race</th>\n",
       "      <th>Old_District</th>\n",
       "      <th>Neighborhood</th>\n",
       "      <th>Latitude</th>\n",
       "      <th>Longitude</th>\n",
       "      <th>PremiseType</th>\n",
       "      <th>Total_Incidents</th>\n",
       "      <th>Year</th>\n",
       "      <th>Month</th>\n",
       "      <th>day_of_month</th>\n",
       "      <th>day_of_year</th>\n",
       "      <th>week_of_year</th>\n",
       "      <th>dayname_of_week</th>\n",
       "    </tr>\n",
       "  </thead>\n",
       "  <tbody>\n",
       "    <tr>\n",
       "      <th>0</th>\n",
       "      <td>2023-04-15 11:30:00+00:00</td>\n",
       "      <td>LARCENY</td>\n",
       "      <td>Inside</td>\n",
       "      <td>UNKNOWN</td>\n",
       "      <td>Female</td>\n",
       "      <td>56</td>\n",
       "      <td>WHITE</td>\n",
       "      <td>NORTHERN</td>\n",
       "      <td>HARWOOD</td>\n",
       "      <td>39.318181</td>\n",
       "      <td>-76.609534</td>\n",
       "      <td>STREET</td>\n",
       "      <td>1</td>\n",
       "      <td>2023</td>\n",
       "      <td>4</td>\n",
       "      <td>15</td>\n",
       "      <td>105</td>\n",
       "      <td>15</td>\n",
       "      <td>Saturday</td>\n",
       "    </tr>\n",
       "    <tr>\n",
       "      <th>1</th>\n",
       "      <td>2023-04-15 21:50:00+00:00</td>\n",
       "      <td>LARCENY</td>\n",
       "      <td>Inside</td>\n",
       "      <td>UNKNOWN</td>\n",
       "      <td>UNKNOWN</td>\n",
       "      <td>38</td>\n",
       "      <td>UNKNOWN</td>\n",
       "      <td>NORTHEAST</td>\n",
       "      <td>PULASKI INDUSTRIAL AREA</td>\n",
       "      <td>39.310944</td>\n",
       "      <td>-76.530961</td>\n",
       "      <td>GAS STATION</td>\n",
       "      <td>1</td>\n",
       "      <td>2023</td>\n",
       "      <td>4</td>\n",
       "      <td>15</td>\n",
       "      <td>105</td>\n",
       "      <td>15</td>\n",
       "      <td>Saturday</td>\n",
       "    </tr>\n",
       "    <tr>\n",
       "      <th>2</th>\n",
       "      <td>2023-04-15 17:00:00+00:00</td>\n",
       "      <td>LARCENY FROM AUTO</td>\n",
       "      <td>Inside</td>\n",
       "      <td>UNKNOWN</td>\n",
       "      <td>Male</td>\n",
       "      <td>56</td>\n",
       "      <td>BLACK_OR_AFRICAN_AMERICAN</td>\n",
       "      <td>SOUTHWEST</td>\n",
       "      <td>MOUNT HOLLY</td>\n",
       "      <td>39.313038</td>\n",
       "      <td>-76.674519</td>\n",
       "      <td>STREET</td>\n",
       "      <td>1</td>\n",
       "      <td>2023</td>\n",
       "      <td>4</td>\n",
       "      <td>15</td>\n",
       "      <td>105</td>\n",
       "      <td>15</td>\n",
       "      <td>Saturday</td>\n",
       "    </tr>\n",
       "    <tr>\n",
       "      <th>3</th>\n",
       "      <td>2023-04-15 21:15:00+00:00</td>\n",
       "      <td>ROBBERY</td>\n",
       "      <td>Inside</td>\n",
       "      <td>HANDGUN</td>\n",
       "      <td>Male</td>\n",
       "      <td>54</td>\n",
       "      <td>WHITE</td>\n",
       "      <td>NORTHWEST</td>\n",
       "      <td>CENTRAL PARK HEIGHTS</td>\n",
       "      <td>39.337523</td>\n",
       "      <td>-76.664090</td>\n",
       "      <td>STREET</td>\n",
       "      <td>1</td>\n",
       "      <td>2023</td>\n",
       "      <td>4</td>\n",
       "      <td>15</td>\n",
       "      <td>105</td>\n",
       "      <td>15</td>\n",
       "      <td>Saturday</td>\n",
       "    </tr>\n",
       "    <tr>\n",
       "      <th>4</th>\n",
       "      <td>2023-04-11 09:25:00+00:00</td>\n",
       "      <td>COMMON ASSAULT</td>\n",
       "      <td>Outside</td>\n",
       "      <td>PERSONAL_WEAPONS</td>\n",
       "      <td>Male</td>\n",
       "      <td>58</td>\n",
       "      <td>WHITE</td>\n",
       "      <td>WESTERN</td>\n",
       "      <td>MOSHER</td>\n",
       "      <td>39.296418</td>\n",
       "      <td>-76.661570</td>\n",
       "      <td>DRUG STORE / MED  BL</td>\n",
       "      <td>1</td>\n",
       "      <td>2023</td>\n",
       "      <td>4</td>\n",
       "      <td>11</td>\n",
       "      <td>101</td>\n",
       "      <td>15</td>\n",
       "      <td>Tuesday</td>\n",
       "    </tr>\n",
       "  </tbody>\n",
       "</table>\n",
       "</div>"
      ],
      "text/plain": [
       "              CrimeDateTime        Description Inside_Outside  \\\n",
       "0 2023-04-15 11:30:00+00:00            LARCENY         Inside   \n",
       "1 2023-04-15 21:50:00+00:00            LARCENY         Inside   \n",
       "2 2023-04-15 17:00:00+00:00  LARCENY FROM AUTO         Inside   \n",
       "3 2023-04-15 21:15:00+00:00            ROBBERY         Inside   \n",
       "4 2023-04-11 09:25:00+00:00     COMMON ASSAULT        Outside   \n",
       "\n",
       "             Weapon   Gender  Age                       Race Old_District  \\\n",
       "0           UNKNOWN   Female   56                      WHITE     NORTHERN   \n",
       "1           UNKNOWN  UNKNOWN   38                    UNKNOWN    NORTHEAST   \n",
       "2           UNKNOWN     Male   56  BLACK_OR_AFRICAN_AMERICAN    SOUTHWEST   \n",
       "3           HANDGUN     Male   54                      WHITE    NORTHWEST   \n",
       "4  PERSONAL_WEAPONS     Male   58                      WHITE      WESTERN   \n",
       "\n",
       "              Neighborhood   Latitude  Longitude           PremiseType  \\\n",
       "0                  HARWOOD  39.318181 -76.609534                STREET   \n",
       "1  PULASKI INDUSTRIAL AREA  39.310944 -76.530961           GAS STATION   \n",
       "2              MOUNT HOLLY  39.313038 -76.674519                STREET   \n",
       "3     CENTRAL PARK HEIGHTS  39.337523 -76.664090                STREET   \n",
       "4                   MOSHER  39.296418 -76.661570  DRUG STORE / MED  BL   \n",
       "\n",
       "   Total_Incidents  Year  Month  day_of_month  day_of_year  week_of_year  \\\n",
       "0                1  2023      4            15          105            15   \n",
       "1                1  2023      4            15          105            15   \n",
       "2                1  2023      4            15          105            15   \n",
       "3                1  2023      4            15          105            15   \n",
       "4                1  2023      4            11          101            15   \n",
       "\n",
       "  dayname_of_week  \n",
       "0        Saturday  \n",
       "1        Saturday  \n",
       "2        Saturday  \n",
       "3        Saturday  \n",
       "4         Tuesday  "
      ]
     },
     "execution_count": 84,
     "metadata": {},
     "output_type": "execute_result"
    }
   ],
   "source": [
    "df['dayname_of_week']=df['CrimeDateTime'].dt.dayofweek\n",
    "day_map={0: 'Monday', 1: 'Tuesday', 2: 'Wednesday', 3:'Thursday', 4: 'Friday', 5:'Saturday', 6:'Sunday'}\n",
    "df['dayname_of_week']=df['dayname_of_week'].map(day_map)\n",
    "df.head()"
   ]
  },
  {
   "cell_type": "markdown",
   "id": "39707060",
   "metadata": {},
   "source": [
    "#### Day_of_week"
   ]
  },
  {
   "cell_type": "code",
   "execution_count": 85,
   "id": "32533390",
   "metadata": {},
   "outputs": [
    {
     "data": {
      "text/html": [
       "<div>\n",
       "<style scoped>\n",
       "    .dataframe tbody tr th:only-of-type {\n",
       "        vertical-align: middle;\n",
       "    }\n",
       "\n",
       "    .dataframe tbody tr th {\n",
       "        vertical-align: top;\n",
       "    }\n",
       "\n",
       "    .dataframe thead th {\n",
       "        text-align: right;\n",
       "    }\n",
       "</style>\n",
       "<table border=\"1\" class=\"dataframe\">\n",
       "  <thead>\n",
       "    <tr style=\"text-align: right;\">\n",
       "      <th></th>\n",
       "      <th>CrimeDateTime</th>\n",
       "      <th>Description</th>\n",
       "      <th>Inside_Outside</th>\n",
       "      <th>Weapon</th>\n",
       "      <th>Gender</th>\n",
       "      <th>Age</th>\n",
       "      <th>Race</th>\n",
       "      <th>Old_District</th>\n",
       "      <th>Neighborhood</th>\n",
       "      <th>Latitude</th>\n",
       "      <th>Longitude</th>\n",
       "      <th>PremiseType</th>\n",
       "      <th>Total_Incidents</th>\n",
       "      <th>Year</th>\n",
       "      <th>Month</th>\n",
       "      <th>day_of_month</th>\n",
       "      <th>day_of_year</th>\n",
       "      <th>week_of_year</th>\n",
       "      <th>dayname_of_week</th>\n",
       "      <th>day_of_week</th>\n",
       "    </tr>\n",
       "  </thead>\n",
       "  <tbody>\n",
       "    <tr>\n",
       "      <th>0</th>\n",
       "      <td>2023-04-15 11:30:00+00:00</td>\n",
       "      <td>LARCENY</td>\n",
       "      <td>Inside</td>\n",
       "      <td>UNKNOWN</td>\n",
       "      <td>Female</td>\n",
       "      <td>56</td>\n",
       "      <td>WHITE</td>\n",
       "      <td>NORTHERN</td>\n",
       "      <td>HARWOOD</td>\n",
       "      <td>39.318181</td>\n",
       "      <td>-76.609534</td>\n",
       "      <td>STREET</td>\n",
       "      <td>1</td>\n",
       "      <td>2023</td>\n",
       "      <td>4</td>\n",
       "      <td>15</td>\n",
       "      <td>105</td>\n",
       "      <td>15</td>\n",
       "      <td>Saturday</td>\n",
       "      <td>5</td>\n",
       "    </tr>\n",
       "    <tr>\n",
       "      <th>1</th>\n",
       "      <td>2023-04-15 21:50:00+00:00</td>\n",
       "      <td>LARCENY</td>\n",
       "      <td>Inside</td>\n",
       "      <td>UNKNOWN</td>\n",
       "      <td>UNKNOWN</td>\n",
       "      <td>38</td>\n",
       "      <td>UNKNOWN</td>\n",
       "      <td>NORTHEAST</td>\n",
       "      <td>PULASKI INDUSTRIAL AREA</td>\n",
       "      <td>39.310944</td>\n",
       "      <td>-76.530961</td>\n",
       "      <td>GAS STATION</td>\n",
       "      <td>1</td>\n",
       "      <td>2023</td>\n",
       "      <td>4</td>\n",
       "      <td>15</td>\n",
       "      <td>105</td>\n",
       "      <td>15</td>\n",
       "      <td>Saturday</td>\n",
       "      <td>5</td>\n",
       "    </tr>\n",
       "    <tr>\n",
       "      <th>2</th>\n",
       "      <td>2023-04-15 17:00:00+00:00</td>\n",
       "      <td>LARCENY FROM AUTO</td>\n",
       "      <td>Inside</td>\n",
       "      <td>UNKNOWN</td>\n",
       "      <td>Male</td>\n",
       "      <td>56</td>\n",
       "      <td>BLACK_OR_AFRICAN_AMERICAN</td>\n",
       "      <td>SOUTHWEST</td>\n",
       "      <td>MOUNT HOLLY</td>\n",
       "      <td>39.313038</td>\n",
       "      <td>-76.674519</td>\n",
       "      <td>STREET</td>\n",
       "      <td>1</td>\n",
       "      <td>2023</td>\n",
       "      <td>4</td>\n",
       "      <td>15</td>\n",
       "      <td>105</td>\n",
       "      <td>15</td>\n",
       "      <td>Saturday</td>\n",
       "      <td>5</td>\n",
       "    </tr>\n",
       "    <tr>\n",
       "      <th>3</th>\n",
       "      <td>2023-04-15 21:15:00+00:00</td>\n",
       "      <td>ROBBERY</td>\n",
       "      <td>Inside</td>\n",
       "      <td>HANDGUN</td>\n",
       "      <td>Male</td>\n",
       "      <td>54</td>\n",
       "      <td>WHITE</td>\n",
       "      <td>NORTHWEST</td>\n",
       "      <td>CENTRAL PARK HEIGHTS</td>\n",
       "      <td>39.337523</td>\n",
       "      <td>-76.664090</td>\n",
       "      <td>STREET</td>\n",
       "      <td>1</td>\n",
       "      <td>2023</td>\n",
       "      <td>4</td>\n",
       "      <td>15</td>\n",
       "      <td>105</td>\n",
       "      <td>15</td>\n",
       "      <td>Saturday</td>\n",
       "      <td>5</td>\n",
       "    </tr>\n",
       "    <tr>\n",
       "      <th>4</th>\n",
       "      <td>2023-04-11 09:25:00+00:00</td>\n",
       "      <td>COMMON ASSAULT</td>\n",
       "      <td>Outside</td>\n",
       "      <td>PERSONAL_WEAPONS</td>\n",
       "      <td>Male</td>\n",
       "      <td>58</td>\n",
       "      <td>WHITE</td>\n",
       "      <td>WESTERN</td>\n",
       "      <td>MOSHER</td>\n",
       "      <td>39.296418</td>\n",
       "      <td>-76.661570</td>\n",
       "      <td>DRUG STORE / MED  BL</td>\n",
       "      <td>1</td>\n",
       "      <td>2023</td>\n",
       "      <td>4</td>\n",
       "      <td>11</td>\n",
       "      <td>101</td>\n",
       "      <td>15</td>\n",
       "      <td>Tuesday</td>\n",
       "      <td>1</td>\n",
       "    </tr>\n",
       "  </tbody>\n",
       "</table>\n",
       "</div>"
      ],
      "text/plain": [
       "              CrimeDateTime        Description Inside_Outside  \\\n",
       "0 2023-04-15 11:30:00+00:00            LARCENY         Inside   \n",
       "1 2023-04-15 21:50:00+00:00            LARCENY         Inside   \n",
       "2 2023-04-15 17:00:00+00:00  LARCENY FROM AUTO         Inside   \n",
       "3 2023-04-15 21:15:00+00:00            ROBBERY         Inside   \n",
       "4 2023-04-11 09:25:00+00:00     COMMON ASSAULT        Outside   \n",
       "\n",
       "             Weapon   Gender  Age                       Race Old_District  \\\n",
       "0           UNKNOWN   Female   56                      WHITE     NORTHERN   \n",
       "1           UNKNOWN  UNKNOWN   38                    UNKNOWN    NORTHEAST   \n",
       "2           UNKNOWN     Male   56  BLACK_OR_AFRICAN_AMERICAN    SOUTHWEST   \n",
       "3           HANDGUN     Male   54                      WHITE    NORTHWEST   \n",
       "4  PERSONAL_WEAPONS     Male   58                      WHITE      WESTERN   \n",
       "\n",
       "              Neighborhood   Latitude  Longitude           PremiseType  \\\n",
       "0                  HARWOOD  39.318181 -76.609534                STREET   \n",
       "1  PULASKI INDUSTRIAL AREA  39.310944 -76.530961           GAS STATION   \n",
       "2              MOUNT HOLLY  39.313038 -76.674519                STREET   \n",
       "3     CENTRAL PARK HEIGHTS  39.337523 -76.664090                STREET   \n",
       "4                   MOSHER  39.296418 -76.661570  DRUG STORE / MED  BL   \n",
       "\n",
       "   Total_Incidents  Year  Month  day_of_month  day_of_year  week_of_year  \\\n",
       "0                1  2023      4            15          105            15   \n",
       "1                1  2023      4            15          105            15   \n",
       "2                1  2023      4            15          105            15   \n",
       "3                1  2023      4            15          105            15   \n",
       "4                1  2023      4            11          101            15   \n",
       "\n",
       "  dayname_of_week  day_of_week  \n",
       "0        Saturday            5  \n",
       "1        Saturday            5  \n",
       "2        Saturday            5  \n",
       "3        Saturday            5  \n",
       "4         Tuesday            1  "
      ]
     },
     "execution_count": 85,
     "metadata": {},
     "output_type": "execute_result"
    }
   ],
   "source": [
    "df['day_of_week']=df['CrimeDateTime'].dt.dayofweek\n",
    "df.head()"
   ]
  },
  {
   "cell_type": "markdown",
   "id": "be3603d4",
   "metadata": {},
   "source": [
    "#### Hour"
   ]
  },
  {
   "cell_type": "code",
   "execution_count": 86,
   "id": "68fec586",
   "metadata": {},
   "outputs": [
    {
     "data": {
      "text/html": [
       "<div>\n",
       "<style scoped>\n",
       "    .dataframe tbody tr th:only-of-type {\n",
       "        vertical-align: middle;\n",
       "    }\n",
       "\n",
       "    .dataframe tbody tr th {\n",
       "        vertical-align: top;\n",
       "    }\n",
       "\n",
       "    .dataframe thead th {\n",
       "        text-align: right;\n",
       "    }\n",
       "</style>\n",
       "<table border=\"1\" class=\"dataframe\">\n",
       "  <thead>\n",
       "    <tr style=\"text-align: right;\">\n",
       "      <th></th>\n",
       "      <th>CrimeDateTime</th>\n",
       "      <th>Description</th>\n",
       "      <th>Inside_Outside</th>\n",
       "      <th>Weapon</th>\n",
       "      <th>Gender</th>\n",
       "      <th>Age</th>\n",
       "      <th>Race</th>\n",
       "      <th>Old_District</th>\n",
       "      <th>Neighborhood</th>\n",
       "      <th>Latitude</th>\n",
       "      <th>...</th>\n",
       "      <th>PremiseType</th>\n",
       "      <th>Total_Incidents</th>\n",
       "      <th>Year</th>\n",
       "      <th>Month</th>\n",
       "      <th>day_of_month</th>\n",
       "      <th>day_of_year</th>\n",
       "      <th>week_of_year</th>\n",
       "      <th>dayname_of_week</th>\n",
       "      <th>day_of_week</th>\n",
       "      <th>Hour</th>\n",
       "    </tr>\n",
       "  </thead>\n",
       "  <tbody>\n",
       "    <tr>\n",
       "      <th>0</th>\n",
       "      <td>2023-04-15 11:30:00+00:00</td>\n",
       "      <td>LARCENY</td>\n",
       "      <td>Inside</td>\n",
       "      <td>UNKNOWN</td>\n",
       "      <td>Female</td>\n",
       "      <td>56</td>\n",
       "      <td>WHITE</td>\n",
       "      <td>NORTHERN</td>\n",
       "      <td>HARWOOD</td>\n",
       "      <td>39.318181</td>\n",
       "      <td>...</td>\n",
       "      <td>STREET</td>\n",
       "      <td>1</td>\n",
       "      <td>2023</td>\n",
       "      <td>4</td>\n",
       "      <td>15</td>\n",
       "      <td>105</td>\n",
       "      <td>15</td>\n",
       "      <td>Saturday</td>\n",
       "      <td>5</td>\n",
       "      <td>11</td>\n",
       "    </tr>\n",
       "    <tr>\n",
       "      <th>1</th>\n",
       "      <td>2023-04-15 21:50:00+00:00</td>\n",
       "      <td>LARCENY</td>\n",
       "      <td>Inside</td>\n",
       "      <td>UNKNOWN</td>\n",
       "      <td>UNKNOWN</td>\n",
       "      <td>38</td>\n",
       "      <td>UNKNOWN</td>\n",
       "      <td>NORTHEAST</td>\n",
       "      <td>PULASKI INDUSTRIAL AREA</td>\n",
       "      <td>39.310944</td>\n",
       "      <td>...</td>\n",
       "      <td>GAS STATION</td>\n",
       "      <td>1</td>\n",
       "      <td>2023</td>\n",
       "      <td>4</td>\n",
       "      <td>15</td>\n",
       "      <td>105</td>\n",
       "      <td>15</td>\n",
       "      <td>Saturday</td>\n",
       "      <td>5</td>\n",
       "      <td>21</td>\n",
       "    </tr>\n",
       "    <tr>\n",
       "      <th>2</th>\n",
       "      <td>2023-04-15 17:00:00+00:00</td>\n",
       "      <td>LARCENY FROM AUTO</td>\n",
       "      <td>Inside</td>\n",
       "      <td>UNKNOWN</td>\n",
       "      <td>Male</td>\n",
       "      <td>56</td>\n",
       "      <td>BLACK_OR_AFRICAN_AMERICAN</td>\n",
       "      <td>SOUTHWEST</td>\n",
       "      <td>MOUNT HOLLY</td>\n",
       "      <td>39.313038</td>\n",
       "      <td>...</td>\n",
       "      <td>STREET</td>\n",
       "      <td>1</td>\n",
       "      <td>2023</td>\n",
       "      <td>4</td>\n",
       "      <td>15</td>\n",
       "      <td>105</td>\n",
       "      <td>15</td>\n",
       "      <td>Saturday</td>\n",
       "      <td>5</td>\n",
       "      <td>17</td>\n",
       "    </tr>\n",
       "    <tr>\n",
       "      <th>3</th>\n",
       "      <td>2023-04-15 21:15:00+00:00</td>\n",
       "      <td>ROBBERY</td>\n",
       "      <td>Inside</td>\n",
       "      <td>HANDGUN</td>\n",
       "      <td>Male</td>\n",
       "      <td>54</td>\n",
       "      <td>WHITE</td>\n",
       "      <td>NORTHWEST</td>\n",
       "      <td>CENTRAL PARK HEIGHTS</td>\n",
       "      <td>39.337523</td>\n",
       "      <td>...</td>\n",
       "      <td>STREET</td>\n",
       "      <td>1</td>\n",
       "      <td>2023</td>\n",
       "      <td>4</td>\n",
       "      <td>15</td>\n",
       "      <td>105</td>\n",
       "      <td>15</td>\n",
       "      <td>Saturday</td>\n",
       "      <td>5</td>\n",
       "      <td>21</td>\n",
       "    </tr>\n",
       "    <tr>\n",
       "      <th>4</th>\n",
       "      <td>2023-04-11 09:25:00+00:00</td>\n",
       "      <td>COMMON ASSAULT</td>\n",
       "      <td>Outside</td>\n",
       "      <td>PERSONAL_WEAPONS</td>\n",
       "      <td>Male</td>\n",
       "      <td>58</td>\n",
       "      <td>WHITE</td>\n",
       "      <td>WESTERN</td>\n",
       "      <td>MOSHER</td>\n",
       "      <td>39.296418</td>\n",
       "      <td>...</td>\n",
       "      <td>DRUG STORE / MED  BL</td>\n",
       "      <td>1</td>\n",
       "      <td>2023</td>\n",
       "      <td>4</td>\n",
       "      <td>11</td>\n",
       "      <td>101</td>\n",
       "      <td>15</td>\n",
       "      <td>Tuesday</td>\n",
       "      <td>1</td>\n",
       "      <td>09</td>\n",
       "    </tr>\n",
       "  </tbody>\n",
       "</table>\n",
       "<p>5 rows × 21 columns</p>\n",
       "</div>"
      ],
      "text/plain": [
       "              CrimeDateTime        Description Inside_Outside  \\\n",
       "0 2023-04-15 11:30:00+00:00            LARCENY         Inside   \n",
       "1 2023-04-15 21:50:00+00:00            LARCENY         Inside   \n",
       "2 2023-04-15 17:00:00+00:00  LARCENY FROM AUTO         Inside   \n",
       "3 2023-04-15 21:15:00+00:00            ROBBERY         Inside   \n",
       "4 2023-04-11 09:25:00+00:00     COMMON ASSAULT        Outside   \n",
       "\n",
       "             Weapon   Gender  Age                       Race Old_District  \\\n",
       "0           UNKNOWN   Female   56                      WHITE     NORTHERN   \n",
       "1           UNKNOWN  UNKNOWN   38                    UNKNOWN    NORTHEAST   \n",
       "2           UNKNOWN     Male   56  BLACK_OR_AFRICAN_AMERICAN    SOUTHWEST   \n",
       "3           HANDGUN     Male   54                      WHITE    NORTHWEST   \n",
       "4  PERSONAL_WEAPONS     Male   58                      WHITE      WESTERN   \n",
       "\n",
       "              Neighborhood   Latitude  ...           PremiseType  \\\n",
       "0                  HARWOOD  39.318181  ...                STREET   \n",
       "1  PULASKI INDUSTRIAL AREA  39.310944  ...           GAS STATION   \n",
       "2              MOUNT HOLLY  39.313038  ...                STREET   \n",
       "3     CENTRAL PARK HEIGHTS  39.337523  ...                STREET   \n",
       "4                   MOSHER  39.296418  ...  DRUG STORE / MED  BL   \n",
       "\n",
       "  Total_Incidents  Year  Month  day_of_month  day_of_year  week_of_year  \\\n",
       "0               1  2023      4            15          105            15   \n",
       "1               1  2023      4            15          105            15   \n",
       "2               1  2023      4            15          105            15   \n",
       "3               1  2023      4            15          105            15   \n",
       "4               1  2023      4            11          101            15   \n",
       "\n",
       "   dayname_of_week day_of_week  Hour  \n",
       "0         Saturday           5    11  \n",
       "1         Saturday           5    21  \n",
       "2         Saturday           5    17  \n",
       "3         Saturday           5    21  \n",
       "4          Tuesday           1    09  \n",
       "\n",
       "[5 rows x 21 columns]"
      ]
     },
     "execution_count": 86,
     "metadata": {},
     "output_type": "execute_result"
    }
   ],
   "source": [
    "df['Hour']=df['CrimeDateTime'].dt.strftime('%H')\n",
    "df.head()"
   ]
  },
  {
   "cell_type": "code",
   "execution_count": 87,
   "id": "6e1e7076",
   "metadata": {},
   "outputs": [
    {
     "name": "stdout",
     "output_type": "stream",
     "text": [
      "<class 'pandas.core.frame.DataFrame'>\n",
      "Index: 549793 entries, 0 to 603893\n",
      "Data columns (total 21 columns):\n",
      " #   Column           Non-Null Count   Dtype              \n",
      "---  ------           --------------   -----              \n",
      " 0   CrimeDateTime    549793 non-null  datetime64[ns, UTC]\n",
      " 1   Description      549793 non-null  object             \n",
      " 2   Inside_Outside   549793 non-null  object             \n",
      " 3   Weapon           549793 non-null  object             \n",
      " 4   Gender           549793 non-null  object             \n",
      " 5   Age              549793 non-null  int32              \n",
      " 6   Race             549793 non-null  object             \n",
      " 7   Old_District     549793 non-null  object             \n",
      " 8   Neighborhood     549793 non-null  object             \n",
      " 9   Latitude         549793 non-null  float64            \n",
      " 10  Longitude        549793 non-null  float64            \n",
      " 11  PremiseType      549793 non-null  object             \n",
      " 12  Total_Incidents  549793 non-null  int64              \n",
      " 13  Year             549793 non-null  int32              \n",
      " 14  Month            549793 non-null  int32              \n",
      " 15  day_of_month     549793 non-null  int32              \n",
      " 16  day_of_year      549793 non-null  int32              \n",
      " 17  week_of_year     549793 non-null  UInt32             \n",
      " 18  dayname_of_week  549793 non-null  object             \n",
      " 19  day_of_week      549793 non-null  int32              \n",
      " 20  Hour             549793 non-null  object             \n",
      "dtypes: UInt32(1), datetime64[ns, UTC](1), float64(2), int32(6), int64(1), object(10)\n",
      "memory usage: 78.1+ MB\n"
     ]
    }
   ],
   "source": [
    "df.info()"
   ]
  },
  {
   "cell_type": "code",
   "execution_count": 88,
   "id": "f854f294",
   "metadata": {},
   "outputs": [
    {
     "data": {
      "text/plain": [
       "CrimeDateTime      0\n",
       "Description        0\n",
       "Inside_Outside     0\n",
       "Weapon             0\n",
       "Gender             0\n",
       "Age                0\n",
       "Race               0\n",
       "Old_District       0\n",
       "Neighborhood       0\n",
       "Latitude           0\n",
       "Longitude          0\n",
       "PremiseType        0\n",
       "Total_Incidents    0\n",
       "Year               0\n",
       "Month              0\n",
       "day_of_month       0\n",
       "day_of_year        0\n",
       "week_of_year       0\n",
       "dayname_of_week    0\n",
       "day_of_week        0\n",
       "Hour               0\n",
       "dtype: int64"
      ]
     },
     "execution_count": 88,
     "metadata": {},
     "output_type": "execute_result"
    }
   ],
   "source": [
    "df.isnull().sum()"
   ]
  },
  {
   "cell_type": "code",
   "execution_count": 89,
   "id": "068c6934",
   "metadata": {},
   "outputs": [
    {
     "data": {
      "text/plain": [
       "(549793, 21)"
      ]
     },
     "execution_count": 89,
     "metadata": {},
     "output_type": "execute_result"
    }
   ],
   "source": [
    "df.shape"
   ]
  },
  {
   "cell_type": "code",
   "execution_count": 90,
   "id": "371c2393",
   "metadata": {},
   "outputs": [],
   "source": [
    "clean_df=df[df['Year']>=2013]"
   ]
  },
  {
   "cell_type": "code",
   "execution_count": 91,
   "id": "49a12f71",
   "metadata": {},
   "outputs": [
    {
     "data": {
      "text/plain": [
       "(454293, 21)"
      ]
     },
     "execution_count": 91,
     "metadata": {},
     "output_type": "execute_result"
    }
   ],
   "source": [
    "clean_df.shape"
   ]
  },
  {
   "cell_type": "code",
   "execution_count": 93,
   "id": "a3270211",
   "metadata": {},
   "outputs": [],
   "source": [
    "filepath = \"clean_crime_data.csv\"\n",
    "clean_df.to_csv(filepath, index=False)"
   ]
  },
  {
   "cell_type": "code",
   "execution_count": 94,
   "id": "ab317916",
   "metadata": {},
   "outputs": [
    {
     "data": {
      "text/plain": [
       "array([2023, 2022, 2021, 2020, 2019, 2018, 2017, 2024, 2016, 2015, 2014,\n",
       "       2013])"
      ]
     },
     "execution_count": 94,
     "metadata": {},
     "output_type": "execute_result"
    }
   ],
   "source": [
    "clean_df.Year.unique()"
   ]
  },
  {
   "cell_type": "code",
   "execution_count": 95,
   "id": "ed1fd990",
   "metadata": {},
   "outputs": [
    {
     "data": {
      "text/plain": [
       "CrimeDateTime      0\n",
       "Description        0\n",
       "Inside_Outside     0\n",
       "Weapon             0\n",
       "Gender             0\n",
       "Age                0\n",
       "Race               0\n",
       "Old_District       0\n",
       "Neighborhood       0\n",
       "Latitude           0\n",
       "Longitude          0\n",
       "PremiseType        0\n",
       "Total_Incidents    0\n",
       "Year               0\n",
       "Month              0\n",
       "day_of_month       0\n",
       "day_of_year        0\n",
       "week_of_year       0\n",
       "dayname_of_week    0\n",
       "day_of_week        0\n",
       "Hour               0\n",
       "dtype: int64"
      ]
     },
     "execution_count": 95,
     "metadata": {},
     "output_type": "execute_result"
    }
   ],
   "source": [
    "clean_df.isnull().sum()"
   ]
  }
 ],
 "metadata": {
  "kernelspec": {
   "display_name": "Python 3 (ipykernel)",
   "language": "python",
   "name": "python3"
  },
  "language_info": {
   "codemirror_mode": {
    "name": "ipython",
    "version": 3
   },
   "file_extension": ".py",
   "mimetype": "text/x-python",
   "name": "python",
   "nbconvert_exporter": "python",
   "pygments_lexer": "ipython3",
   "version": "3.11.5"
  }
 },
 "nbformat": 4,
 "nbformat_minor": 5
}
