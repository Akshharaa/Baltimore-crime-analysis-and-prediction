{
 "cells": [
  {
   "cell_type": "code",
   "execution_count": 3,
   "id": "ecaf8bf6",
   "metadata": {},
   "outputs": [],
   "source": [
    "import pandas as pd\n",
    "import numpy as np"
   ]
  },
  {
   "cell_type": "code",
   "execution_count": 4,
   "id": "48cf4441",
   "metadata": {},
   "outputs": [
    {
     "data": {
      "text/html": [
       "<div>\n",
       "<style scoped>\n",
       "    .dataframe tbody tr th:only-of-type {\n",
       "        vertical-align: middle;\n",
       "    }\n",
       "\n",
       "    .dataframe tbody tr th {\n",
       "        vertical-align: top;\n",
       "    }\n",
       "\n",
       "    .dataframe thead th {\n",
       "        text-align: right;\n",
       "    }\n",
       "</style>\n",
       "<table border=\"1\" class=\"dataframe\">\n",
       "  <thead>\n",
       "    <tr style=\"text-align: right;\">\n",
       "      <th></th>\n",
       "      <th>CrimeDateTime</th>\n",
       "      <th>Description</th>\n",
       "      <th>Inside_Outside</th>\n",
       "      <th>Weapon</th>\n",
       "      <th>Gender</th>\n",
       "      <th>Age</th>\n",
       "      <th>Race</th>\n",
       "      <th>Old_District</th>\n",
       "      <th>Neighborhood</th>\n",
       "      <th>Latitude</th>\n",
       "      <th>...</th>\n",
       "      <th>PremiseType</th>\n",
       "      <th>Total_Incidents</th>\n",
       "      <th>Year</th>\n",
       "      <th>Month</th>\n",
       "      <th>day_of_month</th>\n",
       "      <th>day_of_year</th>\n",
       "      <th>week_of_year</th>\n",
       "      <th>dayname_of_week</th>\n",
       "      <th>day_of_week</th>\n",
       "      <th>Hour</th>\n",
       "    </tr>\n",
       "  </thead>\n",
       "  <tbody>\n",
       "    <tr>\n",
       "      <th>0</th>\n",
       "      <td>2023-04-15 11:30:00+00:00</td>\n",
       "      <td>LARCENY</td>\n",
       "      <td>Inside</td>\n",
       "      <td>UNKNOWN</td>\n",
       "      <td>Female</td>\n",
       "      <td>56</td>\n",
       "      <td>WHITE</td>\n",
       "      <td>NORTHERN</td>\n",
       "      <td>HARWOOD</td>\n",
       "      <td>39.318181</td>\n",
       "      <td>...</td>\n",
       "      <td>STREET</td>\n",
       "      <td>1</td>\n",
       "      <td>2023</td>\n",
       "      <td>4</td>\n",
       "      <td>15</td>\n",
       "      <td>105</td>\n",
       "      <td>15</td>\n",
       "      <td>Saturday</td>\n",
       "      <td>5</td>\n",
       "      <td>11</td>\n",
       "    </tr>\n",
       "    <tr>\n",
       "      <th>1</th>\n",
       "      <td>2023-04-15 21:50:00+00:00</td>\n",
       "      <td>LARCENY</td>\n",
       "      <td>Inside</td>\n",
       "      <td>UNKNOWN</td>\n",
       "      <td>UNKNOWN</td>\n",
       "      <td>38</td>\n",
       "      <td>UNKNOWN</td>\n",
       "      <td>NORTHEAST</td>\n",
       "      <td>PULASKI INDUSTRIAL AREA</td>\n",
       "      <td>39.310944</td>\n",
       "      <td>...</td>\n",
       "      <td>GAS STATION</td>\n",
       "      <td>1</td>\n",
       "      <td>2023</td>\n",
       "      <td>4</td>\n",
       "      <td>15</td>\n",
       "      <td>105</td>\n",
       "      <td>15</td>\n",
       "      <td>Saturday</td>\n",
       "      <td>5</td>\n",
       "      <td>21</td>\n",
       "    </tr>\n",
       "    <tr>\n",
       "      <th>2</th>\n",
       "      <td>2023-04-15 17:00:00+00:00</td>\n",
       "      <td>LARCENY FROM AUTO</td>\n",
       "      <td>Inside</td>\n",
       "      <td>UNKNOWN</td>\n",
       "      <td>Male</td>\n",
       "      <td>56</td>\n",
       "      <td>BLACK_OR_AFRICAN_AMERICAN</td>\n",
       "      <td>SOUTHWEST</td>\n",
       "      <td>MOUNT HOLLY</td>\n",
       "      <td>39.313038</td>\n",
       "      <td>...</td>\n",
       "      <td>STREET</td>\n",
       "      <td>1</td>\n",
       "      <td>2023</td>\n",
       "      <td>4</td>\n",
       "      <td>15</td>\n",
       "      <td>105</td>\n",
       "      <td>15</td>\n",
       "      <td>Saturday</td>\n",
       "      <td>5</td>\n",
       "      <td>17</td>\n",
       "    </tr>\n",
       "    <tr>\n",
       "      <th>3</th>\n",
       "      <td>2023-04-15 21:15:00+00:00</td>\n",
       "      <td>ROBBERY</td>\n",
       "      <td>Inside</td>\n",
       "      <td>HANDGUN</td>\n",
       "      <td>Male</td>\n",
       "      <td>54</td>\n",
       "      <td>WHITE</td>\n",
       "      <td>NORTHWEST</td>\n",
       "      <td>CENTRAL PARK HEIGHTS</td>\n",
       "      <td>39.337523</td>\n",
       "      <td>...</td>\n",
       "      <td>STREET</td>\n",
       "      <td>1</td>\n",
       "      <td>2023</td>\n",
       "      <td>4</td>\n",
       "      <td>15</td>\n",
       "      <td>105</td>\n",
       "      <td>15</td>\n",
       "      <td>Saturday</td>\n",
       "      <td>5</td>\n",
       "      <td>21</td>\n",
       "    </tr>\n",
       "    <tr>\n",
       "      <th>4</th>\n",
       "      <td>2023-04-11 09:25:00+00:00</td>\n",
       "      <td>COMMON ASSAULT</td>\n",
       "      <td>Outside</td>\n",
       "      <td>PERSONAL_WEAPONS</td>\n",
       "      <td>Male</td>\n",
       "      <td>58</td>\n",
       "      <td>WHITE</td>\n",
       "      <td>WESTERN</td>\n",
       "      <td>MOSHER</td>\n",
       "      <td>39.296418</td>\n",
       "      <td>...</td>\n",
       "      <td>DRUG STORE / MED  BL</td>\n",
       "      <td>1</td>\n",
       "      <td>2023</td>\n",
       "      <td>4</td>\n",
       "      <td>11</td>\n",
       "      <td>101</td>\n",
       "      <td>15</td>\n",
       "      <td>Tuesday</td>\n",
       "      <td>1</td>\n",
       "      <td>9</td>\n",
       "    </tr>\n",
       "  </tbody>\n",
       "</table>\n",
       "<p>5 rows × 21 columns</p>\n",
       "</div>"
      ],
      "text/plain": [
       "               CrimeDateTime        Description Inside_Outside  \\\n",
       "0  2023-04-15 11:30:00+00:00            LARCENY         Inside   \n",
       "1  2023-04-15 21:50:00+00:00            LARCENY         Inside   \n",
       "2  2023-04-15 17:00:00+00:00  LARCENY FROM AUTO         Inside   \n",
       "3  2023-04-15 21:15:00+00:00            ROBBERY         Inside   \n",
       "4  2023-04-11 09:25:00+00:00     COMMON ASSAULT        Outside   \n",
       "\n",
       "             Weapon   Gender  Age                       Race Old_District  \\\n",
       "0           UNKNOWN   Female   56                      WHITE     NORTHERN   \n",
       "1           UNKNOWN  UNKNOWN   38                    UNKNOWN    NORTHEAST   \n",
       "2           UNKNOWN     Male   56  BLACK_OR_AFRICAN_AMERICAN    SOUTHWEST   \n",
       "3           HANDGUN     Male   54                      WHITE    NORTHWEST   \n",
       "4  PERSONAL_WEAPONS     Male   58                      WHITE      WESTERN   \n",
       "\n",
       "              Neighborhood   Latitude  ...           PremiseType  \\\n",
       "0                  HARWOOD  39.318181  ...                STREET   \n",
       "1  PULASKI INDUSTRIAL AREA  39.310944  ...           GAS STATION   \n",
       "2              MOUNT HOLLY  39.313038  ...                STREET   \n",
       "3     CENTRAL PARK HEIGHTS  39.337523  ...                STREET   \n",
       "4                   MOSHER  39.296418  ...  DRUG STORE / MED  BL   \n",
       "\n",
       "  Total_Incidents  Year  Month  day_of_month  day_of_year  week_of_year  \\\n",
       "0               1  2023      4            15          105            15   \n",
       "1               1  2023      4            15          105            15   \n",
       "2               1  2023      4            15          105            15   \n",
       "3               1  2023      4            15          105            15   \n",
       "4               1  2023      4            11          101            15   \n",
       "\n",
       "   dayname_of_week day_of_week  Hour  \n",
       "0         Saturday           5    11  \n",
       "1         Saturday           5    21  \n",
       "2         Saturday           5    17  \n",
       "3         Saturday           5    21  \n",
       "4          Tuesday           1     9  \n",
       "\n",
       "[5 rows x 21 columns]"
      ]
     },
     "execution_count": 4,
     "metadata": {},
     "output_type": "execute_result"
    }
   ],
   "source": [
    "df=pd.read_csv(r'C:\\Users\\thari\\OneDrive\\Desktop\\Project\\clean_crime_df.csv', low_memory=False)\n",
    "df.head()"
   ]
  },
  {
   "cell_type": "code",
   "execution_count": 5,
   "id": "6813487e",
   "metadata": {},
   "outputs": [
    {
     "data": {
      "text/plain": [
       "CrimeDateTime      0\n",
       "Description        0\n",
       "Inside_Outside     0\n",
       "Weapon             0\n",
       "Gender             0\n",
       "Age                0\n",
       "Race               0\n",
       "Old_District       0\n",
       "Neighborhood       0\n",
       "Latitude           0\n",
       "Longitude          0\n",
       "PremiseType        0\n",
       "Total_Incidents    0\n",
       "Year               0\n",
       "Month              0\n",
       "day_of_month       0\n",
       "day_of_year        0\n",
       "week_of_year       0\n",
       "dayname_of_week    0\n",
       "day_of_week        0\n",
       "Hour               0\n",
       "dtype: int64"
      ]
     },
     "execution_count": 5,
     "metadata": {},
     "output_type": "execute_result"
    }
   ],
   "source": [
    "df.isnull().sum()"
   ]
  },
  {
   "cell_type": "code",
   "execution_count": 6,
   "id": "d762f699",
   "metadata": {},
   "outputs": [],
   "source": [
    "df['new_desc'] = df['Description']"
   ]
  },
  {
   "cell_type": "code",
   "execution_count": 7,
   "id": "e16c12e2",
   "metadata": {},
   "outputs": [],
   "source": [
    "df.loc[df['new_desc'].isin(['ROBBERY - COMMERCIAL', 'ROBBERY - CARJACKING' ]), 'new_desc'] = 'ROBBERY'\n",
    "df.loc[df['new_desc'].isin(['LARCENY FROM AUTO']), 'new_desc'] = 'LARCENY'\n",
    "df.loc[df['new_desc'].isin(['COMMON ASSAULT', 'AGG. ASSAULT']), 'new_desc'] = 'ASSUALT'"
   ]
  },
  {
   "cell_type": "code",
   "execution_count": 8,
   "id": "ab3a14c1",
   "metadata": {},
   "outputs": [
    {
     "data": {
      "text/plain": [
       "new_desc\n",
       "LARCENY       151225\n",
       "ASSUALT       134587\n",
       "BURGLARY       59699\n",
       "AUTO THEFT     47542\n",
       "ROBBERY        46648\n",
       "SHOOTING        6603\n",
       "HOMICIDE        3373\n",
       "RAPE            2729\n",
       "ARSON           1887\n",
       "Name: count, dtype: int64"
      ]
     },
     "execution_count": 8,
     "metadata": {},
     "output_type": "execute_result"
    }
   ],
   "source": [
    "df.new_desc.value_counts()"
   ]
  },
  {
   "cell_type": "code",
   "execution_count": 9,
   "id": "876e2096",
   "metadata": {},
   "outputs": [
    {
     "data": {
      "text/html": [
       "<div>\n",
       "<style scoped>\n",
       "    .dataframe tbody tr th:only-of-type {\n",
       "        vertical-align: middle;\n",
       "    }\n",
       "\n",
       "    .dataframe tbody tr th {\n",
       "        vertical-align: top;\n",
       "    }\n",
       "\n",
       "    .dataframe thead th {\n",
       "        text-align: right;\n",
       "    }\n",
       "</style>\n",
       "<table border=\"1\" class=\"dataframe\">\n",
       "  <thead>\n",
       "    <tr style=\"text-align: right;\">\n",
       "      <th></th>\n",
       "      <th>CrimeDateTime</th>\n",
       "      <th>Description</th>\n",
       "      <th>Inside_Outside</th>\n",
       "      <th>Weapon</th>\n",
       "      <th>Gender</th>\n",
       "      <th>Age</th>\n",
       "      <th>Race</th>\n",
       "      <th>Old_District</th>\n",
       "      <th>Neighborhood</th>\n",
       "      <th>Latitude</th>\n",
       "      <th>...</th>\n",
       "      <th>Year</th>\n",
       "      <th>Month</th>\n",
       "      <th>day_of_month</th>\n",
       "      <th>day_of_year</th>\n",
       "      <th>week_of_year</th>\n",
       "      <th>dayname_of_week</th>\n",
       "      <th>day_of_week</th>\n",
       "      <th>Hour</th>\n",
       "      <th>new_desc</th>\n",
       "      <th>violent_crime</th>\n",
       "    </tr>\n",
       "  </thead>\n",
       "  <tbody>\n",
       "    <tr>\n",
       "      <th>0</th>\n",
       "      <td>2023-04-15 11:30:00+00:00</td>\n",
       "      <td>LARCENY</td>\n",
       "      <td>Inside</td>\n",
       "      <td>UNKNOWN</td>\n",
       "      <td>Female</td>\n",
       "      <td>56</td>\n",
       "      <td>WHITE</td>\n",
       "      <td>NORTHERN</td>\n",
       "      <td>HARWOOD</td>\n",
       "      <td>39.318181</td>\n",
       "      <td>...</td>\n",
       "      <td>2023</td>\n",
       "      <td>4</td>\n",
       "      <td>15</td>\n",
       "      <td>105</td>\n",
       "      <td>15</td>\n",
       "      <td>Saturday</td>\n",
       "      <td>5</td>\n",
       "      <td>11</td>\n",
       "      <td>LARCENY</td>\n",
       "      <td>0</td>\n",
       "    </tr>\n",
       "    <tr>\n",
       "      <th>1</th>\n",
       "      <td>2023-04-15 21:50:00+00:00</td>\n",
       "      <td>LARCENY</td>\n",
       "      <td>Inside</td>\n",
       "      <td>UNKNOWN</td>\n",
       "      <td>UNKNOWN</td>\n",
       "      <td>38</td>\n",
       "      <td>UNKNOWN</td>\n",
       "      <td>NORTHEAST</td>\n",
       "      <td>PULASKI INDUSTRIAL AREA</td>\n",
       "      <td>39.310944</td>\n",
       "      <td>...</td>\n",
       "      <td>2023</td>\n",
       "      <td>4</td>\n",
       "      <td>15</td>\n",
       "      <td>105</td>\n",
       "      <td>15</td>\n",
       "      <td>Saturday</td>\n",
       "      <td>5</td>\n",
       "      <td>21</td>\n",
       "      <td>LARCENY</td>\n",
       "      <td>0</td>\n",
       "    </tr>\n",
       "    <tr>\n",
       "      <th>2</th>\n",
       "      <td>2023-04-15 17:00:00+00:00</td>\n",
       "      <td>LARCENY FROM AUTO</td>\n",
       "      <td>Inside</td>\n",
       "      <td>UNKNOWN</td>\n",
       "      <td>Male</td>\n",
       "      <td>56</td>\n",
       "      <td>BLACK_OR_AFRICAN_AMERICAN</td>\n",
       "      <td>SOUTHWEST</td>\n",
       "      <td>MOUNT HOLLY</td>\n",
       "      <td>39.313038</td>\n",
       "      <td>...</td>\n",
       "      <td>2023</td>\n",
       "      <td>4</td>\n",
       "      <td>15</td>\n",
       "      <td>105</td>\n",
       "      <td>15</td>\n",
       "      <td>Saturday</td>\n",
       "      <td>5</td>\n",
       "      <td>17</td>\n",
       "      <td>LARCENY</td>\n",
       "      <td>0</td>\n",
       "    </tr>\n",
       "    <tr>\n",
       "      <th>3</th>\n",
       "      <td>2023-04-15 21:15:00+00:00</td>\n",
       "      <td>ROBBERY</td>\n",
       "      <td>Inside</td>\n",
       "      <td>HANDGUN</td>\n",
       "      <td>Male</td>\n",
       "      <td>54</td>\n",
       "      <td>WHITE</td>\n",
       "      <td>NORTHWEST</td>\n",
       "      <td>CENTRAL PARK HEIGHTS</td>\n",
       "      <td>39.337523</td>\n",
       "      <td>...</td>\n",
       "      <td>2023</td>\n",
       "      <td>4</td>\n",
       "      <td>15</td>\n",
       "      <td>105</td>\n",
       "      <td>15</td>\n",
       "      <td>Saturday</td>\n",
       "      <td>5</td>\n",
       "      <td>21</td>\n",
       "      <td>ROBBERY</td>\n",
       "      <td>0</td>\n",
       "    </tr>\n",
       "    <tr>\n",
       "      <th>4</th>\n",
       "      <td>2023-04-11 09:25:00+00:00</td>\n",
       "      <td>COMMON ASSAULT</td>\n",
       "      <td>Outside</td>\n",
       "      <td>PERSONAL_WEAPONS</td>\n",
       "      <td>Male</td>\n",
       "      <td>58</td>\n",
       "      <td>WHITE</td>\n",
       "      <td>WESTERN</td>\n",
       "      <td>MOSHER</td>\n",
       "      <td>39.296418</td>\n",
       "      <td>...</td>\n",
       "      <td>2023</td>\n",
       "      <td>4</td>\n",
       "      <td>11</td>\n",
       "      <td>101</td>\n",
       "      <td>15</td>\n",
       "      <td>Tuesday</td>\n",
       "      <td>1</td>\n",
       "      <td>9</td>\n",
       "      <td>ASSUALT</td>\n",
       "      <td>1</td>\n",
       "    </tr>\n",
       "  </tbody>\n",
       "</table>\n",
       "<p>5 rows × 23 columns</p>\n",
       "</div>"
      ],
      "text/plain": [
       "               CrimeDateTime        Description Inside_Outside  \\\n",
       "0  2023-04-15 11:30:00+00:00            LARCENY         Inside   \n",
       "1  2023-04-15 21:50:00+00:00            LARCENY         Inside   \n",
       "2  2023-04-15 17:00:00+00:00  LARCENY FROM AUTO         Inside   \n",
       "3  2023-04-15 21:15:00+00:00            ROBBERY         Inside   \n",
       "4  2023-04-11 09:25:00+00:00     COMMON ASSAULT        Outside   \n",
       "\n",
       "             Weapon   Gender  Age                       Race Old_District  \\\n",
       "0           UNKNOWN   Female   56                      WHITE     NORTHERN   \n",
       "1           UNKNOWN  UNKNOWN   38                    UNKNOWN    NORTHEAST   \n",
       "2           UNKNOWN     Male   56  BLACK_OR_AFRICAN_AMERICAN    SOUTHWEST   \n",
       "3           HANDGUN     Male   54                      WHITE    NORTHWEST   \n",
       "4  PERSONAL_WEAPONS     Male   58                      WHITE      WESTERN   \n",
       "\n",
       "              Neighborhood   Latitude  ...  Year Month  day_of_month  \\\n",
       "0                  HARWOOD  39.318181  ...  2023     4            15   \n",
       "1  PULASKI INDUSTRIAL AREA  39.310944  ...  2023     4            15   \n",
       "2              MOUNT HOLLY  39.313038  ...  2023     4            15   \n",
       "3     CENTRAL PARK HEIGHTS  39.337523  ...  2023     4            15   \n",
       "4                   MOSHER  39.296418  ...  2023     4            11   \n",
       "\n",
       "   day_of_year  week_of_year  dayname_of_week  day_of_week  Hour new_desc  \\\n",
       "0          105            15         Saturday            5    11  LARCENY   \n",
       "1          105            15         Saturday            5    21  LARCENY   \n",
       "2          105            15         Saturday            5    17  LARCENY   \n",
       "3          105            15         Saturday            5    21  ROBBERY   \n",
       "4          101            15          Tuesday            1     9  ASSUALT   \n",
       "\n",
       "   violent_crime  \n",
       "0              0  \n",
       "1              0  \n",
       "2              0  \n",
       "3              0  \n",
       "4              1  \n",
       "\n",
       "[5 rows x 23 columns]"
      ]
     },
     "execution_count": 9,
     "metadata": {},
     "output_type": "execute_result"
    }
   ],
   "source": [
    "def crime_category(crime):\n",
    "    if crime in ['ASSUALT', 'SHOOTING', 'RAPE', 'HOMICIDE']:\n",
    "        return 1\n",
    "    else:\n",
    "        return 0\n",
    "\n",
    "\n",
    "df['violent_crime'] = df['new_desc'].apply(crime_category)\n",
    "df['violent_crime']=df['violent_crime'].astype(int)\n",
    "df.head()"
   ]
  },
  {
   "cell_type": "code",
   "execution_count": 10,
   "id": "06857794",
   "metadata": {},
   "outputs": [
    {
     "data": {
      "text/html": [
       "<div>\n",
       "<style scoped>\n",
       "    .dataframe tbody tr th:only-of-type {\n",
       "        vertical-align: middle;\n",
       "    }\n",
       "\n",
       "    .dataframe tbody tr th {\n",
       "        vertical-align: top;\n",
       "    }\n",
       "\n",
       "    .dataframe thead th {\n",
       "        text-align: right;\n",
       "    }\n",
       "</style>\n",
       "<table border=\"1\" class=\"dataframe\">\n",
       "  <thead>\n",
       "    <tr style=\"text-align: right;\">\n",
       "      <th></th>\n",
       "      <th>CrimeDateTime</th>\n",
       "      <th>Description</th>\n",
       "      <th>Inside_Outside</th>\n",
       "      <th>Weapon</th>\n",
       "      <th>Gender</th>\n",
       "      <th>Age</th>\n",
       "      <th>Race</th>\n",
       "      <th>Old_District</th>\n",
       "      <th>Neighborhood</th>\n",
       "      <th>Latitude</th>\n",
       "      <th>...</th>\n",
       "      <th>Month</th>\n",
       "      <th>day_of_month</th>\n",
       "      <th>day_of_year</th>\n",
       "      <th>week_of_year</th>\n",
       "      <th>dayname_of_week</th>\n",
       "      <th>day_of_week</th>\n",
       "      <th>Hour</th>\n",
       "      <th>new_desc</th>\n",
       "      <th>violent_crime</th>\n",
       "      <th>property_crime</th>\n",
       "    </tr>\n",
       "  </thead>\n",
       "  <tbody>\n",
       "    <tr>\n",
       "      <th>0</th>\n",
       "      <td>2023-04-15 11:30:00+00:00</td>\n",
       "      <td>LARCENY</td>\n",
       "      <td>Inside</td>\n",
       "      <td>UNKNOWN</td>\n",
       "      <td>Female</td>\n",
       "      <td>56</td>\n",
       "      <td>WHITE</td>\n",
       "      <td>NORTHERN</td>\n",
       "      <td>HARWOOD</td>\n",
       "      <td>39.318181</td>\n",
       "      <td>...</td>\n",
       "      <td>4</td>\n",
       "      <td>15</td>\n",
       "      <td>105</td>\n",
       "      <td>15</td>\n",
       "      <td>Saturday</td>\n",
       "      <td>5</td>\n",
       "      <td>11</td>\n",
       "      <td>LARCENY</td>\n",
       "      <td>0</td>\n",
       "      <td>1</td>\n",
       "    </tr>\n",
       "    <tr>\n",
       "      <th>1</th>\n",
       "      <td>2023-04-15 21:50:00+00:00</td>\n",
       "      <td>LARCENY</td>\n",
       "      <td>Inside</td>\n",
       "      <td>UNKNOWN</td>\n",
       "      <td>UNKNOWN</td>\n",
       "      <td>38</td>\n",
       "      <td>UNKNOWN</td>\n",
       "      <td>NORTHEAST</td>\n",
       "      <td>PULASKI INDUSTRIAL AREA</td>\n",
       "      <td>39.310944</td>\n",
       "      <td>...</td>\n",
       "      <td>4</td>\n",
       "      <td>15</td>\n",
       "      <td>105</td>\n",
       "      <td>15</td>\n",
       "      <td>Saturday</td>\n",
       "      <td>5</td>\n",
       "      <td>21</td>\n",
       "      <td>LARCENY</td>\n",
       "      <td>0</td>\n",
       "      <td>1</td>\n",
       "    </tr>\n",
       "    <tr>\n",
       "      <th>2</th>\n",
       "      <td>2023-04-15 17:00:00+00:00</td>\n",
       "      <td>LARCENY FROM AUTO</td>\n",
       "      <td>Inside</td>\n",
       "      <td>UNKNOWN</td>\n",
       "      <td>Male</td>\n",
       "      <td>56</td>\n",
       "      <td>BLACK_OR_AFRICAN_AMERICAN</td>\n",
       "      <td>SOUTHWEST</td>\n",
       "      <td>MOUNT HOLLY</td>\n",
       "      <td>39.313038</td>\n",
       "      <td>...</td>\n",
       "      <td>4</td>\n",
       "      <td>15</td>\n",
       "      <td>105</td>\n",
       "      <td>15</td>\n",
       "      <td>Saturday</td>\n",
       "      <td>5</td>\n",
       "      <td>17</td>\n",
       "      <td>LARCENY</td>\n",
       "      <td>0</td>\n",
       "      <td>1</td>\n",
       "    </tr>\n",
       "    <tr>\n",
       "      <th>3</th>\n",
       "      <td>2023-04-15 21:15:00+00:00</td>\n",
       "      <td>ROBBERY</td>\n",
       "      <td>Inside</td>\n",
       "      <td>HANDGUN</td>\n",
       "      <td>Male</td>\n",
       "      <td>54</td>\n",
       "      <td>WHITE</td>\n",
       "      <td>NORTHWEST</td>\n",
       "      <td>CENTRAL PARK HEIGHTS</td>\n",
       "      <td>39.337523</td>\n",
       "      <td>...</td>\n",
       "      <td>4</td>\n",
       "      <td>15</td>\n",
       "      <td>105</td>\n",
       "      <td>15</td>\n",
       "      <td>Saturday</td>\n",
       "      <td>5</td>\n",
       "      <td>21</td>\n",
       "      <td>ROBBERY</td>\n",
       "      <td>0</td>\n",
       "      <td>1</td>\n",
       "    </tr>\n",
       "    <tr>\n",
       "      <th>4</th>\n",
       "      <td>2023-04-11 09:25:00+00:00</td>\n",
       "      <td>COMMON ASSAULT</td>\n",
       "      <td>Outside</td>\n",
       "      <td>PERSONAL_WEAPONS</td>\n",
       "      <td>Male</td>\n",
       "      <td>58</td>\n",
       "      <td>WHITE</td>\n",
       "      <td>WESTERN</td>\n",
       "      <td>MOSHER</td>\n",
       "      <td>39.296418</td>\n",
       "      <td>...</td>\n",
       "      <td>4</td>\n",
       "      <td>11</td>\n",
       "      <td>101</td>\n",
       "      <td>15</td>\n",
       "      <td>Tuesday</td>\n",
       "      <td>1</td>\n",
       "      <td>9</td>\n",
       "      <td>ASSUALT</td>\n",
       "      <td>1</td>\n",
       "      <td>0</td>\n",
       "    </tr>\n",
       "  </tbody>\n",
       "</table>\n",
       "<p>5 rows × 24 columns</p>\n",
       "</div>"
      ],
      "text/plain": [
       "               CrimeDateTime        Description Inside_Outside  \\\n",
       "0  2023-04-15 11:30:00+00:00            LARCENY         Inside   \n",
       "1  2023-04-15 21:50:00+00:00            LARCENY         Inside   \n",
       "2  2023-04-15 17:00:00+00:00  LARCENY FROM AUTO         Inside   \n",
       "3  2023-04-15 21:15:00+00:00            ROBBERY         Inside   \n",
       "4  2023-04-11 09:25:00+00:00     COMMON ASSAULT        Outside   \n",
       "\n",
       "             Weapon   Gender  Age                       Race Old_District  \\\n",
       "0           UNKNOWN   Female   56                      WHITE     NORTHERN   \n",
       "1           UNKNOWN  UNKNOWN   38                    UNKNOWN    NORTHEAST   \n",
       "2           UNKNOWN     Male   56  BLACK_OR_AFRICAN_AMERICAN    SOUTHWEST   \n",
       "3           HANDGUN     Male   54                      WHITE    NORTHWEST   \n",
       "4  PERSONAL_WEAPONS     Male   58                      WHITE      WESTERN   \n",
       "\n",
       "              Neighborhood   Latitude  ...  Month day_of_month  day_of_year  \\\n",
       "0                  HARWOOD  39.318181  ...      4           15          105   \n",
       "1  PULASKI INDUSTRIAL AREA  39.310944  ...      4           15          105   \n",
       "2              MOUNT HOLLY  39.313038  ...      4           15          105   \n",
       "3     CENTRAL PARK HEIGHTS  39.337523  ...      4           15          105   \n",
       "4                   MOSHER  39.296418  ...      4           11          101   \n",
       "\n",
       "   week_of_year  dayname_of_week  day_of_week  Hour  new_desc violent_crime  \\\n",
       "0            15         Saturday            5    11   LARCENY             0   \n",
       "1            15         Saturday            5    21   LARCENY             0   \n",
       "2            15         Saturday            5    17   LARCENY             0   \n",
       "3            15         Saturday            5    21   ROBBERY             0   \n",
       "4            15          Tuesday            1     9   ASSUALT             1   \n",
       "\n",
       "   property_crime  \n",
       "0               1  \n",
       "1               1  \n",
       "2               1  \n",
       "3               1  \n",
       "4               0  \n",
       "\n",
       "[5 rows x 24 columns]"
      ]
     },
     "execution_count": 10,
     "metadata": {},
     "output_type": "execute_result"
    }
   ],
   "source": [
    "def crime_category(crime):\n",
    "    if crime in ['LARCENY', 'BURGLARY', 'ROBBERY','AUTO THEFT', 'ARSON']:\n",
    "        return 1\n",
    "    else:\n",
    "        return 0\n",
    "\n",
    "\n",
    "df['property_crime'] = df['new_desc'].apply(crime_category)\n",
    "df['property_crime']=df['property_crime'].astype(int)\n",
    "df.head()"
   ]
  },
  {
   "cell_type": "code",
   "execution_count": 11,
   "id": "7932da89",
   "metadata": {},
   "outputs": [
    {
     "data": {
      "text/plain": [
       "Index(['CrimeDateTime', 'Description', 'Inside_Outside', 'Weapon', 'Gender',\n",
       "       'Age', 'Race', 'Old_District', 'Neighborhood', 'Latitude', 'Longitude',\n",
       "       'PremiseType', 'Total_Incidents', 'Year', 'Month', 'day_of_month',\n",
       "       'day_of_year', 'week_of_year', 'dayname_of_week', 'day_of_week', 'Hour',\n",
       "       'new_desc', 'violent_crime', 'property_crime'],\n",
       "      dtype='object')"
      ]
     },
     "execution_count": 11,
     "metadata": {},
     "output_type": "execute_result"
    }
   ],
   "source": [
    "df.columns"
   ]
  },
  {
   "cell_type": "code",
   "execution_count": 12,
   "id": "4f3cd88c",
   "metadata": {},
   "outputs": [],
   "source": [
    "#df['Age'] = df['Age'].round().astype(int)"
   ]
  },
  {
   "cell_type": "code",
   "execution_count": 13,
   "id": "10f6db45",
   "metadata": {},
   "outputs": [
    {
     "data": {
      "text/plain": [
       "0    56\n",
       "1    38\n",
       "2    56\n",
       "3    54\n",
       "4    58\n",
       "Name: Age, dtype: int64"
      ]
     },
     "execution_count": 13,
     "metadata": {},
     "output_type": "execute_result"
    }
   ],
   "source": [
    "df.Age.head()"
   ]
  },
  {
   "cell_type": "code",
   "execution_count": 14,
   "id": "4fc1b7bf",
   "metadata": {},
   "outputs": [],
   "source": [
    "df1=df[['Latitude', 'Longitude','Year', 'Month', 'day_of_month',\n",
    "       'day_of_year', 'week_of_year', 'day_of_week', 'Hour', 'Age',\n",
    "        'violent_crime', 'property_crime']]"
   ]
  },
  {
   "cell_type": "code",
   "execution_count": 15,
   "id": "6bd6928d",
   "metadata": {},
   "outputs": [
    {
     "data": {
      "text/html": [
       "<div>\n",
       "<style scoped>\n",
       "    .dataframe tbody tr th:only-of-type {\n",
       "        vertical-align: middle;\n",
       "    }\n",
       "\n",
       "    .dataframe tbody tr th {\n",
       "        vertical-align: top;\n",
       "    }\n",
       "\n",
       "    .dataframe thead th {\n",
       "        text-align: right;\n",
       "    }\n",
       "</style>\n",
       "<table border=\"1\" class=\"dataframe\">\n",
       "  <thead>\n",
       "    <tr style=\"text-align: right;\">\n",
       "      <th></th>\n",
       "      <th>Latitude</th>\n",
       "      <th>Longitude</th>\n",
       "      <th>Year</th>\n",
       "      <th>Month</th>\n",
       "      <th>day_of_month</th>\n",
       "      <th>day_of_year</th>\n",
       "      <th>week_of_year</th>\n",
       "      <th>day_of_week</th>\n",
       "      <th>Hour</th>\n",
       "      <th>Age</th>\n",
       "      <th>violent_crime</th>\n",
       "      <th>property_crime</th>\n",
       "    </tr>\n",
       "  </thead>\n",
       "  <tbody>\n",
       "    <tr>\n",
       "      <th>0</th>\n",
       "      <td>39.318181</td>\n",
       "      <td>-76.609534</td>\n",
       "      <td>2023</td>\n",
       "      <td>4</td>\n",
       "      <td>15</td>\n",
       "      <td>105</td>\n",
       "      <td>15</td>\n",
       "      <td>5</td>\n",
       "      <td>11</td>\n",
       "      <td>56</td>\n",
       "      <td>0</td>\n",
       "      <td>1</td>\n",
       "    </tr>\n",
       "    <tr>\n",
       "      <th>1</th>\n",
       "      <td>39.310944</td>\n",
       "      <td>-76.530961</td>\n",
       "      <td>2023</td>\n",
       "      <td>4</td>\n",
       "      <td>15</td>\n",
       "      <td>105</td>\n",
       "      <td>15</td>\n",
       "      <td>5</td>\n",
       "      <td>21</td>\n",
       "      <td>38</td>\n",
       "      <td>0</td>\n",
       "      <td>1</td>\n",
       "    </tr>\n",
       "    <tr>\n",
       "      <th>2</th>\n",
       "      <td>39.313038</td>\n",
       "      <td>-76.674519</td>\n",
       "      <td>2023</td>\n",
       "      <td>4</td>\n",
       "      <td>15</td>\n",
       "      <td>105</td>\n",
       "      <td>15</td>\n",
       "      <td>5</td>\n",
       "      <td>17</td>\n",
       "      <td>56</td>\n",
       "      <td>0</td>\n",
       "      <td>1</td>\n",
       "    </tr>\n",
       "    <tr>\n",
       "      <th>3</th>\n",
       "      <td>39.337523</td>\n",
       "      <td>-76.664090</td>\n",
       "      <td>2023</td>\n",
       "      <td>4</td>\n",
       "      <td>15</td>\n",
       "      <td>105</td>\n",
       "      <td>15</td>\n",
       "      <td>5</td>\n",
       "      <td>21</td>\n",
       "      <td>54</td>\n",
       "      <td>0</td>\n",
       "      <td>1</td>\n",
       "    </tr>\n",
       "    <tr>\n",
       "      <th>4</th>\n",
       "      <td>39.296418</td>\n",
       "      <td>-76.661570</td>\n",
       "      <td>2023</td>\n",
       "      <td>4</td>\n",
       "      <td>11</td>\n",
       "      <td>101</td>\n",
       "      <td>15</td>\n",
       "      <td>1</td>\n",
       "      <td>9</td>\n",
       "      <td>58</td>\n",
       "      <td>1</td>\n",
       "      <td>0</td>\n",
       "    </tr>\n",
       "  </tbody>\n",
       "</table>\n",
       "</div>"
      ],
      "text/plain": [
       "    Latitude  Longitude  Year  Month  day_of_month  day_of_year  week_of_year  \\\n",
       "0  39.318181 -76.609534  2023      4            15          105            15   \n",
       "1  39.310944 -76.530961  2023      4            15          105            15   \n",
       "2  39.313038 -76.674519  2023      4            15          105            15   \n",
       "3  39.337523 -76.664090  2023      4            15          105            15   \n",
       "4  39.296418 -76.661570  2023      4            11          101            15   \n",
       "\n",
       "   day_of_week  Hour  Age  violent_crime  property_crime  \n",
       "0            5    11   56              0               1  \n",
       "1            5    21   38              0               1  \n",
       "2            5    17   56              0               1  \n",
       "3            5    21   54              0               1  \n",
       "4            1     9   58              1               0  "
      ]
     },
     "execution_count": 15,
     "metadata": {},
     "output_type": "execute_result"
    }
   ],
   "source": [
    "df1.head()"
   ]
  },
  {
   "cell_type": "code",
   "execution_count": 16,
   "id": "5daceda3",
   "metadata": {},
   "outputs": [
    {
     "data": {
      "text/plain": [
       "Index(['Latitude', 'Longitude', 'Year', 'Month', 'day_of_month', 'day_of_year',\n",
       "       'week_of_year', 'day_of_week', 'Hour', 'Age', 'violent_crime',\n",
       "       'property_crime'],\n",
       "      dtype='object')"
      ]
     },
     "execution_count": 16,
     "metadata": {},
     "output_type": "execute_result"
    }
   ],
   "source": [
    "df1.columns"
   ]
  },
  {
   "cell_type": "code",
   "execution_count": null,
   "id": "2571df5a",
   "metadata": {},
   "outputs": [],
   "source": []
  },
  {
   "cell_type": "code",
   "execution_count": 21,
   "id": "88d5d34c",
   "metadata": {},
   "outputs": [],
   "source": [
    "from sklearn.model_selection import GridSearchCV"
   ]
  },
  {
   "cell_type": "code",
   "execution_count": null,
   "id": "12b27dc1",
   "metadata": {},
   "outputs": [],
   "source": []
  },
  {
   "cell_type": "code",
   "execution_count": 20,
   "id": "f853daf1",
   "metadata": {},
   "outputs": [],
   "source": [
    "from sklearn.model_selection import train_test_split\n",
    "from sklearn.ensemble import RandomForestClassifier\n",
    "from sklearn.metrics import accuracy_score, classification_report\n",
    "\n",
    "X = df1[['Latitude', 'Longitude', 'Year', 'Month', 'day_of_month', 'day_of_year',\n",
    "       'week_of_year', 'day_of_week', 'Hour', 'Age']] # Features\n",
    "y = df1[['violent_crime', 'property_crime']]  # Target variable\n",
    "X_train, X_test, y_train, y_test = train_test_split(X, y, test_size=0.2, random_state=42)"
   ]
  },
  {
   "cell_type": "code",
   "execution_count": null,
   "id": "87549ae1",
   "metadata": {},
   "outputs": [],
   "source": []
  },
  {
   "cell_type": "code",
   "execution_count": null,
   "id": "ec4cbce3",
   "metadata": {},
   "outputs": [],
   "source": []
  },
  {
   "cell_type": "code",
   "execution_count": 16,
   "id": "8ab81a33",
   "metadata": {},
   "outputs": [
    {
     "data": {
      "text/html": [
       "<style>#sk-container-id-1 {color: black;}#sk-container-id-1 pre{padding: 0;}#sk-container-id-1 div.sk-toggleable {background-color: white;}#sk-container-id-1 label.sk-toggleable__label {cursor: pointer;display: block;width: 100%;margin-bottom: 0;padding: 0.3em;box-sizing: border-box;text-align: center;}#sk-container-id-1 label.sk-toggleable__label-arrow:before {content: \"▸\";float: left;margin-right: 0.25em;color: #696969;}#sk-container-id-1 label.sk-toggleable__label-arrow:hover:before {color: black;}#sk-container-id-1 div.sk-estimator:hover label.sk-toggleable__label-arrow:before {color: black;}#sk-container-id-1 div.sk-toggleable__content {max-height: 0;max-width: 0;overflow: hidden;text-align: left;background-color: #f0f8ff;}#sk-container-id-1 div.sk-toggleable__content pre {margin: 0.2em;color: black;border-radius: 0.25em;background-color: #f0f8ff;}#sk-container-id-1 input.sk-toggleable__control:checked~div.sk-toggleable__content {max-height: 200px;max-width: 100%;overflow: auto;}#sk-container-id-1 input.sk-toggleable__control:checked~label.sk-toggleable__label-arrow:before {content: \"▾\";}#sk-container-id-1 div.sk-estimator input.sk-toggleable__control:checked~label.sk-toggleable__label {background-color: #d4ebff;}#sk-container-id-1 div.sk-label input.sk-toggleable__control:checked~label.sk-toggleable__label {background-color: #d4ebff;}#sk-container-id-1 input.sk-hidden--visually {border: 0;clip: rect(1px 1px 1px 1px);clip: rect(1px, 1px, 1px, 1px);height: 1px;margin: -1px;overflow: hidden;padding: 0;position: absolute;width: 1px;}#sk-container-id-1 div.sk-estimator {font-family: monospace;background-color: #f0f8ff;border: 1px dotted black;border-radius: 0.25em;box-sizing: border-box;margin-bottom: 0.5em;}#sk-container-id-1 div.sk-estimator:hover {background-color: #d4ebff;}#sk-container-id-1 div.sk-parallel-item::after {content: \"\";width: 100%;border-bottom: 1px solid gray;flex-grow: 1;}#sk-container-id-1 div.sk-label:hover label.sk-toggleable__label {background-color: #d4ebff;}#sk-container-id-1 div.sk-serial::before {content: \"\";position: absolute;border-left: 1px solid gray;box-sizing: border-box;top: 0;bottom: 0;left: 50%;z-index: 0;}#sk-container-id-1 div.sk-serial {display: flex;flex-direction: column;align-items: center;background-color: white;padding-right: 0.2em;padding-left: 0.2em;position: relative;}#sk-container-id-1 div.sk-item {position: relative;z-index: 1;}#sk-container-id-1 div.sk-parallel {display: flex;align-items: stretch;justify-content: center;background-color: white;position: relative;}#sk-container-id-1 div.sk-item::before, #sk-container-id-1 div.sk-parallel-item::before {content: \"\";position: absolute;border-left: 1px solid gray;box-sizing: border-box;top: 0;bottom: 0;left: 50%;z-index: -1;}#sk-container-id-1 div.sk-parallel-item {display: flex;flex-direction: column;z-index: 1;position: relative;background-color: white;}#sk-container-id-1 div.sk-parallel-item:first-child::after {align-self: flex-end;width: 50%;}#sk-container-id-1 div.sk-parallel-item:last-child::after {align-self: flex-start;width: 50%;}#sk-container-id-1 div.sk-parallel-item:only-child::after {width: 0;}#sk-container-id-1 div.sk-dashed-wrapped {border: 1px dashed gray;margin: 0 0.4em 0.5em 0.4em;box-sizing: border-box;padding-bottom: 0.4em;background-color: white;}#sk-container-id-1 div.sk-label label {font-family: monospace;font-weight: bold;display: inline-block;line-height: 1.2em;}#sk-container-id-1 div.sk-label-container {text-align: center;}#sk-container-id-1 div.sk-container {/* jupyter's `normalize.less` sets `[hidden] { display: none; }` but bootstrap.min.css set `[hidden] { display: none !important; }` so we also need the `!important` here to be able to override the default hidden behavior on the sphinx rendered scikit-learn.org. See: https://github.com/scikit-learn/scikit-learn/issues/21755 */display: inline-block !important;position: relative;}#sk-container-id-1 div.sk-text-repr-fallback {display: none;}</style><div id=\"sk-container-id-1\" class=\"sk-top-container\"><div class=\"sk-text-repr-fallback\"><pre>RandomForestClassifier()</pre><b>In a Jupyter environment, please rerun this cell to show the HTML representation or trust the notebook. <br />On GitHub, the HTML representation is unable to render, please try loading this page with nbviewer.org.</b></div><div class=\"sk-container\" hidden><div class=\"sk-item\"><div class=\"sk-estimator sk-toggleable\"><input class=\"sk-toggleable__control sk-hidden--visually\" id=\"sk-estimator-id-1\" type=\"checkbox\" checked><label for=\"sk-estimator-id-1\" class=\"sk-toggleable__label sk-toggleable__label-arrow\">RandomForestClassifier</label><div class=\"sk-toggleable__content\"><pre>RandomForestClassifier()</pre></div></div></div></div></div>"
      ],
      "text/plain": [
       "RandomForestClassifier()"
      ]
     },
     "execution_count": 16,
     "metadata": {},
     "output_type": "execute_result"
    }
   ],
   "source": [
    "rfc = RandomForestClassifier(n_estimators=100)\n",
    "rfc.fit(X_train, y_train)"
   ]
  },
  {
   "cell_type": "code",
   "execution_count": 17,
   "id": "3ea4f8d1",
   "metadata": {},
   "outputs": [],
   "source": [
    "y_pred = rfc.predict(X_test)"
   ]
  },
  {
   "cell_type": "code",
   "execution_count": 18,
   "id": "f6771855",
   "metadata": {},
   "outputs": [
    {
     "data": {
      "text/plain": [
       "0.7356343345183196"
      ]
     },
     "execution_count": 18,
     "metadata": {},
     "output_type": "execute_result"
    }
   ],
   "source": [
    "accuracy = accuracy_score(y_test, y_pred)\n",
    "accuracy"
   ]
  },
  {
   "cell_type": "code",
   "execution_count": 19,
   "id": "3d4e55ee",
   "metadata": {},
   "outputs": [],
   "source": [
    "om=rfc.feature_importances_\n",
    "indices = np.argsort(om)"
   ]
  },
  {
   "cell_type": "code",
   "execution_count": 20,
   "id": "37a2c9d9",
   "metadata": {},
   "outputs": [],
   "source": [
    "features=df1.columns"
   ]
  },
  {
   "cell_type": "code",
   "execution_count": 21,
   "id": "63e5e2cc",
   "metadata": {},
   "outputs": [
    {
     "data": {
      "text/plain": [
       "Index(['Latitude', 'Longitude', 'Year', 'Month', 'day_of_month', 'day_of_year',\n",
       "       'week_of_year', 'day_of_week', 'Hour', 'Age', 'violent_crime',\n",
       "       'property_crime'],\n",
       "      dtype='object')"
      ]
     },
     "execution_count": 21,
     "metadata": {},
     "output_type": "execute_result"
    }
   ],
   "source": [
    "features"
   ]
  },
  {
   "cell_type": "code",
   "execution_count": 22,
   "id": "c83c1615",
   "metadata": {},
   "outputs": [
    {
     "data": {
      "text/plain": [
       "array([0.16139182, 0.16214238, 0.05602135, 0.02948445, 0.09132567,\n",
       "       0.10087878, 0.06265962, 0.05246309, 0.08987816, 0.19375468])"
      ]
     },
     "execution_count": 22,
     "metadata": {},
     "output_type": "execute_result"
    }
   ],
   "source": [
    "om"
   ]
  },
  {
   "cell_type": "code",
   "execution_count": 24,
   "id": "933fadcd",
   "metadata": {},
   "outputs": [
    {
     "data": {
      "text/plain": [
       "Text(0.5, 0, 'Relative Importance')"
      ]
     },
     "execution_count": 24,
     "metadata": {},
     "output_type": "execute_result"
    },
    {
     "data": {
      "image/png": "[encoded data removed]",
      "text/plain": [
       "<Figure size 640x480 with 1 Axes>"
      ]
     },
     "metadata": {},
     "output_type": "display_data"
    }
   ],
   "source": [
    "import matplotlib.pyplot as plt\n",
    "import seaborn as sns\n",
    "\n",
    "plt.figure(1)\n",
    "plt.title('Feature Importances')\n",
    "plt.barh(range(len(indices)), om[indices])\n",
    "plt.yticks(range(len(indices)), features[indices])\n",
    "plt.xlabel('Relative Importance')"
   ]
  },
  {
   "cell_type": "code",
   "execution_count": 23,
   "id": "9b0a27d8",
   "metadata": {},
   "outputs": [],
   "source": [
    "import pickle\n",
    "pickle_out=open(\"rfc.pkl\",\"wb\")\n",
    "pickle.dump(rfc,pickle_out)\n",
    "pickle_out.close()"
   ]
  },
  {
   "cell_type": "code",
   "execution_count": null,
   "id": "b4f7b8e9",
   "metadata": {},
   "outputs": [],
   "source": []
  },
  {
   "cell_type": "code",
   "execution_count": null,
   "id": "d6d49440",
   "metadata": {},
   "outputs": [],
   "source": []
  },
  {
   "cell_type": "code",
   "execution_count": null,
   "id": "794e226d",
   "metadata": {},
   "outputs": [],
   "source": []
  },
  {
   "cell_type": "code",
   "execution_count": null,
   "id": "a758810b",
   "metadata": {},
   "outputs": [],
   "source": []
  },
  {
   "cell_type": "code",
   "execution_count": null,
   "id": "5699e3c8",
   "metadata": {},
   "outputs": [],
   "source": []
  },
  {
   "cell_type": "code",
   "execution_count": null,
   "id": "2b7f9eff",
   "metadata": {},
   "outputs": [],
   "source": []
  },
  {
   "cell_type": "code",
   "execution_count": 24,
   "id": "00ca8104",
   "metadata": {},
   "outputs": [],
   "source": [
    "from sklearn import tree"
   ]
  },
  {
   "cell_type": "code",
   "execution_count": 25,
   "id": "b3f9a872",
   "metadata": {},
   "outputs": [],
   "source": [
    "from sklearn.tree import DecisionTreeClassifier\n",
    "\n",
    "X = df1[['Latitude', 'Longitude', 'Year', 'Month', 'day_of_month', 'day_of_year',\n",
    "       'week_of_year', 'day_of_week', 'Hour', 'Age']] # Features\n",
    "y = df1[['violent_crime', 'property_crime']]  # Target variable\n",
    "X_train, X_test, y_train, y_test = train_test_split(X, y, test_size=0.2, random_state=42)"
   ]
  },
  {
   "cell_type": "code",
   "execution_count": 26,
   "id": "5ea7b6e6",
   "metadata": {},
   "outputs": [],
   "source": [
    "classifier=DecisionTreeClassifier()"
   ]
  },
  {
   "cell_type": "code",
   "execution_count": 27,
   "id": "c750e6ba",
   "metadata": {},
   "outputs": [
    {
     "data": {
      "text/html": [
       "<style>#sk-container-id-2 {color: black;}#sk-container-id-2 pre{padding: 0;}#sk-container-id-2 div.sk-toggleable {background-color: white;}#sk-container-id-2 label.sk-toggleable__label {cursor: pointer;display: block;width: 100%;margin-bottom: 0;padding: 0.3em;box-sizing: border-box;text-align: center;}#sk-container-id-2 label.sk-toggleable__label-arrow:before {content: \"▸\";float: left;margin-right: 0.25em;color: #696969;}#sk-container-id-2 label.sk-toggleable__label-arrow:hover:before {color: black;}#sk-container-id-2 div.sk-estimator:hover label.sk-toggleable__label-arrow:before {color: black;}#sk-container-id-2 div.sk-toggleable__content {max-height: 0;max-width: 0;overflow: hidden;text-align: left;background-color: #f0f8ff;}#sk-container-id-2 div.sk-toggleable__content pre {margin: 0.2em;color: black;border-radius: 0.25em;background-color: #f0f8ff;}#sk-container-id-2 input.sk-toggleable__control:checked~div.sk-toggleable__content {max-height: 200px;max-width: 100%;overflow: auto;}#sk-container-id-2 input.sk-toggleable__control:checked~label.sk-toggleable__label-arrow:before {content: \"▾\";}#sk-container-id-2 div.sk-estimator input.sk-toggleable__control:checked~label.sk-toggleable__label {background-color: #d4ebff;}#sk-container-id-2 div.sk-label input.sk-toggleable__control:checked~label.sk-toggleable__label {background-color: #d4ebff;}#sk-container-id-2 input.sk-hidden--visually {border: 0;clip: rect(1px 1px 1px 1px);clip: rect(1px, 1px, 1px, 1px);height: 1px;margin: -1px;overflow: hidden;padding: 0;position: absolute;width: 1px;}#sk-container-id-2 div.sk-estimator {font-family: monospace;background-color: #f0f8ff;border: 1px dotted black;border-radius: 0.25em;box-sizing: border-box;margin-bottom: 0.5em;}#sk-container-id-2 div.sk-estimator:hover {background-color: #d4ebff;}#sk-container-id-2 div.sk-parallel-item::after {content: \"\";width: 100%;border-bottom: 1px solid gray;flex-grow: 1;}#sk-container-id-2 div.sk-label:hover label.sk-toggleable__label {background-color: #d4ebff;}#sk-container-id-2 div.sk-serial::before {content: \"\";position: absolute;border-left: 1px solid gray;box-sizing: border-box;top: 0;bottom: 0;left: 50%;z-index: 0;}#sk-container-id-2 div.sk-serial {display: flex;flex-direction: column;align-items: center;background-color: white;padding-right: 0.2em;padding-left: 0.2em;position: relative;}#sk-container-id-2 div.sk-item {position: relative;z-index: 1;}#sk-container-id-2 div.sk-parallel {display: flex;align-items: stretch;justify-content: center;background-color: white;position: relative;}#sk-container-id-2 div.sk-item::before, #sk-container-id-2 div.sk-parallel-item::before {content: \"\";position: absolute;border-left: 1px solid gray;box-sizing: border-box;top: 0;bottom: 0;left: 50%;z-index: -1;}#sk-container-id-2 div.sk-parallel-item {display: flex;flex-direction: column;z-index: 1;position: relative;background-color: white;}#sk-container-id-2 div.sk-parallel-item:first-child::after {align-self: flex-end;width: 50%;}#sk-container-id-2 div.sk-parallel-item:last-child::after {align-self: flex-start;width: 50%;}#sk-container-id-2 div.sk-parallel-item:only-child::after {width: 0;}#sk-container-id-2 div.sk-dashed-wrapped {border: 1px dashed gray;margin: 0 0.4em 0.5em 0.4em;box-sizing: border-box;padding-bottom: 0.4em;background-color: white;}#sk-container-id-2 div.sk-label label {font-family: monospace;font-weight: bold;display: inline-block;line-height: 1.2em;}#sk-container-id-2 div.sk-label-container {text-align: center;}#sk-container-id-2 div.sk-container {/* jupyter's `normalize.less` sets `[hidden] { display: none; }` but bootstrap.min.css set `[hidden] { display: none !important; }` so we also need the `!important` here to be able to override the default hidden behavior on the sphinx rendered scikit-learn.org. See: https://github.com/scikit-learn/scikit-learn/issues/21755 */display: inline-block !important;position: relative;}#sk-container-id-2 div.sk-text-repr-fallback {display: none;}</style><div id=\"sk-container-id-2\" class=\"sk-top-container\"><div class=\"sk-text-repr-fallback\"><pre>DecisionTreeClassifier()</pre><b>In a Jupyter environment, please rerun this cell to show the HTML representation or trust the notebook. <br />On GitHub, the HTML representation is unable to render, please try loading this page with nbviewer.org.</b></div><div class=\"sk-container\" hidden><div class=\"sk-item\"><div class=\"sk-estimator sk-toggleable\"><input class=\"sk-toggleable__control sk-hidden--visually\" id=\"sk-estimator-id-2\" type=\"checkbox\" checked><label for=\"sk-estimator-id-2\" class=\"sk-toggleable__label sk-toggleable__label-arrow\">DecisionTreeClassifier</label><div class=\"sk-toggleable__content\"><pre>DecisionTreeClassifier()</pre></div></div></div></div></div>"
      ],
      "text/plain": [
       "DecisionTreeClassifier()"
      ]
     },
     "execution_count": 27,
     "metadata": {},
     "output_type": "execute_result"
    }
   ],
   "source": [
    "classifier.fit(X_train,y_train)"
   ]
  },
  {
   "cell_type": "code",
   "execution_count": 28,
   "id": "beedef69",
   "metadata": {},
   "outputs": [],
   "source": [
    "#plt.figure(figsize=(15,10))\n",
    "#tree.plot_tree(classifier,filled=True)"
   ]
  },
  {
   "cell_type": "code",
   "execution_count": 29,
   "id": "d5184b3d",
   "metadata": {},
   "outputs": [],
   "source": [
    "y_pred=classifier.predict(X_test)"
   ]
  },
  {
   "cell_type": "code",
   "execution_count": 30,
   "id": "d4d223fa",
   "metadata": {},
   "outputs": [
    {
     "data": {
      "text/plain": [
       "0.6603968786801527"
      ]
     },
     "execution_count": 30,
     "metadata": {},
     "output_type": "execute_result"
    }
   ],
   "source": [
    "accuracy = accuracy_score(y_test, y_pred)\n",
    "accuracy"
   ]
  },
  {
   "cell_type": "code",
   "execution_count": 31,
   "id": "47aa33fa",
   "metadata": {},
   "outputs": [],
   "source": [
    "om=classifier.feature_importances_\n",
    "indices = np.argsort(om)"
   ]
  },
  {
   "cell_type": "code",
   "execution_count": 32,
   "id": "c34a2eea",
   "metadata": {},
   "outputs": [],
   "source": [
    "features=df1.columns"
   ]
  },
  {
   "cell_type": "code",
   "execution_count": 33,
   "id": "9d7e6edd",
   "metadata": {},
   "outputs": [
    {
     "data": {
      "text/plain": [
       "Index(['Latitude', 'Longitude', 'Year', 'Month', 'day_of_month', 'day_of_year',\n",
       "       'week_of_year', 'day_of_week', 'Hour', 'Age', 'violent_crime',\n",
       "       'property_crime'],\n",
       "      dtype='object')"
      ]
     },
     "execution_count": 33,
     "metadata": {},
     "output_type": "execute_result"
    }
   ],
   "source": [
    "features"
   ]
  },
  {
   "cell_type": "code",
   "execution_count": 34,
   "id": "d899695a",
   "metadata": {},
   "outputs": [
    {
     "data": {
      "text/plain": [
       "Text(0.5, 0, 'Relative Importance')"
      ]
     },
     "execution_count": 34,
     "metadata": {},
     "output_type": "execute_result"
    },
    {
     "data": {
      "image/png": "[encoded data removed]",
      "text/plain": [
       "<Figure size 640x480 with 1 Axes>"
      ]
     },
     "metadata": {},
     "output_type": "display_data"
    }
   ],
   "source": [
    "import matplotlib.pyplot as plt\n",
    "import seaborn as sns\n",
    "\n",
    "plt.figure(1)\n",
    "plt.title('Feature Importances')\n",
    "plt.barh(range(len(indices)), om[indices])\n",
    "plt.yticks(range(len(indices)), features[indices])\n",
    "plt.xlabel('Relative Importance')"
   ]
  },
  {
   "cell_type": "code",
   "execution_count": null,
   "id": "fe312a01",
   "metadata": {},
   "outputs": [],
   "source": []
  },
  {
   "cell_type": "code",
   "execution_count": 35,
   "id": "0de0f851",
   "metadata": {},
   "outputs": [],
   "source": [
    "import pickle\n",
    "pickle_out=open(\"rfc.pkl\",\"wb\")\n",
    "pickle.dump(rfc,pickle_out)\n",
    "pickle_out.close()"
   ]
  },
  {
   "cell_type": "code",
   "execution_count": null,
   "id": "85ee20c1",
   "metadata": {},
   "outputs": [],
   "source": []
  },
  {
   "cell_type": "markdown",
   "id": "55ac0b1a",
   "metadata": {},
   "source": [
    "Logistic regression"
   ]
  },
  {
   "cell_type": "code",
   "execution_count": 1,
   "id": "6d522c4f",
   "metadata": {},
   "outputs": [],
   "source": [
    "import pandas as pd\n",
    "from sklearn.model_selection import train_test_split\n",
    "from sklearn.linear_model import LogisticRegression\n",
    "from sklearn.metrics import accuracy_score, classification_report"
   ]
  },
  {
   "cell_type": "code",
   "execution_count": 17,
   "id": "8e6db09a",
   "metadata": {},
   "outputs": [],
   "source": [
    "X1 = df1[['Latitude', 'Longitude', 'Year', 'Month', 'day_of_month', 'day_of_year',\n",
    "       'week_of_year', 'day_of_week', 'Hour', 'Age']] # Features\n",
    "y1 = df1[['violent_crime', 'property_crime']]  # Target variable\n",
    "X1_train, X1_test, y1_train, y1_test = train_test_split(X1, y1, test_size=0.2, random_state=42)"
   ]
  },
  {
   "cell_type": "code",
   "execution_count": 19,
   "id": "5afd2659",
   "metadata": {},
   "outputs": [
    {
     "ename": "ValueError",
     "evalue": "y should be a 1d array, got an array of shape (363434, 2) instead.",
     "output_type": "error",
     "traceback": [
      "\u001b[1;31m---------------------------------------------------------------------------\u001b[0m",
      "\u001b[1;31mValueError\u001b[0m                                Traceback (most recent call last)",
      "Cell \u001b[1;32mIn[19], line 2\u001b[0m\n\u001b[0;32m      1\u001b[0m lr \u001b[38;5;241m=\u001b[39m LogisticRegression()\n\u001b[1;32m----> 2\u001b[0m lr\u001b[38;5;241m.\u001b[39mfit(X1_train, y1_train)\n",
      "File \u001b[1;32mc:\\Users\\thari\\anaconda3\\Lib\\site-packages\\sklearn\\base.py:1151\u001b[0m, in \u001b[0;36m_fit_context.<locals>.decorator.<locals>.wrapper\u001b[1;34m(estimator, *args, **kwargs)\u001b[0m\n\u001b[0;32m   1144\u001b[0m     estimator\u001b[38;5;241m.\u001b[39m_validate_params()\n\u001b[0;32m   1146\u001b[0m \u001b[38;5;28;01mwith\u001b[39;00m config_context(\n\u001b[0;32m   1147\u001b[0m     skip_parameter_validation\u001b[38;5;241m=\u001b[39m(\n\u001b[0;32m   1148\u001b[0m         prefer_skip_nested_validation \u001b[38;5;129;01mor\u001b[39;00m global_skip_validation\n\u001b[0;32m   1149\u001b[0m     )\n\u001b[0;32m   1150\u001b[0m ):\n\u001b[1;32m-> 1151\u001b[0m     \u001b[38;5;28;01mreturn\u001b[39;00m fit_method(estimator, \u001b[38;5;241m*\u001b[39margs, \u001b[38;5;241m*\u001b[39m\u001b[38;5;241m*\u001b[39mkwargs)\n",
      "File \u001b[1;32mc:\\Users\\thari\\anaconda3\\Lib\\site-packages\\sklearn\\linear_model\\_logistic.py:1207\u001b[0m, in \u001b[0;36mLogisticRegression.fit\u001b[1;34m(self, X, y, sample_weight)\u001b[0m\n\u001b[0;32m   1204\u001b[0m \u001b[38;5;28;01melse\u001b[39;00m:\n\u001b[0;32m   1205\u001b[0m     _dtype \u001b[38;5;241m=\u001b[39m [np\u001b[38;5;241m.\u001b[39mfloat64, np\u001b[38;5;241m.\u001b[39mfloat32]\n\u001b[1;32m-> 1207\u001b[0m X, y \u001b[38;5;241m=\u001b[39m \u001b[38;5;28mself\u001b[39m\u001b[38;5;241m.\u001b[39m_validate_data(\n\u001b[0;32m   1208\u001b[0m     X,\n\u001b[0;32m   1209\u001b[0m     y,\n\u001b[0;32m   1210\u001b[0m     accept_sparse\u001b[38;5;241m=\u001b[39m\u001b[38;5;124m\"\u001b[39m\u001b[38;5;124mcsr\u001b[39m\u001b[38;5;124m\"\u001b[39m,\n\u001b[0;32m   1211\u001b[0m     dtype\u001b[38;5;241m=\u001b[39m_dtype,\n\u001b[0;32m   1212\u001b[0m     order\u001b[38;5;241m=\u001b[39m\u001b[38;5;124m\"\u001b[39m\u001b[38;5;124mC\u001b[39m\u001b[38;5;124m\"\u001b[39m,\n\u001b[0;32m   1213\u001b[0m     accept_large_sparse\u001b[38;5;241m=\u001b[39msolver \u001b[38;5;129;01mnot\u001b[39;00m \u001b[38;5;129;01min\u001b[39;00m [\u001b[38;5;124m\"\u001b[39m\u001b[38;5;124mliblinear\u001b[39m\u001b[38;5;124m\"\u001b[39m, \u001b[38;5;124m\"\u001b[39m\u001b[38;5;124msag\u001b[39m\u001b[38;5;124m\"\u001b[39m, \u001b[38;5;124m\"\u001b[39m\u001b[38;5;124msaga\u001b[39m\u001b[38;5;124m\"\u001b[39m],\n\u001b[0;32m   1214\u001b[0m )\n\u001b[0;32m   1215\u001b[0m check_classification_targets(y)\n\u001b[0;32m   1216\u001b[0m \u001b[38;5;28mself\u001b[39m\u001b[38;5;241m.\u001b[39mclasses_ \u001b[38;5;241m=\u001b[39m np\u001b[38;5;241m.\u001b[39munique(y)\n",
      "File \u001b[1;32mc:\\Users\\thari\\anaconda3\\Lib\\site-packages\\sklearn\\base.py:621\u001b[0m, in \u001b[0;36mBaseEstimator._validate_data\u001b[1;34m(self, X, y, reset, validate_separately, cast_to_ndarray, **check_params)\u001b[0m\n\u001b[0;32m    619\u001b[0m         y \u001b[38;5;241m=\u001b[39m check_array(y, input_name\u001b[38;5;241m=\u001b[39m\u001b[38;5;124m\"\u001b[39m\u001b[38;5;124my\u001b[39m\u001b[38;5;124m\"\u001b[39m, \u001b[38;5;241m*\u001b[39m\u001b[38;5;241m*\u001b[39mcheck_y_params)\n\u001b[0;32m    620\u001b[0m     \u001b[38;5;28;01melse\u001b[39;00m:\n\u001b[1;32m--> 621\u001b[0m         X, y \u001b[38;5;241m=\u001b[39m check_X_y(X, y, \u001b[38;5;241m*\u001b[39m\u001b[38;5;241m*\u001b[39mcheck_params)\n\u001b[0;32m    622\u001b[0m     out \u001b[38;5;241m=\u001b[39m X, y\n\u001b[0;32m    624\u001b[0m \u001b[38;5;28;01mif\u001b[39;00m \u001b[38;5;129;01mnot\u001b[39;00m no_val_X \u001b[38;5;129;01mand\u001b[39;00m check_params\u001b[38;5;241m.\u001b[39mget(\u001b[38;5;124m\"\u001b[39m\u001b[38;5;124mensure_2d\u001b[39m\u001b[38;5;124m\"\u001b[39m, \u001b[38;5;28;01mTrue\u001b[39;00m):\n",
      "File \u001b[1;32mc:\\Users\\thari\\anaconda3\\Lib\\site-packages\\sklearn\\utils\\validation.py:1163\u001b[0m, in \u001b[0;36mcheck_X_y\u001b[1;34m(X, y, accept_sparse, accept_large_sparse, dtype, order, copy, force_all_finite, ensure_2d, allow_nd, multi_output, ensure_min_samples, ensure_min_features, y_numeric, estimator)\u001b[0m\n\u001b[0;32m   1143\u001b[0m     \u001b[38;5;28;01mraise\u001b[39;00m \u001b[38;5;167;01mValueError\u001b[39;00m(\n\u001b[0;32m   1144\u001b[0m         \u001b[38;5;124mf\u001b[39m\u001b[38;5;124m\"\u001b[39m\u001b[38;5;132;01m{\u001b[39;00mestimator_name\u001b[38;5;132;01m}\u001b[39;00m\u001b[38;5;124m requires y to be passed, but the target y is None\u001b[39m\u001b[38;5;124m\"\u001b[39m\n\u001b[0;32m   1145\u001b[0m     )\n\u001b[0;32m   1147\u001b[0m X \u001b[38;5;241m=\u001b[39m check_array(\n\u001b[0;32m   1148\u001b[0m     X,\n\u001b[0;32m   1149\u001b[0m     accept_sparse\u001b[38;5;241m=\u001b[39maccept_sparse,\n\u001b[1;32m   (...)\u001b[0m\n\u001b[0;32m   1160\u001b[0m     input_name\u001b[38;5;241m=\u001b[39m\u001b[38;5;124m\"\u001b[39m\u001b[38;5;124mX\u001b[39m\u001b[38;5;124m\"\u001b[39m,\n\u001b[0;32m   1161\u001b[0m )\n\u001b[1;32m-> 1163\u001b[0m y \u001b[38;5;241m=\u001b[39m _check_y(y, multi_output\u001b[38;5;241m=\u001b[39mmulti_output, y_numeric\u001b[38;5;241m=\u001b[39my_numeric, estimator\u001b[38;5;241m=\u001b[39mestimator)\n\u001b[0;32m   1165\u001b[0m check_consistent_length(X, y)\n\u001b[0;32m   1167\u001b[0m \u001b[38;5;28;01mreturn\u001b[39;00m X, y\n",
      "File \u001b[1;32mc:\\Users\\thari\\anaconda3\\Lib\\site-packages\\sklearn\\utils\\validation.py:1184\u001b[0m, in \u001b[0;36m_check_y\u001b[1;34m(y, multi_output, y_numeric, estimator)\u001b[0m\n\u001b[0;32m   1182\u001b[0m \u001b[38;5;28;01melse\u001b[39;00m:\n\u001b[0;32m   1183\u001b[0m     estimator_name \u001b[38;5;241m=\u001b[39m _check_estimator_name(estimator)\n\u001b[1;32m-> 1184\u001b[0m     y \u001b[38;5;241m=\u001b[39m column_or_1d(y, warn\u001b[38;5;241m=\u001b[39m\u001b[38;5;28;01mTrue\u001b[39;00m)\n\u001b[0;32m   1185\u001b[0m     _assert_all_finite(y, input_name\u001b[38;5;241m=\u001b[39m\u001b[38;5;124m\"\u001b[39m\u001b[38;5;124my\u001b[39m\u001b[38;5;124m\"\u001b[39m, estimator_name\u001b[38;5;241m=\u001b[39mestimator_name)\n\u001b[0;32m   1186\u001b[0m     _ensure_no_complex_data(y)\n",
      "File \u001b[1;32mc:\\Users\\thari\\anaconda3\\Lib\\site-packages\\sklearn\\utils\\validation.py:1245\u001b[0m, in \u001b[0;36mcolumn_or_1d\u001b[1;34m(y, dtype, warn)\u001b[0m\n\u001b[0;32m   1234\u001b[0m         warnings\u001b[38;5;241m.\u001b[39mwarn(\n\u001b[0;32m   1235\u001b[0m             (\n\u001b[0;32m   1236\u001b[0m                 \u001b[38;5;124m\"\u001b[39m\u001b[38;5;124mA column-vector y was passed when a 1d array was\u001b[39m\u001b[38;5;124m\"\u001b[39m\n\u001b[1;32m   (...)\u001b[0m\n\u001b[0;32m   1241\u001b[0m             stacklevel\u001b[38;5;241m=\u001b[39m\u001b[38;5;241m2\u001b[39m,\n\u001b[0;32m   1242\u001b[0m         )\n\u001b[0;32m   1243\u001b[0m     \u001b[38;5;28;01mreturn\u001b[39;00m _asarray_with_order(xp\u001b[38;5;241m.\u001b[39mreshape(y, (\u001b[38;5;241m-\u001b[39m\u001b[38;5;241m1\u001b[39m,)), order\u001b[38;5;241m=\u001b[39m\u001b[38;5;124m\"\u001b[39m\u001b[38;5;124mC\u001b[39m\u001b[38;5;124m\"\u001b[39m, xp\u001b[38;5;241m=\u001b[39mxp)\n\u001b[1;32m-> 1245\u001b[0m \u001b[38;5;28;01mraise\u001b[39;00m \u001b[38;5;167;01mValueError\u001b[39;00m(\n\u001b[0;32m   1246\u001b[0m     \u001b[38;5;124m\"\u001b[39m\u001b[38;5;124my should be a 1d array, got an array of shape \u001b[39m\u001b[38;5;132;01m{}\u001b[39;00m\u001b[38;5;124m instead.\u001b[39m\u001b[38;5;124m\"\u001b[39m\u001b[38;5;241m.\u001b[39mformat(shape)\n\u001b[0;32m   1247\u001b[0m )\n",
      "\u001b[1;31mValueError\u001b[0m: y should be a 1d array, got an array of shape (363434, 2) instead."
     ]
    }
   ],
   "source": [
    "lr = LogisticRegression()\n",
    "lr.fit(X1_train, y1_train)"
   ]
  },
  {
   "cell_type": "code",
   "execution_count": null,
   "id": "4eaf4891",
   "metadata": {},
   "outputs": [],
   "source": []
  },
  {
   "cell_type": "code",
   "execution_count": null,
   "id": "ae202d41",
   "metadata": {},
   "outputs": [],
   "source": []
  },
  {
   "cell_type": "code",
   "execution_count": null,
   "id": "04df8249",
   "metadata": {},
   "outputs": [],
   "source": []
  },
  {
   "cell_type": "code",
   "execution_count": null,
   "id": "3ec183f5",
   "metadata": {},
   "outputs": [],
   "source": []
  },
  {
   "cell_type": "code",
   "execution_count": null,
   "id": "9b76ced3",
   "metadata": {},
   "outputs": [],
   "source": []
  },
  {
   "cell_type": "code",
   "execution_count": null,
   "id": "80be88a8",
   "metadata": {},
   "outputs": [],
   "source": []
  },
  {
   "cell_type": "code",
   "execution_count": null,
   "id": "8f760260",
   "metadata": {},
   "outputs": [],
   "source": []
  },
  {
   "cell_type": "code",
   "execution_count": null,
   "id": "69c588f7",
   "metadata": {},
   "outputs": [],
   "source": []
  },
  {
   "cell_type": "code",
   "execution_count": null,
   "id": "4f61e4c2",
   "metadata": {},
   "outputs": [],
   "source": []
  },
  {
   "cell_type": "code",
   "execution_count": null,
   "id": "81f4c117",
   "metadata": {},
   "outputs": [],
   "source": []
  },
  {
   "cell_type": "code",
   "execution_count": null,
   "id": "e2474268",
   "metadata": {},
   "outputs": [],
   "source": []
  },
  {
   "cell_type": "code",
   "execution_count": null,
   "id": "f6d3d4e0",
   "metadata": {},
   "outputs": [],
   "source": []
  },
  {
   "cell_type": "code",
   "execution_count": null,
   "id": "db8c9b46",
   "metadata": {},
   "outputs": [],
   "source": []
  },
  {
   "cell_type": "code",
   "execution_count": null,
   "id": "10a76f4a",
   "metadata": {},
   "outputs": [],
   "source": []
  },
  {
   "cell_type": "code",
   "execution_count": null,
   "id": "08eb39b2",
   "metadata": {},
   "outputs": [],
   "source": []
  },
  {
   "cell_type": "code",
   "execution_count": null,
   "id": "9a6f1645",
   "metadata": {},
   "outputs": [],
   "source": []
  },
  {
   "cell_type": "code",
   "execution_count": null,
   "id": "f1b2e69a",
   "metadata": {},
   "outputs": [],
   "source": []
  },
  {
   "cell_type": "code",
   "execution_count": 55,
   "id": "c6873896",
   "metadata": {},
   "outputs": [
    {
     "name": "stdout",
     "output_type": "stream",
     "text": [
      "Enter latitude: 39.313038\n",
      "Enter longitude: -76.674519\n",
      "Enter date (MM/DD/YYYY): 10/9/2024\n",
      "Enter time (HH:MM): 02:56\n",
      "Enter age: 75\n"
     ]
    }
   ],
   "source": [
    "import pandas as pd\n",
    "from datetime import datetime\n",
    "from sklearn.ensemble import RandomForestClassifier\n",
    "\n",
    "# Assuming your trained model is stored in 'model'\n",
    "\n",
    "# Load the user input\n",
    "lat = float(input(\"Enter latitude: \"))\n",
    "long = float(input(\"Enter longitude: \"))\n",
    "date_str = input(\"Enter date (MM/DD/YYYY): \")\n",
    "time_str = input(\"Enter time (HH:MM): \")\n",
    "age = int(input(\"Enter age: \"))\n",
    "\n",
    "# Convert date and time strings to datetime objects\n",
    "date = datetime.strptime(date_str, '%m/%d/%Y')\n",
    "time = datetime.strptime(time_str, '%H:%M')\n",
    "\n",
    "# Prepare input data\n",
    "input_data = {\n",
    "    'Latitude': [lat],\n",
    "    'Longitude': [long],\n",
    "    'Year': [date.year],\n",
    "    'Month': [date.month],\n",
    "    'day_of_month': [date.day],\n",
    "    'day_of_year': [date.timetuple().tm_yday],\n",
    "    'week_of_year': [date.isocalendar()[1]],\n",
    "    'day_of_week': [date.weekday()],\n",
    "    'Hour': [time.hour],\n",
    "    'Age': [age]  # Assuming this is a constant value based on your example\n",
    "}"
   ]
  },
  {
   "cell_type": "code",
   "execution_count": 56,
   "id": "66187e60",
   "metadata": {},
   "outputs": [],
   "source": [
    "# Create DataFrame from input data\n",
    "input_df = pd.DataFrame(input_data)"
   ]
  },
  {
   "cell_type": "code",
   "execution_count": 57,
   "id": "8e65eea8",
   "metadata": {},
   "outputs": [],
   "source": [
    "\n",
    "# Make predictions\n",
    "predicted_probabilities = rfc.predict_proba(input_df)"
   ]
  },
  {
   "cell_type": "code",
   "execution_count": 58,
   "id": "cbc23193",
   "metadata": {},
   "outputs": [
    {
     "name": "stdout",
     "output_type": "stream",
     "text": [
      "Probability of violent_crime: [0.71 0.29]\n"
     ]
    }
   ],
   "source": [
    "\n",
    "# Assuming the classes are ['violent_crime', 'property_crime']\n",
    "crime_types = ['violent_crime', 'property_crime']\n",
    "\n",
    "# Display results\n",
    "for crime_type, probability in zip(crime_types, predicted_probabilities[0]):\n",
    "    print(f\"Probability of {crime_type}: {probability}\")"
   ]
  },
  {
   "cell_type": "code",
   "execution_count": null,
   "id": "2ff8968f",
   "metadata": {},
   "outputs": [],
   "source": []
  }
 ],
 "metadata": {
  "kernelspec": {
   "display_name": "Python 3 (ipykernel)",
   "language": "python",
   "name": "python3"
  },
  "language_info": {
   "codemirror_mode": {
    "name": "ipython",
    "version": 3
   },
   "file_extension": ".py",
   "mimetype": "text/x-python",
   "name": "python",
   "nbconvert_exporter": "python",
   "pygments_lexer": "ipython3",
   "version": "3.11.5"
  }
 },
 "nbformat": 4,
 "nbformat_minor": 5
}
