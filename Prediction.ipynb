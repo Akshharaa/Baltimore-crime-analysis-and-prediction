{
 "cells": [
  {
   "cell_type": "code",
   "execution_count": 44,
   "id": "ecaf8bf6",
   "metadata": {},
   "outputs": [],
   "source": [
    "import pandas as pd\n",
    "import numpy as np"
   ]
  },
  {
   "cell_type": "code",
   "execution_count": 45,
   "id": "48cf4441",
   "metadata": {},
   "outputs": [
    {
     "data": {
      "text/html": [
       "<div>\n",
       "<style scoped>\n",
       "    .dataframe tbody tr th:only-of-type {\n",
       "        vertical-align: middle;\n",
       "    }\n",
       "\n",
       "    .dataframe tbody tr th {\n",
       "        vertical-align: top;\n",
       "    }\n",
       "\n",
       "    .dataframe thead th {\n",
       "        text-align: right;\n",
       "    }\n",
       "</style>\n",
       "<table border=\"1\" class=\"dataframe\">\n",
       "  <thead>\n",
       "    <tr style=\"text-align: right;\">\n",
       "      <th></th>\n",
       "      <th>CrimeDateTime</th>\n",
       "      <th>Description</th>\n",
       "      <th>Inside_Outside</th>\n",
       "      <th>Weapon</th>\n",
       "      <th>Gender</th>\n",
       "      <th>Age</th>\n",
       "      <th>Race</th>\n",
       "      <th>Old_District</th>\n",
       "      <th>Neighborhood</th>\n",
       "      <th>Latitude</th>\n",
       "      <th>...</th>\n",
       "      <th>PremiseType</th>\n",
       "      <th>Total_Incidents</th>\n",
       "      <th>Year</th>\n",
       "      <th>Month</th>\n",
       "      <th>day_of_month</th>\n",
       "      <th>day_of_year</th>\n",
       "      <th>week_of_year</th>\n",
       "      <th>dayname_of_week</th>\n",
       "      <th>day_of_week</th>\n",
       "      <th>Hour</th>\n",
       "    </tr>\n",
       "  </thead>\n",
       "  <tbody>\n",
       "    <tr>\n",
       "      <th>0</th>\n",
       "      <td>2023-04-15 11:30:00+00:00</td>\n",
       "      <td>LARCENY</td>\n",
       "      <td>Inside</td>\n",
       "      <td>UNKNOWN</td>\n",
       "      <td>Female</td>\n",
       "      <td>56</td>\n",
       "      <td>WHITE</td>\n",
       "      <td>NORTHERN</td>\n",
       "      <td>HARWOOD</td>\n",
       "      <td>39.318181</td>\n",
       "      <td>...</td>\n",
       "      <td>STREET</td>\n",
       "      <td>1</td>\n",
       "      <td>2023</td>\n",
       "      <td>4</td>\n",
       "      <td>15</td>\n",
       "      <td>105</td>\n",
       "      <td>15</td>\n",
       "      <td>Saturday</td>\n",
       "      <td>5</td>\n",
       "      <td>11</td>\n",
       "    </tr>\n",
       "    <tr>\n",
       "      <th>1</th>\n",
       "      <td>2023-04-15 21:50:00+00:00</td>\n",
       "      <td>LARCENY</td>\n",
       "      <td>Inside</td>\n",
       "      <td>UNKNOWN</td>\n",
       "      <td>UNKNOWN</td>\n",
       "      <td>38</td>\n",
       "      <td>UNKNOWN</td>\n",
       "      <td>NORTHEAST</td>\n",
       "      <td>PULASKI INDUSTRIAL AREA</td>\n",
       "      <td>39.310944</td>\n",
       "      <td>...</td>\n",
       "      <td>GAS STATION</td>\n",
       "      <td>1</td>\n",
       "      <td>2023</td>\n",
       "      <td>4</td>\n",
       "      <td>15</td>\n",
       "      <td>105</td>\n",
       "      <td>15</td>\n",
       "      <td>Saturday</td>\n",
       "      <td>5</td>\n",
       "      <td>21</td>\n",
       "    </tr>\n",
       "    <tr>\n",
       "      <th>2</th>\n",
       "      <td>2023-04-15 17:00:00+00:00</td>\n",
       "      <td>LARCENY FROM AUTO</td>\n",
       "      <td>Inside</td>\n",
       "      <td>UNKNOWN</td>\n",
       "      <td>Male</td>\n",
       "      <td>56</td>\n",
       "      <td>BLACK_OR_AFRICAN_AMERICAN</td>\n",
       "      <td>SOUTHWEST</td>\n",
       "      <td>MOUNT HOLLY</td>\n",
       "      <td>39.313038</td>\n",
       "      <td>...</td>\n",
       "      <td>STREET</td>\n",
       "      <td>1</td>\n",
       "      <td>2023</td>\n",
       "      <td>4</td>\n",
       "      <td>15</td>\n",
       "      <td>105</td>\n",
       "      <td>15</td>\n",
       "      <td>Saturday</td>\n",
       "      <td>5</td>\n",
       "      <td>17</td>\n",
       "    </tr>\n",
       "    <tr>\n",
       "      <th>3</th>\n",
       "      <td>2023-04-15 21:15:00+00:00</td>\n",
       "      <td>ROBBERY</td>\n",
       "      <td>Inside</td>\n",
       "      <td>HANDGUN</td>\n",
       "      <td>Male</td>\n",
       "      <td>54</td>\n",
       "      <td>WHITE</td>\n",
       "      <td>NORTHWEST</td>\n",
       "      <td>CENTRAL PARK HEIGHTS</td>\n",
       "      <td>39.337523</td>\n",
       "      <td>...</td>\n",
       "      <td>STREET</td>\n",
       "      <td>1</td>\n",
       "      <td>2023</td>\n",
       "      <td>4</td>\n",
       "      <td>15</td>\n",
       "      <td>105</td>\n",
       "      <td>15</td>\n",
       "      <td>Saturday</td>\n",
       "      <td>5</td>\n",
       "      <td>21</td>\n",
       "    </tr>\n",
       "    <tr>\n",
       "      <th>4</th>\n",
       "      <td>2023-04-11 09:25:00+00:00</td>\n",
       "      <td>COMMON ASSAULT</td>\n",
       "      <td>Outside</td>\n",
       "      <td>PERSONAL_WEAPONS</td>\n",
       "      <td>Male</td>\n",
       "      <td>58</td>\n",
       "      <td>WHITE</td>\n",
       "      <td>WESTERN</td>\n",
       "      <td>MOSHER</td>\n",
       "      <td>39.296418</td>\n",
       "      <td>...</td>\n",
       "      <td>DRUG STORE / MED  BL</td>\n",
       "      <td>1</td>\n",
       "      <td>2023</td>\n",
       "      <td>4</td>\n",
       "      <td>11</td>\n",
       "      <td>101</td>\n",
       "      <td>15</td>\n",
       "      <td>Tuesday</td>\n",
       "      <td>1</td>\n",
       "      <td>9</td>\n",
       "    </tr>\n",
       "  </tbody>\n",
       "</table>\n",
       "<p>5 rows × 21 columns</p>\n",
       "</div>"
      ],
      "text/plain": [
       "               CrimeDateTime        Description Inside_Outside  \\\n",
       "0  2023-04-15 11:30:00+00:00            LARCENY         Inside   \n",
       "1  2023-04-15 21:50:00+00:00            LARCENY         Inside   \n",
       "2  2023-04-15 17:00:00+00:00  LARCENY FROM AUTO         Inside   \n",
       "3  2023-04-15 21:15:00+00:00            ROBBERY         Inside   \n",
       "4  2023-04-11 09:25:00+00:00     COMMON ASSAULT        Outside   \n",
       "\n",
       "             Weapon   Gender  Age                       Race Old_District  \\\n",
       "0           UNKNOWN   Female   56                      WHITE     NORTHERN   \n",
       "1           UNKNOWN  UNKNOWN   38                    UNKNOWN    NORTHEAST   \n",
       "2           UNKNOWN     Male   56  BLACK_OR_AFRICAN_AMERICAN    SOUTHWEST   \n",
       "3           HANDGUN     Male   54                      WHITE    NORTHWEST   \n",
       "4  PERSONAL_WEAPONS     Male   58                      WHITE      WESTERN   \n",
       "\n",
       "              Neighborhood   Latitude  ...           PremiseType  \\\n",
       "0                  HARWOOD  39.318181  ...                STREET   \n",
       "1  PULASKI INDUSTRIAL AREA  39.310944  ...           GAS STATION   \n",
       "2              MOUNT HOLLY  39.313038  ...                STREET   \n",
       "3     CENTRAL PARK HEIGHTS  39.337523  ...                STREET   \n",
       "4                   MOSHER  39.296418  ...  DRUG STORE / MED  BL   \n",
       "\n",
       "  Total_Incidents  Year  Month  day_of_month  day_of_year  week_of_year  \\\n",
       "0               1  2023      4            15          105            15   \n",
       "1               1  2023      4            15          105            15   \n",
       "2               1  2023      4            15          105            15   \n",
       "3               1  2023      4            15          105            15   \n",
       "4               1  2023      4            11          101            15   \n",
       "\n",
       "   dayname_of_week day_of_week  Hour  \n",
       "0         Saturday           5    11  \n",
       "1         Saturday           5    21  \n",
       "2         Saturday           5    17  \n",
       "3         Saturday           5    21  \n",
       "4          Tuesday           1     9  \n",
       "\n",
       "[5 rows x 21 columns]"
      ]
     },
     "execution_count": 45,
     "metadata": {},
     "output_type": "execute_result"
    }
   ],
   "source": [
    "df=pd.read_csv(r'clean_crime_data.csv', low_memory=False)\n",
    "df.head()"
   ]
  },
  {
   "cell_type": "code",
   "execution_count": 46,
   "id": "6813487e",
   "metadata": {},
   "outputs": [
    {
     "data": {
      "text/plain": [
       "CrimeDateTime      0\n",
       "Description        0\n",
       "Inside_Outside     0\n",
       "Weapon             0\n",
       "Gender             0\n",
       "Age                0\n",
       "Race               0\n",
       "Old_District       0\n",
       "Neighborhood       0\n",
       "Latitude           0\n",
       "Longitude          0\n",
       "PremiseType        0\n",
       "Total_Incidents    0\n",
       "Year               0\n",
       "Month              0\n",
       "day_of_month       0\n",
       "day_of_year        0\n",
       "week_of_year       0\n",
       "dayname_of_week    0\n",
       "day_of_week        0\n",
       "Hour               0\n",
       "dtype: int64"
      ]
     },
     "execution_count": 46,
     "metadata": {},
     "output_type": "execute_result"
    }
   ],
   "source": [
    "df.isnull().sum()"
   ]
  },
  {
   "cell_type": "code",
   "execution_count": 47,
   "id": "d762f699",
   "metadata": {},
   "outputs": [],
   "source": [
    "df['new_desc'] = df['Description']"
   ]
  },
  {
   "cell_type": "code",
   "execution_count": 48,
   "id": "e16c12e2",
   "metadata": {},
   "outputs": [],
   "source": [
    "df.loc[df['new_desc'].isin(['ROBBERY - COMMERCIAL', 'ROBBERY - CARJACKING' ]), 'new_desc'] = 'ROBBERY'\n",
    "df.loc[df['new_desc'].isin(['LARCENY FROM AUTO']), 'new_desc'] = 'LARCENY'\n",
    "df.loc[df['new_desc'].isin(['COMMON ASSAULT', 'AGG. ASSAULT']), 'new_desc'] = 'ASSUALT'"
   ]
  },
  {
   "cell_type": "code",
   "execution_count": 49,
   "id": "ab3a14c1",
   "metadata": {},
   "outputs": [
    {
     "data": {
      "text/plain": [
       "new_desc\n",
       "LARCENY       151225\n",
       "ASSUALT       134587\n",
       "BURGLARY       59699\n",
       "AUTO THEFT     47542\n",
       "ROBBERY        46648\n",
       "SHOOTING        6603\n",
       "HOMICIDE        3373\n",
       "RAPE            2729\n",
       "ARSON           1887\n",
       "Name: count, dtype: int64"
      ]
     },
     "execution_count": 49,
     "metadata": {},
     "output_type": "execute_result"
    }
   ],
   "source": [
    "df.new_desc.value_counts()"
   ]
  },
  {
   "cell_type": "code",
   "execution_count": 50,
   "id": "876e2096",
   "metadata": {},
   "outputs": [
    {
     "data": {
      "text/html": [
       "<div>\n",
       "<style scoped>\n",
       "    .dataframe tbody tr th:only-of-type {\n",
       "        vertical-align: middle;\n",
       "    }\n",
       "\n",
       "    .dataframe tbody tr th {\n",
       "        vertical-align: top;\n",
       "    }\n",
       "\n",
       "    .dataframe thead th {\n",
       "        text-align: right;\n",
       "    }\n",
       "</style>\n",
       "<table border=\"1\" class=\"dataframe\">\n",
       "  <thead>\n",
       "    <tr style=\"text-align: right;\">\n",
       "      <th></th>\n",
       "      <th>CrimeDateTime</th>\n",
       "      <th>Description</th>\n",
       "      <th>Inside_Outside</th>\n",
       "      <th>Weapon</th>\n",
       "      <th>Gender</th>\n",
       "      <th>Age</th>\n",
       "      <th>Race</th>\n",
       "      <th>Old_District</th>\n",
       "      <th>Neighborhood</th>\n",
       "      <th>Latitude</th>\n",
       "      <th>...</th>\n",
       "      <th>Year</th>\n",
       "      <th>Month</th>\n",
       "      <th>day_of_month</th>\n",
       "      <th>day_of_year</th>\n",
       "      <th>week_of_year</th>\n",
       "      <th>dayname_of_week</th>\n",
       "      <th>day_of_week</th>\n",
       "      <th>Hour</th>\n",
       "      <th>new_desc</th>\n",
       "      <th>violent_crime</th>\n",
       "    </tr>\n",
       "  </thead>\n",
       "  <tbody>\n",
       "    <tr>\n",
       "      <th>0</th>\n",
       "      <td>2023-04-15 11:30:00+00:00</td>\n",
       "      <td>LARCENY</td>\n",
       "      <td>Inside</td>\n",
       "      <td>UNKNOWN</td>\n",
       "      <td>Female</td>\n",
       "      <td>56</td>\n",
       "      <td>WHITE</td>\n",
       "      <td>NORTHERN</td>\n",
       "      <td>HARWOOD</td>\n",
       "      <td>39.318181</td>\n",
       "      <td>...</td>\n",
       "      <td>2023</td>\n",
       "      <td>4</td>\n",
       "      <td>15</td>\n",
       "      <td>105</td>\n",
       "      <td>15</td>\n",
       "      <td>Saturday</td>\n",
       "      <td>5</td>\n",
       "      <td>11</td>\n",
       "      <td>LARCENY</td>\n",
       "      <td>0</td>\n",
       "    </tr>\n",
       "    <tr>\n",
       "      <th>1</th>\n",
       "      <td>2023-04-15 21:50:00+00:00</td>\n",
       "      <td>LARCENY</td>\n",
       "      <td>Inside</td>\n",
       "      <td>UNKNOWN</td>\n",
       "      <td>UNKNOWN</td>\n",
       "      <td>38</td>\n",
       "      <td>UNKNOWN</td>\n",
       "      <td>NORTHEAST</td>\n",
       "      <td>PULASKI INDUSTRIAL AREA</td>\n",
       "      <td>39.310944</td>\n",
       "      <td>...</td>\n",
       "      <td>2023</td>\n",
       "      <td>4</td>\n",
       "      <td>15</td>\n",
       "      <td>105</td>\n",
       "      <td>15</td>\n",
       "      <td>Saturday</td>\n",
       "      <td>5</td>\n",
       "      <td>21</td>\n",
       "      <td>LARCENY</td>\n",
       "      <td>0</td>\n",
       "    </tr>\n",
       "    <tr>\n",
       "      <th>2</th>\n",
       "      <td>2023-04-15 17:00:00+00:00</td>\n",
       "      <td>LARCENY FROM AUTO</td>\n",
       "      <td>Inside</td>\n",
       "      <td>UNKNOWN</td>\n",
       "      <td>Male</td>\n",
       "      <td>56</td>\n",
       "      <td>BLACK_OR_AFRICAN_AMERICAN</td>\n",
       "      <td>SOUTHWEST</td>\n",
       "      <td>MOUNT HOLLY</td>\n",
       "      <td>39.313038</td>\n",
       "      <td>...</td>\n",
       "      <td>2023</td>\n",
       "      <td>4</td>\n",
       "      <td>15</td>\n",
       "      <td>105</td>\n",
       "      <td>15</td>\n",
       "      <td>Saturday</td>\n",
       "      <td>5</td>\n",
       "      <td>17</td>\n",
       "      <td>LARCENY</td>\n",
       "      <td>0</td>\n",
       "    </tr>\n",
       "    <tr>\n",
       "      <th>3</th>\n",
       "      <td>2023-04-15 21:15:00+00:00</td>\n",
       "      <td>ROBBERY</td>\n",
       "      <td>Inside</td>\n",
       "      <td>HANDGUN</td>\n",
       "      <td>Male</td>\n",
       "      <td>54</td>\n",
       "      <td>WHITE</td>\n",
       "      <td>NORTHWEST</td>\n",
       "      <td>CENTRAL PARK HEIGHTS</td>\n",
       "      <td>39.337523</td>\n",
       "      <td>...</td>\n",
       "      <td>2023</td>\n",
       "      <td>4</td>\n",
       "      <td>15</td>\n",
       "      <td>105</td>\n",
       "      <td>15</td>\n",
       "      <td>Saturday</td>\n",
       "      <td>5</td>\n",
       "      <td>21</td>\n",
       "      <td>ROBBERY</td>\n",
       "      <td>0</td>\n",
       "    </tr>\n",
       "    <tr>\n",
       "      <th>4</th>\n",
       "      <td>2023-04-11 09:25:00+00:00</td>\n",
       "      <td>COMMON ASSAULT</td>\n",
       "      <td>Outside</td>\n",
       "      <td>PERSONAL_WEAPONS</td>\n",
       "      <td>Male</td>\n",
       "      <td>58</td>\n",
       "      <td>WHITE</td>\n",
       "      <td>WESTERN</td>\n",
       "      <td>MOSHER</td>\n",
       "      <td>39.296418</td>\n",
       "      <td>...</td>\n",
       "      <td>2023</td>\n",
       "      <td>4</td>\n",
       "      <td>11</td>\n",
       "      <td>101</td>\n",
       "      <td>15</td>\n",
       "      <td>Tuesday</td>\n",
       "      <td>1</td>\n",
       "      <td>9</td>\n",
       "      <td>ASSUALT</td>\n",
       "      <td>1</td>\n",
       "    </tr>\n",
       "  </tbody>\n",
       "</table>\n",
       "<p>5 rows × 23 columns</p>\n",
       "</div>"
      ],
      "text/plain": [
       "               CrimeDateTime        Description Inside_Outside  \\\n",
       "0  2023-04-15 11:30:00+00:00            LARCENY         Inside   \n",
       "1  2023-04-15 21:50:00+00:00            LARCENY         Inside   \n",
       "2  2023-04-15 17:00:00+00:00  LARCENY FROM AUTO         Inside   \n",
       "3  2023-04-15 21:15:00+00:00            ROBBERY         Inside   \n",
       "4  2023-04-11 09:25:00+00:00     COMMON ASSAULT        Outside   \n",
       "\n",
       "             Weapon   Gender  Age                       Race Old_District  \\\n",
       "0           UNKNOWN   Female   56                      WHITE     NORTHERN   \n",
       "1           UNKNOWN  UNKNOWN   38                    UNKNOWN    NORTHEAST   \n",
       "2           UNKNOWN     Male   56  BLACK_OR_AFRICAN_AMERICAN    SOUTHWEST   \n",
       "3           HANDGUN     Male   54                      WHITE    NORTHWEST   \n",
       "4  PERSONAL_WEAPONS     Male   58                      WHITE      WESTERN   \n",
       "\n",
       "              Neighborhood   Latitude  ...  Year Month  day_of_month  \\\n",
       "0                  HARWOOD  39.318181  ...  2023     4            15   \n",
       "1  PULASKI INDUSTRIAL AREA  39.310944  ...  2023     4            15   \n",
       "2              MOUNT HOLLY  39.313038  ...  2023     4            15   \n",
       "3     CENTRAL PARK HEIGHTS  39.337523  ...  2023     4            15   \n",
       "4                   MOSHER  39.296418  ...  2023     4            11   \n",
       "\n",
       "   day_of_year  week_of_year  dayname_of_week  day_of_week  Hour new_desc  \\\n",
       "0          105            15         Saturday            5    11  LARCENY   \n",
       "1          105            15         Saturday            5    21  LARCENY   \n",
       "2          105            15         Saturday            5    17  LARCENY   \n",
       "3          105            15         Saturday            5    21  ROBBERY   \n",
       "4          101            15          Tuesday            1     9  ASSUALT   \n",
       "\n",
       "   violent_crime  \n",
       "0              0  \n",
       "1              0  \n",
       "2              0  \n",
       "3              0  \n",
       "4              1  \n",
       "\n",
       "[5 rows x 23 columns]"
      ]
     },
     "execution_count": 50,
     "metadata": {},
     "output_type": "execute_result"
    }
   ],
   "source": [
    "def crime_category(crime):\n",
    "    if crime in ['ASSUALT', 'SHOOTING', 'RAPE', 'HOMICIDE']:\n",
    "        return 1\n",
    "    else:\n",
    "        return 0\n",
    "\n",
    "\n",
    "df['violent_crime'] = df['new_desc'].apply(crime_category)\n",
    "df['violent_crime']=df['violent_crime'].astype(int)\n",
    "df.head()"
   ]
  },
  {
   "cell_type": "code",
   "execution_count": 51,
   "id": "06857794",
   "metadata": {},
   "outputs": [
    {
     "data": {
      "text/html": [
       "<div>\n",
       "<style scoped>\n",
       "    .dataframe tbody tr th:only-of-type {\n",
       "        vertical-align: middle;\n",
       "    }\n",
       "\n",
       "    .dataframe tbody tr th {\n",
       "        vertical-align: top;\n",
       "    }\n",
       "\n",
       "    .dataframe thead th {\n",
       "        text-align: right;\n",
       "    }\n",
       "</style>\n",
       "<table border=\"1\" class=\"dataframe\">\n",
       "  <thead>\n",
       "    <tr style=\"text-align: right;\">\n",
       "      <th></th>\n",
       "      <th>CrimeDateTime</th>\n",
       "      <th>Description</th>\n",
       "      <th>Inside_Outside</th>\n",
       "      <th>Weapon</th>\n",
       "      <th>Gender</th>\n",
       "      <th>Age</th>\n",
       "      <th>Race</th>\n",
       "      <th>Old_District</th>\n",
       "      <th>Neighborhood</th>\n",
       "      <th>Latitude</th>\n",
       "      <th>...</th>\n",
       "      <th>Month</th>\n",
       "      <th>day_of_month</th>\n",
       "      <th>day_of_year</th>\n",
       "      <th>week_of_year</th>\n",
       "      <th>dayname_of_week</th>\n",
       "      <th>day_of_week</th>\n",
       "      <th>Hour</th>\n",
       "      <th>new_desc</th>\n",
       "      <th>violent_crime</th>\n",
       "      <th>property_crime</th>\n",
       "    </tr>\n",
       "  </thead>\n",
       "  <tbody>\n",
       "    <tr>\n",
       "      <th>0</th>\n",
       "      <td>2023-04-15 11:30:00+00:00</td>\n",
       "      <td>LARCENY</td>\n",
       "      <td>Inside</td>\n",
       "      <td>UNKNOWN</td>\n",
       "      <td>Female</td>\n",
       "      <td>56</td>\n",
       "      <td>WHITE</td>\n",
       "      <td>NORTHERN</td>\n",
       "      <td>HARWOOD</td>\n",
       "      <td>39.318181</td>\n",
       "      <td>...</td>\n",
       "      <td>4</td>\n",
       "      <td>15</td>\n",
       "      <td>105</td>\n",
       "      <td>15</td>\n",
       "      <td>Saturday</td>\n",
       "      <td>5</td>\n",
       "      <td>11</td>\n",
       "      <td>LARCENY</td>\n",
       "      <td>0</td>\n",
       "      <td>1</td>\n",
       "    </tr>\n",
       "    <tr>\n",
       "      <th>1</th>\n",
       "      <td>2023-04-15 21:50:00+00:00</td>\n",
       "      <td>LARCENY</td>\n",
       "      <td>Inside</td>\n",
       "      <td>UNKNOWN</td>\n",
       "      <td>UNKNOWN</td>\n",
       "      <td>38</td>\n",
       "      <td>UNKNOWN</td>\n",
       "      <td>NORTHEAST</td>\n",
       "      <td>PULASKI INDUSTRIAL AREA</td>\n",
       "      <td>39.310944</td>\n",
       "      <td>...</td>\n",
       "      <td>4</td>\n",
       "      <td>15</td>\n",
       "      <td>105</td>\n",
       "      <td>15</td>\n",
       "      <td>Saturday</td>\n",
       "      <td>5</td>\n",
       "      <td>21</td>\n",
       "      <td>LARCENY</td>\n",
       "      <td>0</td>\n",
       "      <td>1</td>\n",
       "    </tr>\n",
       "    <tr>\n",
       "      <th>2</th>\n",
       "      <td>2023-04-15 17:00:00+00:00</td>\n",
       "      <td>LARCENY FROM AUTO</td>\n",
       "      <td>Inside</td>\n",
       "      <td>UNKNOWN</td>\n",
       "      <td>Male</td>\n",
       "      <td>56</td>\n",
       "      <td>BLACK_OR_AFRICAN_AMERICAN</td>\n",
       "      <td>SOUTHWEST</td>\n",
       "      <td>MOUNT HOLLY</td>\n",
       "      <td>39.313038</td>\n",
       "      <td>...</td>\n",
       "      <td>4</td>\n",
       "      <td>15</td>\n",
       "      <td>105</td>\n",
       "      <td>15</td>\n",
       "      <td>Saturday</td>\n",
       "      <td>5</td>\n",
       "      <td>17</td>\n",
       "      <td>LARCENY</td>\n",
       "      <td>0</td>\n",
       "      <td>1</td>\n",
       "    </tr>\n",
       "    <tr>\n",
       "      <th>3</th>\n",
       "      <td>2023-04-15 21:15:00+00:00</td>\n",
       "      <td>ROBBERY</td>\n",
       "      <td>Inside</td>\n",
       "      <td>HANDGUN</td>\n",
       "      <td>Male</td>\n",
       "      <td>54</td>\n",
       "      <td>WHITE</td>\n",
       "      <td>NORTHWEST</td>\n",
       "      <td>CENTRAL PARK HEIGHTS</td>\n",
       "      <td>39.337523</td>\n",
       "      <td>...</td>\n",
       "      <td>4</td>\n",
       "      <td>15</td>\n",
       "      <td>105</td>\n",
       "      <td>15</td>\n",
       "      <td>Saturday</td>\n",
       "      <td>5</td>\n",
       "      <td>21</td>\n",
       "      <td>ROBBERY</td>\n",
       "      <td>0</td>\n",
       "      <td>1</td>\n",
       "    </tr>\n",
       "    <tr>\n",
       "      <th>4</th>\n",
       "      <td>2023-04-11 09:25:00+00:00</td>\n",
       "      <td>COMMON ASSAULT</td>\n",
       "      <td>Outside</td>\n",
       "      <td>PERSONAL_WEAPONS</td>\n",
       "      <td>Male</td>\n",
       "      <td>58</td>\n",
       "      <td>WHITE</td>\n",
       "      <td>WESTERN</td>\n",
       "      <td>MOSHER</td>\n",
       "      <td>39.296418</td>\n",
       "      <td>...</td>\n",
       "      <td>4</td>\n",
       "      <td>11</td>\n",
       "      <td>101</td>\n",
       "      <td>15</td>\n",
       "      <td>Tuesday</td>\n",
       "      <td>1</td>\n",
       "      <td>9</td>\n",
       "      <td>ASSUALT</td>\n",
       "      <td>1</td>\n",
       "      <td>0</td>\n",
       "    </tr>\n",
       "  </tbody>\n",
       "</table>\n",
       "<p>5 rows × 24 columns</p>\n",
       "</div>"
      ],
      "text/plain": [
       "               CrimeDateTime        Description Inside_Outside  \\\n",
       "0  2023-04-15 11:30:00+00:00            LARCENY         Inside   \n",
       "1  2023-04-15 21:50:00+00:00            LARCENY         Inside   \n",
       "2  2023-04-15 17:00:00+00:00  LARCENY FROM AUTO         Inside   \n",
       "3  2023-04-15 21:15:00+00:00            ROBBERY         Inside   \n",
       "4  2023-04-11 09:25:00+00:00     COMMON ASSAULT        Outside   \n",
       "\n",
       "             Weapon   Gender  Age                       Race Old_District  \\\n",
       "0           UNKNOWN   Female   56                      WHITE     NORTHERN   \n",
       "1           UNKNOWN  UNKNOWN   38                    UNKNOWN    NORTHEAST   \n",
       "2           UNKNOWN     Male   56  BLACK_OR_AFRICAN_AMERICAN    SOUTHWEST   \n",
       "3           HANDGUN     Male   54                      WHITE    NORTHWEST   \n",
       "4  PERSONAL_WEAPONS     Male   58                      WHITE      WESTERN   \n",
       "\n",
       "              Neighborhood   Latitude  ...  Month day_of_month  day_of_year  \\\n",
       "0                  HARWOOD  39.318181  ...      4           15          105   \n",
       "1  PULASKI INDUSTRIAL AREA  39.310944  ...      4           15          105   \n",
       "2              MOUNT HOLLY  39.313038  ...      4           15          105   \n",
       "3     CENTRAL PARK HEIGHTS  39.337523  ...      4           15          105   \n",
       "4                   MOSHER  39.296418  ...      4           11          101   \n",
       "\n",
       "   week_of_year  dayname_of_week  day_of_week  Hour  new_desc violent_crime  \\\n",
       "0            15         Saturday            5    11   LARCENY             0   \n",
       "1            15         Saturday            5    21   LARCENY             0   \n",
       "2            15         Saturday            5    17   LARCENY             0   \n",
       "3            15         Saturday            5    21   ROBBERY             0   \n",
       "4            15          Tuesday            1     9   ASSUALT             1   \n",
       "\n",
       "   property_crime  \n",
       "0               1  \n",
       "1               1  \n",
       "2               1  \n",
       "3               1  \n",
       "4               0  \n",
       "\n",
       "[5 rows x 24 columns]"
      ]
     },
     "execution_count": 51,
     "metadata": {},
     "output_type": "execute_result"
    }
   ],
   "source": [
    "def crime_category(crime):\n",
    "    if crime in ['LARCENY', 'BURGLARY', 'ROBBERY','AUTO THEFT', 'ARSON']:\n",
    "        return 1\n",
    "    else:\n",
    "        return 0\n",
    "\n",
    "\n",
    "df['property_crime'] = df['new_desc'].apply(crime_category)\n",
    "df['property_crime']=df['property_crime'].astype(int)\n",
    "df.head()"
   ]
  },
  {
   "cell_type": "code",
   "execution_count": 52,
   "id": "7932da89",
   "metadata": {},
   "outputs": [
    {
     "data": {
      "text/plain": [
       "Index(['CrimeDateTime', 'Description', 'Inside_Outside', 'Weapon', 'Gender',\n",
       "       'Age', 'Race', 'Old_District', 'Neighborhood', 'Latitude', 'Longitude',\n",
       "       'PremiseType', 'Total_Incidents', 'Year', 'Month', 'day_of_month',\n",
       "       'day_of_year', 'week_of_year', 'dayname_of_week', 'day_of_week', 'Hour',\n",
       "       'new_desc', 'violent_crime', 'property_crime'],\n",
       "      dtype='object')"
      ]
     },
     "execution_count": 52,
     "metadata": {},
     "output_type": "execute_result"
    }
   ],
   "source": [
    "df.columns"
   ]
  },
  {
   "cell_type": "code",
   "execution_count": 53,
   "id": "4f3cd88c",
   "metadata": {},
   "outputs": [],
   "source": [
    "#df['Age'] = df['Age'].round().astype(int)"
   ]
  },
  {
   "cell_type": "code",
   "execution_count": 54,
   "id": "10f6db45",
   "metadata": {},
   "outputs": [
    {
     "data": {
      "text/plain": [
       "0    56\n",
       "1    38\n",
       "2    56\n",
       "3    54\n",
       "4    58\n",
       "Name: Age, dtype: int64"
      ]
     },
     "execution_count": 54,
     "metadata": {},
     "output_type": "execute_result"
    }
   ],
   "source": [
    "df.Age.head()"
   ]
  },
  {
   "cell_type": "code",
   "execution_count": 55,
   "id": "4fc1b7bf",
   "metadata": {},
   "outputs": [],
   "source": [
    "df1=df[['Latitude', 'Longitude','Year', 'Month', 'day_of_month',\n",
    "       'day_of_year', 'week_of_year', 'day_of_week', 'Hour', 'Age',\n",
    "        'violent_crime', 'property_crime']]"
   ]
  },
  {
   "cell_type": "code",
   "execution_count": 56,
   "id": "6bd6928d",
   "metadata": {},
   "outputs": [
    {
     "data": {
      "text/html": [
       "<div>\n",
       "<style scoped>\n",
       "    .dataframe tbody tr th:only-of-type {\n",
       "        vertical-align: middle;\n",
       "    }\n",
       "\n",
       "    .dataframe tbody tr th {\n",
       "        vertical-align: top;\n",
       "    }\n",
       "\n",
       "    .dataframe thead th {\n",
       "        text-align: right;\n",
       "    }\n",
       "</style>\n",
       "<table border=\"1\" class=\"dataframe\">\n",
       "  <thead>\n",
       "    <tr style=\"text-align: right;\">\n",
       "      <th></th>\n",
       "      <th>Latitude</th>\n",
       "      <th>Longitude</th>\n",
       "      <th>Year</th>\n",
       "      <th>Month</th>\n",
       "      <th>day_of_month</th>\n",
       "      <th>day_of_year</th>\n",
       "      <th>week_of_year</th>\n",
       "      <th>day_of_week</th>\n",
       "      <th>Hour</th>\n",
       "      <th>Age</th>\n",
       "      <th>violent_crime</th>\n",
       "      <th>property_crime</th>\n",
       "    </tr>\n",
       "  </thead>\n",
       "  <tbody>\n",
       "    <tr>\n",
       "      <th>0</th>\n",
       "      <td>39.318181</td>\n",
       "      <td>-76.609534</td>\n",
       "      <td>2023</td>\n",
       "      <td>4</td>\n",
       "      <td>15</td>\n",
       "      <td>105</td>\n",
       "      <td>15</td>\n",
       "      <td>5</td>\n",
       "      <td>11</td>\n",
       "      <td>56</td>\n",
       "      <td>0</td>\n",
       "      <td>1</td>\n",
       "    </tr>\n",
       "    <tr>\n",
       "      <th>1</th>\n",
       "      <td>39.310944</td>\n",
       "      <td>-76.530961</td>\n",
       "      <td>2023</td>\n",
       "      <td>4</td>\n",
       "      <td>15</td>\n",
       "      <td>105</td>\n",
       "      <td>15</td>\n",
       "      <td>5</td>\n",
       "      <td>21</td>\n",
       "      <td>38</td>\n",
       "      <td>0</td>\n",
       "      <td>1</td>\n",
       "    </tr>\n",
       "    <tr>\n",
       "      <th>2</th>\n",
       "      <td>39.313038</td>\n",
       "      <td>-76.674519</td>\n",
       "      <td>2023</td>\n",
       "      <td>4</td>\n",
       "      <td>15</td>\n",
       "      <td>105</td>\n",
       "      <td>15</td>\n",
       "      <td>5</td>\n",
       "      <td>17</td>\n",
       "      <td>56</td>\n",
       "      <td>0</td>\n",
       "      <td>1</td>\n",
       "    </tr>\n",
       "    <tr>\n",
       "      <th>3</th>\n",
       "      <td>39.337523</td>\n",
       "      <td>-76.664090</td>\n",
       "      <td>2023</td>\n",
       "      <td>4</td>\n",
       "      <td>15</td>\n",
       "      <td>105</td>\n",
       "      <td>15</td>\n",
       "      <td>5</td>\n",
       "      <td>21</td>\n",
       "      <td>54</td>\n",
       "      <td>0</td>\n",
       "      <td>1</td>\n",
       "    </tr>\n",
       "    <tr>\n",
       "      <th>4</th>\n",
       "      <td>39.296418</td>\n",
       "      <td>-76.661570</td>\n",
       "      <td>2023</td>\n",
       "      <td>4</td>\n",
       "      <td>11</td>\n",
       "      <td>101</td>\n",
       "      <td>15</td>\n",
       "      <td>1</td>\n",
       "      <td>9</td>\n",
       "      <td>58</td>\n",
       "      <td>1</td>\n",
       "      <td>0</td>\n",
       "    </tr>\n",
       "  </tbody>\n",
       "</table>\n",
       "</div>"
      ],
      "text/plain": [
       "    Latitude  Longitude  Year  Month  day_of_month  day_of_year  week_of_year  \\\n",
       "0  39.318181 -76.609534  2023      4            15          105            15   \n",
       "1  39.310944 -76.530961  2023      4            15          105            15   \n",
       "2  39.313038 -76.674519  2023      4            15          105            15   \n",
       "3  39.337523 -76.664090  2023      4            15          105            15   \n",
       "4  39.296418 -76.661570  2023      4            11          101            15   \n",
       "\n",
       "   day_of_week  Hour  Age  violent_crime  property_crime  \n",
       "0            5    11   56              0               1  \n",
       "1            5    21   38              0               1  \n",
       "2            5    17   56              0               1  \n",
       "3            5    21   54              0               1  \n",
       "4            1     9   58              1               0  "
      ]
     },
     "execution_count": 56,
     "metadata": {},
     "output_type": "execute_result"
    }
   ],
   "source": [
    "df1.head()"
   ]
  },
  {
   "cell_type": "code",
   "execution_count": 57,
   "id": "5daceda3",
   "metadata": {},
   "outputs": [
    {
     "data": {
      "text/plain": [
       "Index(['Latitude', 'Longitude', 'Year', 'Month', 'day_of_month', 'day_of_year',\n",
       "       'week_of_year', 'day_of_week', 'Hour', 'Age', 'violent_crime',\n",
       "       'property_crime'],\n",
       "      dtype='object')"
      ]
     },
     "execution_count": 57,
     "metadata": {},
     "output_type": "execute_result"
    }
   ],
   "source": [
    "df1.columns"
   ]
  },
  {
   "cell_type": "markdown",
   "id": "e73d25cc",
   "metadata": {},
   "source": [
    "#### RANDOM FOREST CLASSIFIER"
   ]
  },
  {
   "cell_type": "code",
   "execution_count": 58,
   "id": "f853daf1",
   "metadata": {},
   "outputs": [],
   "source": [
    "from sklearn.model_selection import train_test_split\n",
    "from sklearn.ensemble import RandomForestClassifier\n",
    "from sklearn.metrics import accuracy_score, classification_report\n",
    "\n",
    "X = df1[['Latitude', 'Longitude', 'Year', 'Month', 'day_of_month', 'day_of_year',\n",
    "       'week_of_year', 'day_of_week', 'Hour', 'Age']] # Features\n",
    "y = df1[['violent_crime', 'property_crime']]  # Target variable\n",
    "X_train, X_test, y_train, y_test = train_test_split(X, y, test_size=0.2, random_state=42)"
   ]
  },
  {
   "cell_type": "code",
   "execution_count": 59,
   "id": "8ab81a33",
   "metadata": {},
   "outputs": [
    {
     "data": {
      "text/html": [
       "<style>#sk-container-id-3 {color: black;}#sk-container-id-3 pre{padding: 0;}#sk-container-id-3 div.sk-toggleable {background-color: white;}#sk-container-id-3 label.sk-toggleable__label {cursor: pointer;display: block;width: 100%;margin-bottom: 0;padding: 0.3em;box-sizing: border-box;text-align: center;}#sk-container-id-3 label.sk-toggleable__label-arrow:before {content: \"▸\";float: left;margin-right: 0.25em;color: #696969;}#sk-container-id-3 label.sk-toggleable__label-arrow:hover:before {color: black;}#sk-container-id-3 div.sk-estimator:hover label.sk-toggleable__label-arrow:before {color: black;}#sk-container-id-3 div.sk-toggleable__content {max-height: 0;max-width: 0;overflow: hidden;text-align: left;background-color: #f0f8ff;}#sk-container-id-3 div.sk-toggleable__content pre {margin: 0.2em;color: black;border-radius: 0.25em;background-color: #f0f8ff;}#sk-container-id-3 input.sk-toggleable__control:checked~div.sk-toggleable__content {max-height: 200px;max-width: 100%;overflow: auto;}#sk-container-id-3 input.sk-toggleable__control:checked~label.sk-toggleable__label-arrow:before {content: \"▾\";}#sk-container-id-3 div.sk-estimator input.sk-toggleable__control:checked~label.sk-toggleable__label {background-color: #d4ebff;}#sk-container-id-3 div.sk-label input.sk-toggleable__control:checked~label.sk-toggleable__label {background-color: #d4ebff;}#sk-container-id-3 input.sk-hidden--visually {border: 0;clip: rect(1px 1px 1px 1px);clip: rect(1px, 1px, 1px, 1px);height: 1px;margin: -1px;overflow: hidden;padding: 0;position: absolute;width: 1px;}#sk-container-id-3 div.sk-estimator {font-family: monospace;background-color: #f0f8ff;border: 1px dotted black;border-radius: 0.25em;box-sizing: border-box;margin-bottom: 0.5em;}#sk-container-id-3 div.sk-estimator:hover {background-color: #d4ebff;}#sk-container-id-3 div.sk-parallel-item::after {content: \"\";width: 100%;border-bottom: 1px solid gray;flex-grow: 1;}#sk-container-id-3 div.sk-label:hover label.sk-toggleable__label {background-color: #d4ebff;}#sk-container-id-3 div.sk-serial::before {content: \"\";position: absolute;border-left: 1px solid gray;box-sizing: border-box;top: 0;bottom: 0;left: 50%;z-index: 0;}#sk-container-id-3 div.sk-serial {display: flex;flex-direction: column;align-items: center;background-color: white;padding-right: 0.2em;padding-left: 0.2em;position: relative;}#sk-container-id-3 div.sk-item {position: relative;z-index: 1;}#sk-container-id-3 div.sk-parallel {display: flex;align-items: stretch;justify-content: center;background-color: white;position: relative;}#sk-container-id-3 div.sk-item::before, #sk-container-id-3 div.sk-parallel-item::before {content: \"\";position: absolute;border-left: 1px solid gray;box-sizing: border-box;top: 0;bottom: 0;left: 50%;z-index: -1;}#sk-container-id-3 div.sk-parallel-item {display: flex;flex-direction: column;z-index: 1;position: relative;background-color: white;}#sk-container-id-3 div.sk-parallel-item:first-child::after {align-self: flex-end;width: 50%;}#sk-container-id-3 div.sk-parallel-item:last-child::after {align-self: flex-start;width: 50%;}#sk-container-id-3 div.sk-parallel-item:only-child::after {width: 0;}#sk-container-id-3 div.sk-dashed-wrapped {border: 1px dashed gray;margin: 0 0.4em 0.5em 0.4em;box-sizing: border-box;padding-bottom: 0.4em;background-color: white;}#sk-container-id-3 div.sk-label label {font-family: monospace;font-weight: bold;display: inline-block;line-height: 1.2em;}#sk-container-id-3 div.sk-label-container {text-align: center;}#sk-container-id-3 div.sk-container {/* jupyter's `normalize.less` sets `[hidden] { display: none; }` but bootstrap.min.css set `[hidden] { display: none !important; }` so we also need the `!important` here to be able to override the default hidden behavior on the sphinx rendered scikit-learn.org. See: https://github.com/scikit-learn/scikit-learn/issues/21755 */display: inline-block !important;position: relative;}#sk-container-id-3 div.sk-text-repr-fallback {display: none;}</style><div id=\"sk-container-id-3\" class=\"sk-top-container\"><div class=\"sk-text-repr-fallback\"><pre>RandomForestClassifier()</pre><b>In a Jupyter environment, please rerun this cell to show the HTML representation or trust the notebook. <br />On GitHub, the HTML representation is unable to render, please try loading this page with nbviewer.org.</b></div><div class=\"sk-container\" hidden><div class=\"sk-item\"><div class=\"sk-estimator sk-toggleable\"><input class=\"sk-toggleable__control sk-hidden--visually\" id=\"sk-estimator-id-3\" type=\"checkbox\" checked><label for=\"sk-estimator-id-3\" class=\"sk-toggleable__label sk-toggleable__label-arrow\">RandomForestClassifier</label><div class=\"sk-toggleable__content\"><pre>RandomForestClassifier()</pre></div></div></div></div></div>"
      ],
      "text/plain": [
       "RandomForestClassifier()"
      ]
     },
     "execution_count": 59,
     "metadata": {},
     "output_type": "execute_result"
    }
   ],
   "source": [
    "rfc = RandomForestClassifier(n_estimators=100)\n",
    "rfc.fit(X_train, y_train)"
   ]
  },
  {
   "cell_type": "code",
   "execution_count": 60,
   "id": "3ea4f8d1",
   "metadata": {},
   "outputs": [],
   "source": [
    "y_pred = rfc.predict(X_test)"
   ]
  },
  {
   "cell_type": "code",
   "execution_count": 61,
   "id": "f6771855",
   "metadata": {},
   "outputs": [
    {
     "data": {
      "text/plain": [
       "0.7354802496175392"
      ]
     },
     "execution_count": 61,
     "metadata": {},
     "output_type": "execute_result"
    }
   ],
   "source": [
    "accuracy_rfc = accuracy_score(y_test, y_pred)\n",
    "accuracy_rfc"
   ]
  },
  {
   "cell_type": "code",
   "execution_count": 62,
   "id": "3d4e55ee",
   "metadata": {},
   "outputs": [],
   "source": [
    "om=rfc.feature_importances_\n",
    "indices = np.argsort(om)"
   ]
  },
  {
   "cell_type": "code",
   "execution_count": 63,
   "id": "37a2c9d9",
   "metadata": {},
   "outputs": [],
   "source": [
    "features=df1.columns"
   ]
  },
  {
   "cell_type": "code",
   "execution_count": 64,
   "id": "63e5e2cc",
   "metadata": {},
   "outputs": [
    {
     "data": {
      "text/plain": [
       "Index(['Latitude', 'Longitude', 'Year', 'Month', 'day_of_month', 'day_of_year',\n",
       "       'week_of_year', 'day_of_week', 'Hour', 'Age', 'violent_crime',\n",
       "       'property_crime'],\n",
       "      dtype='object')"
      ]
     },
     "execution_count": 64,
     "metadata": {},
     "output_type": "execute_result"
    }
   ],
   "source": [
    "features"
   ]
  },
  {
   "cell_type": "code",
   "execution_count": 65,
   "id": "c83c1615",
   "metadata": {},
   "outputs": [
    {
     "data": {
      "text/plain": [
       "array([0.16099897, 0.16238735, 0.05661749, 0.02992435, 0.09149893,\n",
       "       0.10119748, 0.06288777, 0.05187863, 0.08981623, 0.1927928 ])"
      ]
     },
     "execution_count": 65,
     "metadata": {},
     "output_type": "execute_result"
    }
   ],
   "source": [
    "om"
   ]
  },
  {
   "cell_type": "code",
   "execution_count": 66,
   "id": "933fadcd",
   "metadata": {},
   "outputs": [
    {
     "data": {
      "text/plain": [
       "Text(0.5, 0, 'Relative Importance')"
      ]
     },
     "execution_count": 66,
     "metadata": {},
     "output_type": "execute_result"
    },
    {
     "data": {
      "image/png": "[encoded data removed]",
      "text/plain": [
       "<Figure size 640x480 with 1 Axes>"
      ]
     },
     "metadata": {},
     "output_type": "display_data"
    }
   ],
   "source": [
    "import matplotlib.pyplot as plt\n",
    "import seaborn as sns\n",
    "\n",
    "plt.figure(1)\n",
    "plt.title('Feature Importances')\n",
    "plt.barh(range(len(indices)), om[indices])\n",
    "plt.yticks(range(len(indices)), features[indices])\n",
    "plt.xlabel('Relative Importance')"
   ]
  },
  {
   "cell_type": "markdown",
   "id": "0bbc5e08",
   "metadata": {},
   "source": [
    "#### DECISION TREE CLASSIFIER"
   ]
  },
  {
   "cell_type": "code",
   "execution_count": 67,
   "id": "00ca8104",
   "metadata": {},
   "outputs": [],
   "source": [
    "from sklearn import tree"
   ]
  },
  {
   "cell_type": "code",
   "execution_count": 68,
   "id": "b3f9a872",
   "metadata": {},
   "outputs": [],
   "source": [
    "from sklearn.tree import DecisionTreeClassifier\n",
    "\n",
    "X = df1[['Latitude', 'Longitude', 'Year', 'Month', 'day_of_month', 'day_of_year',\n",
    "       'week_of_year', 'day_of_week', 'Hour', 'Age']] # Features\n",
    "y = df1[['violent_crime', 'property_crime']]  # Target variable\n",
    "X_train, X_test, y_train, y_test = train_test_split(X, y, test_size=0.2, random_state=42)"
   ]
  },
  {
   "cell_type": "code",
   "execution_count": 69,
   "id": "5ea7b6e6",
   "metadata": {},
   "outputs": [],
   "source": [
    "classifier=DecisionTreeClassifier()"
   ]
  },
  {
   "cell_type": "code",
   "execution_count": 70,
   "id": "c750e6ba",
   "metadata": {},
   "outputs": [
    {
     "data": {
      "text/html": [
       "<style>#sk-container-id-4 {color: black;}#sk-container-id-4 pre{padding: 0;}#sk-container-id-4 div.sk-toggleable {background-color: white;}#sk-container-id-4 label.sk-toggleable__label {cursor: pointer;display: block;width: 100%;margin-bottom: 0;padding: 0.3em;box-sizing: border-box;text-align: center;}#sk-container-id-4 label.sk-toggleable__label-arrow:before {content: \"▸\";float: left;margin-right: 0.25em;color: #696969;}#sk-container-id-4 label.sk-toggleable__label-arrow:hover:before {color: black;}#sk-container-id-4 div.sk-estimator:hover label.sk-toggleable__label-arrow:before {color: black;}#sk-container-id-4 div.sk-toggleable__content {max-height: 0;max-width: 0;overflow: hidden;text-align: left;background-color: #f0f8ff;}#sk-container-id-4 div.sk-toggleable__content pre {margin: 0.2em;color: black;border-radius: 0.25em;background-color: #f0f8ff;}#sk-container-id-4 input.sk-toggleable__control:checked~div.sk-toggleable__content {max-height: 200px;max-width: 100%;overflow: auto;}#sk-container-id-4 input.sk-toggleable__control:checked~label.sk-toggleable__label-arrow:before {content: \"▾\";}#sk-container-id-4 div.sk-estimator input.sk-toggleable__control:checked~label.sk-toggleable__label {background-color: #d4ebff;}#sk-container-id-4 div.sk-label input.sk-toggleable__control:checked~label.sk-toggleable__label {background-color: #d4ebff;}#sk-container-id-4 input.sk-hidden--visually {border: 0;clip: rect(1px 1px 1px 1px);clip: rect(1px, 1px, 1px, 1px);height: 1px;margin: -1px;overflow: hidden;padding: 0;position: absolute;width: 1px;}#sk-container-id-4 div.sk-estimator {font-family: monospace;background-color: #f0f8ff;border: 1px dotted black;border-radius: 0.25em;box-sizing: border-box;margin-bottom: 0.5em;}#sk-container-id-4 div.sk-estimator:hover {background-color: #d4ebff;}#sk-container-id-4 div.sk-parallel-item::after {content: \"\";width: 100%;border-bottom: 1px solid gray;flex-grow: 1;}#sk-container-id-4 div.sk-label:hover label.sk-toggleable__label {background-color: #d4ebff;}#sk-container-id-4 div.sk-serial::before {content: \"\";position: absolute;border-left: 1px solid gray;box-sizing: border-box;top: 0;bottom: 0;left: 50%;z-index: 0;}#sk-container-id-4 div.sk-serial {display: flex;flex-direction: column;align-items: center;background-color: white;padding-right: 0.2em;padding-left: 0.2em;position: relative;}#sk-container-id-4 div.sk-item {position: relative;z-index: 1;}#sk-container-id-4 div.sk-parallel {display: flex;align-items: stretch;justify-content: center;background-color: white;position: relative;}#sk-container-id-4 div.sk-item::before, #sk-container-id-4 div.sk-parallel-item::before {content: \"\";position: absolute;border-left: 1px solid gray;box-sizing: border-box;top: 0;bottom: 0;left: 50%;z-index: -1;}#sk-container-id-4 div.sk-parallel-item {display: flex;flex-direction: column;z-index: 1;position: relative;background-color: white;}#sk-container-id-4 div.sk-parallel-item:first-child::after {align-self: flex-end;width: 50%;}#sk-container-id-4 div.sk-parallel-item:last-child::after {align-self: flex-start;width: 50%;}#sk-container-id-4 div.sk-parallel-item:only-child::after {width: 0;}#sk-container-id-4 div.sk-dashed-wrapped {border: 1px dashed gray;margin: 0 0.4em 0.5em 0.4em;box-sizing: border-box;padding-bottom: 0.4em;background-color: white;}#sk-container-id-4 div.sk-label label {font-family: monospace;font-weight: bold;display: inline-block;line-height: 1.2em;}#sk-container-id-4 div.sk-label-container {text-align: center;}#sk-container-id-4 div.sk-container {/* jupyter's `normalize.less` sets `[hidden] { display: none; }` but bootstrap.min.css set `[hidden] { display: none !important; }` so we also need the `!important` here to be able to override the default hidden behavior on the sphinx rendered scikit-learn.org. See: https://github.com/scikit-learn/scikit-learn/issues/21755 */display: inline-block !important;position: relative;}#sk-container-id-4 div.sk-text-repr-fallback {display: none;}</style><div id=\"sk-container-id-4\" class=\"sk-top-container\"><div class=\"sk-text-repr-fallback\"><pre>DecisionTreeClassifier()</pre><b>In a Jupyter environment, please rerun this cell to show the HTML representation or trust the notebook. <br />On GitHub, the HTML representation is unable to render, please try loading this page with nbviewer.org.</b></div><div class=\"sk-container\" hidden><div class=\"sk-item\"><div class=\"sk-estimator sk-toggleable\"><input class=\"sk-toggleable__control sk-hidden--visually\" id=\"sk-estimator-id-4\" type=\"checkbox\" checked><label for=\"sk-estimator-id-4\" class=\"sk-toggleable__label sk-toggleable__label-arrow\">DecisionTreeClassifier</label><div class=\"sk-toggleable__content\"><pre>DecisionTreeClassifier()</pre></div></div></div></div></div>"
      ],
      "text/plain": [
       "DecisionTreeClassifier()"
      ]
     },
     "execution_count": 70,
     "metadata": {},
     "output_type": "execute_result"
    }
   ],
   "source": [
    "classifier.fit(X_train,y_train)"
   ]
  },
  {
   "cell_type": "code",
   "execution_count": 71,
   "id": "d5184b3d",
   "metadata": {},
   "outputs": [],
   "source": [
    "y_pred=classifier.predict(X_test)"
   ]
  },
  {
   "cell_type": "code",
   "execution_count": 72,
   "id": "d4d223fa",
   "metadata": {},
   "outputs": [
    {
     "data": {
      "text/plain": [
       "0.6616515700150783"
      ]
     },
     "execution_count": 72,
     "metadata": {},
     "output_type": "execute_result"
    }
   ],
   "source": [
    "accuracy_dtc = accuracy_score(y_test, y_pred)\n",
    "accuracy_dtc"
   ]
  },
  {
   "cell_type": "code",
   "execution_count": 73,
   "id": "47aa33fa",
   "metadata": {},
   "outputs": [],
   "source": [
    "om=classifier.feature_importances_\n",
    "indices = np.argsort(om)"
   ]
  },
  {
   "cell_type": "code",
   "execution_count": 74,
   "id": "c34a2eea",
   "metadata": {},
   "outputs": [],
   "source": [
    "features=df1.columns"
   ]
  },
  {
   "cell_type": "code",
   "execution_count": 75,
   "id": "9d7e6edd",
   "metadata": {},
   "outputs": [
    {
     "data": {
      "text/plain": [
       "Index(['Latitude', 'Longitude', 'Year', 'Month', 'day_of_month', 'day_of_year',\n",
       "       'week_of_year', 'day_of_week', 'Hour', 'Age', 'violent_crime',\n",
       "       'property_crime'],\n",
       "      dtype='object')"
      ]
     },
     "execution_count": 75,
     "metadata": {},
     "output_type": "execute_result"
    }
   ],
   "source": [
    "features"
   ]
  },
  {
   "cell_type": "code",
   "execution_count": 76,
   "id": "d899695a",
   "metadata": {},
   "outputs": [
    {
     "data": {
      "text/plain": [
       "Text(0.5, 0, 'Relative Importance')"
      ]
     },
     "execution_count": 76,
     "metadata": {},
     "output_type": "execute_result"
    },
    {
     "data": {
      "image/png": "[encoded data removed]",
      "text/plain": [
       "<Figure size 640x480 with 1 Axes>"
      ]
     },
     "metadata": {},
     "output_type": "display_data"
    }
   ],
   "source": [
    "import matplotlib.pyplot as plt\n",
    "import seaborn as sns\n",
    "\n",
    "plt.figure(1)\n",
    "plt.title('Feature Importances')\n",
    "plt.barh(range(len(indices)), om[indices])\n",
    "plt.yticks(range(len(indices)), features[indices])\n",
    "plt.xlabel('Relative Importance')"
   ]
  },
  {
   "cell_type": "code",
   "execution_count": 77,
   "id": "fe312a01",
   "metadata": {},
   "outputs": [
    {
     "data": {
      "text/html": [
       "<div>\n",
       "<style scoped>\n",
       "    .dataframe tbody tr th:only-of-type {\n",
       "        vertical-align: middle;\n",
       "    }\n",
       "\n",
       "    .dataframe tbody tr th {\n",
       "        vertical-align: top;\n",
       "    }\n",
       "\n",
       "    .dataframe thead th {\n",
       "        text-align: right;\n",
       "    }\n",
       "</style>\n",
       "<table border=\"1\" class=\"dataframe\">\n",
       "  <thead>\n",
       "    <tr style=\"text-align: right;\">\n",
       "      <th></th>\n",
       "      <th>Algorithm</th>\n",
       "      <th>Accuracy</th>\n",
       "    </tr>\n",
       "  </thead>\n",
       "  <tbody>\n",
       "    <tr>\n",
       "      <th>0</th>\n",
       "      <td>Random Forest</td>\n",
       "      <td>0.735480</td>\n",
       "    </tr>\n",
       "    <tr>\n",
       "      <th>1</th>\n",
       "      <td>Decision Tree</td>\n",
       "      <td>0.661652</td>\n",
       "    </tr>\n",
       "  </tbody>\n",
       "</table>\n",
       "</div>"
      ],
      "text/plain": [
       "       Algorithm  Accuracy\n",
       "0  Random Forest  0.735480\n",
       "1  Decision Tree  0.661652"
      ]
     },
     "execution_count": 77,
     "metadata": {},
     "output_type": "execute_result"
    }
   ],
   "source": [
    "data = {\n",
    "    \"Algorithm\": ['Random Forest', 'Decision Tree'],\n",
    "    \"Accuracy\": [accuracy_rfc, accuracy_dtc]\n",
    "}\n",
    "acc_df = pd.DataFrame(data)\n",
    "acc_df"
   ]
  },
  {
   "cell_type": "code",
   "execution_count": 78,
   "id": "0de0f851",
   "metadata": {},
   "outputs": [],
   "source": [
    "import pickle\n",
    "pickle_out=open(\"rfc.pkl\",\"wb\")\n",
    "pickle.dump(rfc,pickle_out)\n",
    "pickle_out.close()"
   ]
  }
 ],
 "metadata": {
  "kernelspec": {
   "display_name": "Python 3 (ipykernel)",
   "language": "python",
   "name": "python3"
  },
  "language_info": {
   "codemirror_mode": {
    "name": "ipython",
    "version": 3
   },
   "file_extension": ".py",
   "mimetype": "text/x-python",
   "name": "python",
   "nbconvert_exporter": "python",
   "pygments_lexer": "ipython3",
   "version": "3.11.5"
  }
 },
 "nbformat": 4,
 "nbformat_minor": 5
}
